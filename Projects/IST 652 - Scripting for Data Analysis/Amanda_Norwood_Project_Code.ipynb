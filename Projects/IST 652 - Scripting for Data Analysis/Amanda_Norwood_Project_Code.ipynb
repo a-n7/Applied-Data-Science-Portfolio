{
 "cells": [
  {
   "cell_type": "markdown",
   "id": "52b7eee6",
   "metadata": {},
   "source": [
    "# Final Project  IST 652"
   ]
  },
  {
   "cell_type": "code",
   "execution_count": 70,
   "id": "db958ce3",
   "metadata": {
    "id": "db958ce3"
   },
   "outputs": [],
   "source": [
    "# Project: IST 652 - Data Scripting\n",
    "# Team: Amanda Norwood\n",
    "# Purpose : To review NFL data and undersatnd various parameters and their influence \n",
    "#         : To review and understand the historical trends\n",
    "#         : Visualize the interpretations using plots and graphs\n",
    "# Data Source: https://github.com/nflverse/nfldata/blob/master/DATASETS.md#games \n",
    "#             https://www.kaggle.com/code/blueblowfish/nfl-data-analysis/data"
   ]
  },
  {
   "cell_type": "markdown",
   "id": "f030d6ea",
   "metadata": {},
   "source": [
    "## Libraries"
   ]
  },
  {
   "cell_type": "code",
   "execution_count": 1,
   "id": "874b2269-9b2b-4c38-b349-988e219fcaf5",
   "metadata": {
    "id": "874b2269-9b2b-4c38-b349-988e219fcaf5"
   },
   "outputs": [],
   "source": [
    "#importing libraries\n",
    "import pandas as pd\n",
    "from matplotlib import pyplot as plt\n",
    "import matplotlib.gridspec as gridspec\n",
    "import matplotlib\n",
    "from matplotlib import cm\n",
    "import numpy as np\n",
    "import os as os\n",
    "import pprint as pp  #data pretty print\n",
    "import re\n",
    "import seaborn as sns\n",
    "from matplotlib import pyplot as plt\n",
    "%matplotlib inline \n",
    "import matplotlib.patches as ptc\n",
    "from decimal import Decimal\n",
    "import plotly.express as px #plotly express for plotting"
   ]
  },
  {
   "cell_type": "markdown",
   "id": "f47878dc",
   "metadata": {},
   "source": [
    "## Reading Data"
   ]
  },
  {
   "cell_type": "code",
   "execution_count": 72,
   "id": "d1772b7a-6437-4a55-9b79-e76209d2938c",
   "metadata": {
    "id": "d1772b7a-6437-4a55-9b79-e76209d2938c"
   },
   "outputs": [],
   "source": [
    "#reading CSVs\n",
    "games = pd.read_csv('http://www.habitatring.com/games.csv')\n",
    "nfl_teams = pd.read_csv('nfl_teams.csv')\n",
    "nfl_allstats = pd.read_csv('nflcombine2.csv')"
   ]
  },
  {
   "cell_type": "markdown",
   "id": "34561816",
   "metadata": {},
   "source": [
    "## Data Previews"
   ]
  },
  {
   "cell_type": "code",
   "execution_count": 73,
   "id": "6d1428fa-2bff-4c7a-886b-ade34c4aad5e",
   "metadata": {
    "id": "6d1428fa-2bff-4c7a-886b-ade34c4aad5e",
    "outputId": "40bd1d45-7faf-4724-fa56-de34b7601358"
   },
   "outputs": [
    {
     "data": {
      "text/html": [
       "<div>\n",
       "<style scoped>\n",
       "    .dataframe tbody tr th:only-of-type {\n",
       "        vertical-align: middle;\n",
       "    }\n",
       "\n",
       "    .dataframe tbody tr th {\n",
       "        vertical-align: top;\n",
       "    }\n",
       "\n",
       "    .dataframe thead th {\n",
       "        text-align: right;\n",
       "    }\n",
       "</style>\n",
       "<table border=\"1\" class=\"dataframe\">\n",
       "  <thead>\n",
       "    <tr style=\"text-align: right;\">\n",
       "      <th></th>\n",
       "      <th>ID</th>\n",
       "      <th>Name</th>\n",
       "      <th>Abbreviation</th>\n",
       "      <th>Conference</th>\n",
       "      <th>Division</th>\n",
       "    </tr>\n",
       "  </thead>\n",
       "  <tbody>\n",
       "    <tr>\n",
       "      <th>0</th>\n",
       "      <td>1</td>\n",
       "      <td>Arizona Cardinals</td>\n",
       "      <td>ARI</td>\n",
       "      <td>NFC</td>\n",
       "      <td>West</td>\n",
       "    </tr>\n",
       "    <tr>\n",
       "      <th>1</th>\n",
       "      <td>2</td>\n",
       "      <td>Atlanta Falcons</td>\n",
       "      <td>ATL</td>\n",
       "      <td>NFC</td>\n",
       "      <td>South</td>\n",
       "    </tr>\n",
       "  </tbody>\n",
       "</table>\n",
       "</div>"
      ],
      "text/plain": [
       "   ID               Name Abbreviation Conference Division\n",
       "0   1  Arizona Cardinals          ARI        NFC     West\n",
       "1   2    Atlanta Falcons          ATL        NFC    South"
      ]
     },
     "execution_count": 73,
     "metadata": {},
     "output_type": "execute_result"
    }
   ],
   "source": [
    "nfl_teams.head(2)"
   ]
  },
  {
   "cell_type": "code",
   "execution_count": 74,
   "id": "d63e4210-b574-4904-8d2a-6377f9b59451",
   "metadata": {
    "id": "d63e4210-b574-4904-8d2a-6377f9b59451",
    "outputId": "898f5ba6-271a-486f-a9e7-aef6d0991d82"
   },
   "outputs": [
    {
     "data": {
      "text/html": [
       "<div>\n",
       "<style scoped>\n",
       "    .dataframe tbody tr th:only-of-type {\n",
       "        vertical-align: middle;\n",
       "    }\n",
       "\n",
       "    .dataframe tbody tr th {\n",
       "        vertical-align: top;\n",
       "    }\n",
       "\n",
       "    .dataframe thead th {\n",
       "        text-align: right;\n",
       "    }\n",
       "</style>\n",
       "<table border=\"1\" class=\"dataframe\">\n",
       "  <thead>\n",
       "    <tr style=\"text-align: right;\">\n",
       "      <th></th>\n",
       "      <th>game_id</th>\n",
       "      <th>season</th>\n",
       "      <th>game_type</th>\n",
       "      <th>week</th>\n",
       "      <th>gameday</th>\n",
       "      <th>weekday</th>\n",
       "      <th>gametime</th>\n",
       "      <th>away_team</th>\n",
       "      <th>away_score</th>\n",
       "      <th>home_team</th>\n",
       "      <th>...</th>\n",
       "      <th>wind</th>\n",
       "      <th>away_qb_id</th>\n",
       "      <th>home_qb_id</th>\n",
       "      <th>away_qb_name</th>\n",
       "      <th>home_qb_name</th>\n",
       "      <th>away_coach</th>\n",
       "      <th>home_coach</th>\n",
       "      <th>referee</th>\n",
       "      <th>stadium_id</th>\n",
       "      <th>stadium</th>\n",
       "    </tr>\n",
       "  </thead>\n",
       "  <tbody>\n",
       "    <tr>\n",
       "      <th>0</th>\n",
       "      <td>1999_01_MIN_ATL</td>\n",
       "      <td>1999</td>\n",
       "      <td>REG</td>\n",
       "      <td>1</td>\n",
       "      <td>1999-09-12</td>\n",
       "      <td>Sunday</td>\n",
       "      <td>NaN</td>\n",
       "      <td>MIN</td>\n",
       "      <td>17.0</td>\n",
       "      <td>ATL</td>\n",
       "      <td>...</td>\n",
       "      <td>NaN</td>\n",
       "      <td>00-0003761</td>\n",
       "      <td>00-0002876</td>\n",
       "      <td>Randall Cunningham</td>\n",
       "      <td>Chris Chandler</td>\n",
       "      <td>Dennis Green</td>\n",
       "      <td>Dan Reeves</td>\n",
       "      <td>Gerry Austin</td>\n",
       "      <td>ATL00</td>\n",
       "      <td>Georgia Dome</td>\n",
       "    </tr>\n",
       "    <tr>\n",
       "      <th>1</th>\n",
       "      <td>1999_01_KC_CHI</td>\n",
       "      <td>1999</td>\n",
       "      <td>REG</td>\n",
       "      <td>1</td>\n",
       "      <td>1999-09-12</td>\n",
       "      <td>Sunday</td>\n",
       "      <td>NaN</td>\n",
       "      <td>KC</td>\n",
       "      <td>17.0</td>\n",
       "      <td>CHI</td>\n",
       "      <td>...</td>\n",
       "      <td>12.0</td>\n",
       "      <td>00-0006300</td>\n",
       "      <td>00-0010560</td>\n",
       "      <td>Elvis Grbac</td>\n",
       "      <td>Shane Matthews</td>\n",
       "      <td>Gunther Cunningham</td>\n",
       "      <td>Dick Jauron</td>\n",
       "      <td>Phil Luckett</td>\n",
       "      <td>CHI98</td>\n",
       "      <td>Soldier Field</td>\n",
       "    </tr>\n",
       "    <tr>\n",
       "      <th>2</th>\n",
       "      <td>1999_01_PIT_CLE</td>\n",
       "      <td>1999</td>\n",
       "      <td>REG</td>\n",
       "      <td>1</td>\n",
       "      <td>1999-09-12</td>\n",
       "      <td>Sunday</td>\n",
       "      <td>NaN</td>\n",
       "      <td>PIT</td>\n",
       "      <td>43.0</td>\n",
       "      <td>CLE</td>\n",
       "      <td>...</td>\n",
       "      <td>12.0</td>\n",
       "      <td>00-0015700</td>\n",
       "      <td>00-0004230</td>\n",
       "      <td>Kordell Stewart</td>\n",
       "      <td>Ty Detmer</td>\n",
       "      <td>Bill Cowher</td>\n",
       "      <td>Chris Palmer</td>\n",
       "      <td>Bob McElwee</td>\n",
       "      <td>CLE00</td>\n",
       "      <td>Cleveland Browns Stadium</td>\n",
       "    </tr>\n",
       "  </tbody>\n",
       "</table>\n",
       "<p>3 rows × 45 columns</p>\n",
       "</div>"
      ],
      "text/plain": [
       "           game_id  season game_type  week     gameday weekday gametime  \\\n",
       "0  1999_01_MIN_ATL    1999       REG     1  1999-09-12  Sunday      NaN   \n",
       "1   1999_01_KC_CHI    1999       REG     1  1999-09-12  Sunday      NaN   \n",
       "2  1999_01_PIT_CLE    1999       REG     1  1999-09-12  Sunday      NaN   \n",
       "\n",
       "  away_team  away_score home_team  ...  wind  away_qb_id  home_qb_id  \\\n",
       "0       MIN        17.0       ATL  ...   NaN  00-0003761  00-0002876   \n",
       "1        KC        17.0       CHI  ...  12.0  00-0006300  00-0010560   \n",
       "2       PIT        43.0       CLE  ...  12.0  00-0015700  00-0004230   \n",
       "\n",
       "         away_qb_name    home_qb_name          away_coach    home_coach  \\\n",
       "0  Randall Cunningham  Chris Chandler        Dennis Green    Dan Reeves   \n",
       "1         Elvis Grbac  Shane Matthews  Gunther Cunningham   Dick Jauron   \n",
       "2     Kordell Stewart       Ty Detmer         Bill Cowher  Chris Palmer   \n",
       "\n",
       "        referee stadium_id                   stadium  \n",
       "0  Gerry Austin      ATL00              Georgia Dome  \n",
       "1  Phil Luckett      CHI98             Soldier Field  \n",
       "2   Bob McElwee      CLE00  Cleveland Browns Stadium  \n",
       "\n",
       "[3 rows x 45 columns]"
      ]
     },
     "execution_count": 74,
     "metadata": {},
     "output_type": "execute_result"
    }
   ],
   "source": [
    "#preview games --> uses 3-letter team abbreviation\n",
    "#result column will show NaN if the game has not been played yet\n",
    "games.head(3)"
   ]
  },
  {
   "cell_type": "code",
   "execution_count": 75,
   "id": "2aa9402e-f2d2-4c8c-83aa-e2fedbd5f3af",
   "metadata": {
    "id": "2aa9402e-f2d2-4c8c-83aa-e2fedbd5f3af",
    "outputId": "fcc0d4c8-1842-4540-dc69-a11abdb5c57b"
   },
   "outputs": [
    {
     "data": {
      "text/html": [
       "<div>\n",
       "<style scoped>\n",
       "    .dataframe tbody tr th:only-of-type {\n",
       "        vertical-align: middle;\n",
       "    }\n",
       "\n",
       "    .dataframe tbody tr th {\n",
       "        vertical-align: top;\n",
       "    }\n",
       "\n",
       "    .dataframe thead th {\n",
       "        text-align: right;\n",
       "    }\n",
       "</style>\n",
       "<table border=\"1\" class=\"dataframe\">\n",
       "  <thead>\n",
       "    <tr style=\"text-align: right;\">\n",
       "      <th></th>\n",
       "      <th>ID</th>\n",
       "      <th>Name</th>\n",
       "      <th>Abbreviation</th>\n",
       "      <th>Conference</th>\n",
       "      <th>Division</th>\n",
       "    </tr>\n",
       "  </thead>\n",
       "  <tbody>\n",
       "    <tr>\n",
       "      <th>0</th>\n",
       "      <td>1</td>\n",
       "      <td>Arizona Cardinals</td>\n",
       "      <td>ARI</td>\n",
       "      <td>NFC</td>\n",
       "      <td>West</td>\n",
       "    </tr>\n",
       "    <tr>\n",
       "      <th>1</th>\n",
       "      <td>2</td>\n",
       "      <td>Atlanta Falcons</td>\n",
       "      <td>ATL</td>\n",
       "      <td>NFC</td>\n",
       "      <td>South</td>\n",
       "    </tr>\n",
       "    <tr>\n",
       "      <th>2</th>\n",
       "      <td>3</td>\n",
       "      <td>Baltimore Ravens</td>\n",
       "      <td>BAL</td>\n",
       "      <td>AFC</td>\n",
       "      <td>North</td>\n",
       "    </tr>\n",
       "  </tbody>\n",
       "</table>\n",
       "</div>"
      ],
      "text/plain": [
       "   ID               Name Abbreviation Conference Division\n",
       "0   1  Arizona Cardinals          ARI        NFC     West\n",
       "1   2    Atlanta Falcons          ATL        NFC    South\n",
       "2   3   Baltimore Ravens          BAL        AFC    North"
      ]
     },
     "execution_count": 75,
     "metadata": {},
     "output_type": "execute_result"
    }
   ],
   "source": [
    "#preview nfl_teams --> shows team name, 3-letter abbreviation conference, and division\n",
    "nfl_teams.head(3)"
   ]
  },
  {
   "cell_type": "code",
   "execution_count": 76,
   "id": "a430686a-a9e8-486d-b262-46d4aa4ee1ba",
   "metadata": {
    "id": "a430686a-a9e8-486d-b262-46d4aa4ee1ba",
    "outputId": "ba3c6fb7-0455-4558-9a8f-c989e4e24ffd"
   },
   "outputs": [
    {
     "data": {
      "text/html": [
       "<div>\n",
       "<style scoped>\n",
       "    .dataframe tbody tr th:only-of-type {\n",
       "        vertical-align: middle;\n",
       "    }\n",
       "\n",
       "    .dataframe tbody tr th {\n",
       "        vertical-align: top;\n",
       "    }\n",
       "\n",
       "    .dataframe thead th {\n",
       "        text-align: right;\n",
       "    }\n",
       "</style>\n",
       "<table border=\"1\" class=\"dataframe\">\n",
       "  <thead>\n",
       "    <tr style=\"text-align: right;\">\n",
       "      <th></th>\n",
       "      <th>Unnamed: 0</th>\n",
       "      <th>Unnamed: 5</th>\n",
       "      <th>Opp</th>\n",
       "      <th>Tm</th>\n",
       "      <th>Opp.1</th>\n",
       "      <th>1stD</th>\n",
       "      <th>TotYd</th>\n",
       "      <th>PassY</th>\n",
       "      <th>RushY</th>\n",
       "      <th>TO</th>\n",
       "      <th>...</th>\n",
       "      <th>TotYd.1</th>\n",
       "      <th>PassY.1</th>\n",
       "      <th>RushY.1</th>\n",
       "      <th>TO.1</th>\n",
       "      <th>Offense</th>\n",
       "      <th>Defense</th>\n",
       "      <th>Sp. Tms</th>\n",
       "      <th>Home_team</th>\n",
       "      <th>Year</th>\n",
       "      <th>Winner</th>\n",
       "    </tr>\n",
       "  </thead>\n",
       "  <tbody>\n",
       "    <tr>\n",
       "      <th>0</th>\n",
       "      <td>0</td>\n",
       "      <td>W</td>\n",
       "      <td>Tampa Bay Buccaneers</td>\n",
       "      <td>31.0</td>\n",
       "      <td>17.0</td>\n",
       "      <td>17.0</td>\n",
       "      <td>256.0</td>\n",
       "      <td>158.0</td>\n",
       "      <td>98.0</td>\n",
       "      <td>2.0</td>\n",
       "      <td>...</td>\n",
       "      <td>295.0</td>\n",
       "      <td>174.0</td>\n",
       "      <td>121.0</td>\n",
       "      <td>4.0</td>\n",
       "      <td>-7.51</td>\n",
       "      <td>19.12</td>\n",
       "      <td>1.10</td>\n",
       "      <td>San Francisco 49ers</td>\n",
       "      <td>2019</td>\n",
       "      <td>San Francisco 49ers</td>\n",
       "    </tr>\n",
       "    <tr>\n",
       "      <th>1</th>\n",
       "      <td>1</td>\n",
       "      <td>W</td>\n",
       "      <td>Cincinnati Bengals</td>\n",
       "      <td>41.0</td>\n",
       "      <td>17.0</td>\n",
       "      <td>27.0</td>\n",
       "      <td>571.0</td>\n",
       "      <td>312.0</td>\n",
       "      <td>259.0</td>\n",
       "      <td>1.0</td>\n",
       "      <td>...</td>\n",
       "      <td>316.0</td>\n",
       "      <td>291.0</td>\n",
       "      <td>25.0</td>\n",
       "      <td>1.0</td>\n",
       "      <td>27.34</td>\n",
       "      <td>1.14</td>\n",
       "      <td>-6.64</td>\n",
       "      <td>San Francisco 49ers</td>\n",
       "      <td>2019</td>\n",
       "      <td>San Francisco 49ers</td>\n",
       "    </tr>\n",
       "    <tr>\n",
       "      <th>2</th>\n",
       "      <td>2</td>\n",
       "      <td>W</td>\n",
       "      <td>Pittsburgh Steelers</td>\n",
       "      <td>24.0</td>\n",
       "      <td>20.0</td>\n",
       "      <td>26.0</td>\n",
       "      <td>436.0</td>\n",
       "      <td>268.0</td>\n",
       "      <td>168.0</td>\n",
       "      <td>5.0</td>\n",
       "      <td>...</td>\n",
       "      <td>239.0</td>\n",
       "      <td>160.0</td>\n",
       "      <td>79.0</td>\n",
       "      <td>2.0</td>\n",
       "      <td>-3.72</td>\n",
       "      <td>10.20</td>\n",
       "      <td>0.12</td>\n",
       "      <td>San Francisco 49ers</td>\n",
       "      <td>2019</td>\n",
       "      <td>San Francisco 49ers</td>\n",
       "    </tr>\n",
       "  </tbody>\n",
       "</table>\n",
       "<p>3 rows × 21 columns</p>\n",
       "</div>"
      ],
      "text/plain": [
       "   Unnamed: 0 Unnamed: 5                   Opp    Tm  Opp.1  1stD  TotYd  \\\n",
       "0           0          W  Tampa Bay Buccaneers  31.0   17.0  17.0  256.0   \n",
       "1           1          W    Cincinnati Bengals  41.0   17.0  27.0  571.0   \n",
       "2           2          W   Pittsburgh Steelers  24.0   20.0  26.0  436.0   \n",
       "\n",
       "   PassY  RushY   TO  ...  TotYd.1  PassY.1  RushY.1  TO.1  Offense  Defense  \\\n",
       "0  158.0   98.0  2.0  ...    295.0    174.0    121.0   4.0    -7.51    19.12   \n",
       "1  312.0  259.0  1.0  ...    316.0    291.0     25.0   1.0    27.34     1.14   \n",
       "2  268.0  168.0  5.0  ...    239.0    160.0     79.0   2.0    -3.72    10.20   \n",
       "\n",
       "   Sp. Tms            Home_team  Year               Winner  \n",
       "0     1.10  San Francisco 49ers  2019  San Francisco 49ers  \n",
       "1    -6.64  San Francisco 49ers  2019  San Francisco 49ers  \n",
       "2     0.12  San Francisco 49ers  2019  San Francisco 49ers  \n",
       "\n",
       "[3 rows x 21 columns]"
      ]
     },
     "execution_count": 76,
     "metadata": {},
     "output_type": "execute_result"
    }
   ],
   "source": [
    "#preview nfl_allstats --> shows home/away teams total yards, passyds, rushyds, turnovers\n",
    "#--> also show's home/away as FULL team name. We will use nfl_teams to pull in 3 letter abbreviation\n",
    "nfl_allstats.head(3)"
   ]
  },
  {
   "cell_type": "markdown",
   "id": "6bdcb2fb",
   "metadata": {},
   "source": [
    "## Rename Columns"
   ]
  },
  {
   "cell_type": "code",
   "execution_count": 77,
   "id": "19b60e46-86ea-414e-bdf4-4f413f247abe",
   "metadata": {
    "id": "19b60e46-86ea-414e-bdf4-4f413f247abe",
    "outputId": "47e91c16-d75c-4662-83fc-6b240cdc0685"
   },
   "outputs": [
    {
     "data": {
      "text/plain": [
       "['Unnamed: 0',\n",
       " 'Unnamed: 5',\n",
       " 'Opp',\n",
       " 'Tm',\n",
       " 'Opp.1',\n",
       " '1stD',\n",
       " 'TotYd',\n",
       " 'PassY',\n",
       " 'RushY',\n",
       " 'TO',\n",
       " '1stD.1',\n",
       " 'TotYd.1',\n",
       " 'PassY.1',\n",
       " 'RushY.1',\n",
       " 'TO.1',\n",
       " 'Offense',\n",
       " 'Defense',\n",
       " 'Sp. Tms',\n",
       " 'Home_team',\n",
       " 'Year',\n",
       " 'Winner']"
      ]
     },
     "execution_count": 77,
     "metadata": {},
     "output_type": "execute_result"
    }
   ],
   "source": [
    "#preview nfl_allstats column names\n",
    "allstatscol = list(nfl_allstats.columns.values)\n",
    "allstatscol"
   ]
  },
  {
   "cell_type": "code",
   "execution_count": 78,
   "id": "60aadf2d-52a6-4e3f-93de-6fa72dc921de",
   "metadata": {
    "id": "60aadf2d-52a6-4e3f-93de-6fa72dc921de"
   },
   "outputs": [],
   "source": [
    "#renaming nfl_allstats columns so it is easier to understand what it means\n",
    "nfl_allstats = nfl_allstats.rename(columns={'Home_team':'home_team_stats', \n",
    "                                            'Opp':'away_team_stats',\n",
    "                                            'Unnamed: 0':'ID',\n",
    "                                            'Unnamed: 5':'W/L',\n",
    "                                            'Opp.1':'o_rank',\n",
    "                                            '1stD':'1st_downs',\n",
    "                                            'TotYd':'totyards',\n",
    "                                            'PassY':'passyds',\n",
    "                                            'RushY':'rushyds',\n",
    "                                            '1stD.1':'o_1st_downs',\n",
    "                                            'TotYd.1':'o_totyards',\n",
    "                                            'PassY.1':'o_passyds',\n",
    "                                            'RushY.1':'o_rushyds',\n",
    "                                            'TO.1':'o_TO',\n",
    "                                            'Sp. Tms':'sptmrank',\n",
    "                                            'Offense':'offenserank',\n",
    "                                            'Defense':'defenserank'})"
   ]
  },
  {
   "cell_type": "code",
   "execution_count": 79,
   "id": "97dbe452-234d-4bea-83c9-ee6966ad558f",
   "metadata": {
    "id": "97dbe452-234d-4bea-83c9-ee6966ad558f",
    "outputId": "27f79704-ae20-4b19-a16f-3c72569e1529"
   },
   "outputs": [
    {
     "data": {
      "text/html": [
       "<div>\n",
       "<style scoped>\n",
       "    .dataframe tbody tr th:only-of-type {\n",
       "        vertical-align: middle;\n",
       "    }\n",
       "\n",
       "    .dataframe tbody tr th {\n",
       "        vertical-align: top;\n",
       "    }\n",
       "\n",
       "    .dataframe thead th {\n",
       "        text-align: right;\n",
       "    }\n",
       "</style>\n",
       "<table border=\"1\" class=\"dataframe\">\n",
       "  <thead>\n",
       "    <tr style=\"text-align: right;\">\n",
       "      <th></th>\n",
       "      <th>ID</th>\n",
       "      <th>W/L</th>\n",
       "      <th>away_team_stats</th>\n",
       "      <th>Tm</th>\n",
       "      <th>o_rank</th>\n",
       "      <th>1st_downs</th>\n",
       "      <th>totyards</th>\n",
       "      <th>passyds</th>\n",
       "      <th>rushyds</th>\n",
       "      <th>TO</th>\n",
       "      <th>...</th>\n",
       "      <th>o_totyards</th>\n",
       "      <th>o_passyds</th>\n",
       "      <th>o_rushyds</th>\n",
       "      <th>o_TO</th>\n",
       "      <th>offenserank</th>\n",
       "      <th>defenserank</th>\n",
       "      <th>sptmrank</th>\n",
       "      <th>home_team_stats</th>\n",
       "      <th>Year</th>\n",
       "      <th>Winner</th>\n",
       "    </tr>\n",
       "  </thead>\n",
       "  <tbody>\n",
       "    <tr>\n",
       "      <th>0</th>\n",
       "      <td>0</td>\n",
       "      <td>W</td>\n",
       "      <td>Tampa Bay Buccaneers</td>\n",
       "      <td>31.0</td>\n",
       "      <td>17.0</td>\n",
       "      <td>17.0</td>\n",
       "      <td>256.0</td>\n",
       "      <td>158.0</td>\n",
       "      <td>98.0</td>\n",
       "      <td>2.0</td>\n",
       "      <td>...</td>\n",
       "      <td>295.0</td>\n",
       "      <td>174.0</td>\n",
       "      <td>121.0</td>\n",
       "      <td>4.0</td>\n",
       "      <td>-7.51</td>\n",
       "      <td>19.12</td>\n",
       "      <td>1.1</td>\n",
       "      <td>San Francisco 49ers</td>\n",
       "      <td>2019</td>\n",
       "      <td>San Francisco 49ers</td>\n",
       "    </tr>\n",
       "  </tbody>\n",
       "</table>\n",
       "<p>1 rows × 21 columns</p>\n",
       "</div>"
      ],
      "text/plain": [
       "   ID W/L       away_team_stats    Tm  o_rank  1st_downs  totyards  passyds  \\\n",
       "0   0   W  Tampa Bay Buccaneers  31.0    17.0       17.0     256.0    158.0   \n",
       "\n",
       "   rushyds   TO  ...  o_totyards  o_passyds  o_rushyds  o_TO  offenserank  \\\n",
       "0     98.0  2.0  ...       295.0      174.0      121.0   4.0        -7.51   \n",
       "\n",
       "   defenserank  sptmrank      home_team_stats  Year               Winner  \n",
       "0        19.12       1.1  San Francisco 49ers  2019  San Francisco 49ers  \n",
       "\n",
       "[1 rows x 21 columns]"
      ]
     },
     "execution_count": 79,
     "metadata": {},
     "output_type": "execute_result"
    }
   ],
   "source": [
    "#verifying it looks correct\n",
    "#named away_team_stats and home_team_stats with suffix. _stats so we know the team name is derived from stats table\n",
    "nfl_allstats.head(1)"
   ]
  },
  {
   "cell_type": "markdown",
   "id": "c4c99f87",
   "metadata": {},
   "source": [
    "## Data Cleanup"
   ]
  },
  {
   "cell_type": "code",
   "execution_count": 80,
   "id": "f6979cd8-9f1b-4022-adb3-e61cdb733806",
   "metadata": {
    "id": "f6979cd8-9f1b-4022-adb3-e61cdb733806",
    "outputId": "ffe85a87-9905-40c5-bf4f-9e6a177f6e4c"
   },
   "outputs": [
    {
     "data": {
      "text/plain": [
       "['game_id',\n",
       " 'season',\n",
       " 'game_type',\n",
       " 'week',\n",
       " 'gameday',\n",
       " 'weekday',\n",
       " 'gametime',\n",
       " 'away_team',\n",
       " 'away_score',\n",
       " 'home_team',\n",
       " 'home_score',\n",
       " 'location',\n",
       " 'result',\n",
       " 'total',\n",
       " 'overtime',\n",
       " 'old_game_id',\n",
       " 'gsis',\n",
       " 'nfl_detail_id',\n",
       " 'pfr',\n",
       " 'pff',\n",
       " 'espn',\n",
       " 'away_rest',\n",
       " 'home_rest',\n",
       " 'away_moneyline',\n",
       " 'home_moneyline',\n",
       " 'spread_line',\n",
       " 'away_spread_odds',\n",
       " 'home_spread_odds',\n",
       " 'total_line',\n",
       " 'under_odds',\n",
       " 'over_odds',\n",
       " 'div_game',\n",
       " 'roof',\n",
       " 'surface',\n",
       " 'temp',\n",
       " 'wind',\n",
       " 'away_qb_id',\n",
       " 'home_qb_id',\n",
       " 'away_qb_name',\n",
       " 'home_qb_name',\n",
       " 'away_coach',\n",
       " 'home_coach',\n",
       " 'referee',\n",
       " 'stadium_id',\n",
       " 'stadium']"
      ]
     },
     "execution_count": 80,
     "metadata": {},
     "output_type": "execute_result"
    }
   ],
   "source": [
    "#creating list of column names to see what we can drop\n",
    "column_names = list(games.columns.values)\n",
    "column_names"
   ]
  },
  {
   "cell_type": "code",
   "execution_count": 81,
   "id": "9ba841b6-f638-4144-a719-dc2a25846ca8",
   "metadata": {
    "id": "9ba841b6-f638-4144-a719-dc2a25846ca8"
   },
   "outputs": [],
   "source": [
    "##dropping unnecessary columns in games\n",
    "games = games.drop(['old_game_id','gametime','away_qb_id','home_qb_id',\n",
    "              'gsis','nfl_detail_id','pfr','pff','espn','away_moneyline','home_moneyline','spread_line','away_spread_odds','home_spread_odds',\n",
    "              'total_line','under_odds','over_odds','referee'],axis=1)\n",
    "\n",
    "##NaN results means the game has not been played yet - we will drop them foor now\n",
    "games = games.dropna(subset=['result'])"
   ]
  },
  {
   "cell_type": "markdown",
   "id": "0600b8d6",
   "metadata": {},
   "source": [
    "## Create New Columns for Analysis"
   ]
  },
  {
   "cell_type": "code",
   "execution_count": 82,
   "id": "21992880-7332-4cf7-b396-7d009e0b9a50",
   "metadata": {
    "id": "21992880-7332-4cf7-b396-7d009e0b9a50",
    "outputId": "5ff69100-8b5d-4aeb-f307-13b32e355d8c"
   },
   "outputs": [
    {
     "data": {
      "text/html": [
       "<div>\n",
       "<style scoped>\n",
       "    .dataframe tbody tr th:only-of-type {\n",
       "        vertical-align: middle;\n",
       "    }\n",
       "\n",
       "    .dataframe tbody tr th {\n",
       "        vertical-align: top;\n",
       "    }\n",
       "\n",
       "    .dataframe thead th {\n",
       "        text-align: right;\n",
       "    }\n",
       "</style>\n",
       "<table border=\"1\" class=\"dataframe\">\n",
       "  <thead>\n",
       "    <tr style=\"text-align: right;\">\n",
       "      <th></th>\n",
       "      <th>roof</th>\n",
       "      <th>indoor_outdoor</th>\n",
       "    </tr>\n",
       "  </thead>\n",
       "  <tbody>\n",
       "    <tr>\n",
       "      <th>0</th>\n",
       "      <td>dome</td>\n",
       "      <td>0</td>\n",
       "    </tr>\n",
       "    <tr>\n",
       "      <th>1</th>\n",
       "      <td>outdoors</td>\n",
       "      <td>1</td>\n",
       "    </tr>\n",
       "    <tr>\n",
       "      <th>2</th>\n",
       "      <td>outdoors</td>\n",
       "      <td>1</td>\n",
       "    </tr>\n",
       "    <tr>\n",
       "      <th>3</th>\n",
       "      <td>outdoors</td>\n",
       "      <td>1</td>\n",
       "    </tr>\n",
       "    <tr>\n",
       "      <th>4</th>\n",
       "      <td>dome</td>\n",
       "      <td>0</td>\n",
       "    </tr>\n",
       "  </tbody>\n",
       "</table>\n",
       "</div>"
      ],
      "text/plain": [
       "       roof  indoor_outdoor\n",
       "0      dome               0\n",
       "1  outdoors               1\n",
       "2  outdoors               1\n",
       "3  outdoors               1\n",
       "4      dome               0"
      ]
     },
     "execution_count": 82,
     "metadata": {},
     "output_type": "execute_result"
    }
   ],
   "source": [
    "##creating boolean column within games data\n",
    "#this adds a column to games and identify's between 0 and 1\n",
    "## 0 = indoor\n",
    "## 1 = outdoor\n",
    "\n",
    "def indoor_outdoor(x):\n",
    "    if x == 'outdoors':\n",
    "        return 1\n",
    "    else:\n",
    "        return 0\n",
    "    \n",
    "games['indoor_outdoor'] = games['roof'].apply(indoor_outdoor)\n",
    "##verify the def worked\n",
    "games[['roof','indoor_outdoor']].head(5)"
   ]
  },
  {
   "cell_type": "code",
   "execution_count": 83,
   "id": "692197d5-6ce6-4dc1-b243-1482a98fab67",
   "metadata": {
    "id": "692197d5-6ce6-4dc1-b243-1482a98fab67",
    "outputId": "4f4a3ec6-2578-4f19-a4cc-666b2386af22"
   },
   "outputs": [
    {
     "data": {
      "text/html": [
       "<div>\n",
       "<style scoped>\n",
       "    .dataframe tbody tr th:only-of-type {\n",
       "        vertical-align: middle;\n",
       "    }\n",
       "\n",
       "    .dataframe tbody tr th {\n",
       "        vertical-align: top;\n",
       "    }\n",
       "\n",
       "    .dataframe thead th {\n",
       "        text-align: right;\n",
       "    }\n",
       "</style>\n",
       "<table border=\"1\" class=\"dataframe\">\n",
       "  <thead>\n",
       "    <tr style=\"text-align: right;\">\n",
       "      <th></th>\n",
       "      <th>home_team</th>\n",
       "      <th>home_score</th>\n",
       "      <th>away_team</th>\n",
       "      <th>away_score</th>\n",
       "      <th>result</th>\n",
       "      <th>WL</th>\n",
       "    </tr>\n",
       "  </thead>\n",
       "  <tbody>\n",
       "    <tr>\n",
       "      <th>0</th>\n",
       "      <td>ATL</td>\n",
       "      <td>14.0</td>\n",
       "      <td>MIN</td>\n",
       "      <td>17.0</td>\n",
       "      <td>-3.0</td>\n",
       "      <td>L</td>\n",
       "    </tr>\n",
       "    <tr>\n",
       "      <th>1</th>\n",
       "      <td>CHI</td>\n",
       "      <td>20.0</td>\n",
       "      <td>KC</td>\n",
       "      <td>17.0</td>\n",
       "      <td>3.0</td>\n",
       "      <td>W</td>\n",
       "    </tr>\n",
       "    <tr>\n",
       "      <th>2</th>\n",
       "      <td>CLE</td>\n",
       "      <td>0.0</td>\n",
       "      <td>PIT</td>\n",
       "      <td>43.0</td>\n",
       "      <td>-43.0</td>\n",
       "      <td>L</td>\n",
       "    </tr>\n",
       "    <tr>\n",
       "      <th>3</th>\n",
       "      <td>GB</td>\n",
       "      <td>28.0</td>\n",
       "      <td>OAK</td>\n",
       "      <td>24.0</td>\n",
       "      <td>4.0</td>\n",
       "      <td>W</td>\n",
       "    </tr>\n",
       "    <tr>\n",
       "      <th>4</th>\n",
       "      <td>IND</td>\n",
       "      <td>31.0</td>\n",
       "      <td>BUF</td>\n",
       "      <td>14.0</td>\n",
       "      <td>17.0</td>\n",
       "      <td>W</td>\n",
       "    </tr>\n",
       "    <tr>\n",
       "      <th>...</th>\n",
       "      <td>...</td>\n",
       "      <td>...</td>\n",
       "      <td>...</td>\n",
       "      <td>...</td>\n",
       "      <td>...</td>\n",
       "      <td>...</td>\n",
       "    </tr>\n",
       "    <tr>\n",
       "      <th>6338</th>\n",
       "      <td>PIT</td>\n",
       "      <td>14.0</td>\n",
       "      <td>BAL</td>\n",
       "      <td>16.0</td>\n",
       "      <td>-2.0</td>\n",
       "      <td>L</td>\n",
       "    </tr>\n",
       "    <tr>\n",
       "      <th>6339</th>\n",
       "      <td>TEN</td>\n",
       "      <td>22.0</td>\n",
       "      <td>JAX</td>\n",
       "      <td>36.0</td>\n",
       "      <td>-14.0</td>\n",
       "      <td>L</td>\n",
       "    </tr>\n",
       "    <tr>\n",
       "      <th>6340</th>\n",
       "      <td>DEN</td>\n",
       "      <td>28.0</td>\n",
       "      <td>KC</td>\n",
       "      <td>34.0</td>\n",
       "      <td>-6.0</td>\n",
       "      <td>L</td>\n",
       "    </tr>\n",
       "    <tr>\n",
       "      <th>6341</th>\n",
       "      <td>SEA</td>\n",
       "      <td>24.0</td>\n",
       "      <td>CAR</td>\n",
       "      <td>30.0</td>\n",
       "      <td>-6.0</td>\n",
       "      <td>L</td>\n",
       "    </tr>\n",
       "    <tr>\n",
       "      <th>6342</th>\n",
       "      <td>SF</td>\n",
       "      <td>35.0</td>\n",
       "      <td>TB</td>\n",
       "      <td>7.0</td>\n",
       "      <td>28.0</td>\n",
       "      <td>W</td>\n",
       "    </tr>\n",
       "  </tbody>\n",
       "</table>\n",
       "<p>6343 rows × 6 columns</p>\n",
       "</div>"
      ],
      "text/plain": [
       "     home_team  home_score away_team  away_score  result WL\n",
       "0          ATL        14.0       MIN        17.0    -3.0  L\n",
       "1          CHI        20.0        KC        17.0     3.0  W\n",
       "2          CLE         0.0       PIT        43.0   -43.0  L\n",
       "3           GB        28.0       OAK        24.0     4.0  W\n",
       "4          IND        31.0       BUF        14.0    17.0  W\n",
       "...        ...         ...       ...         ...     ... ..\n",
       "6338       PIT        14.0       BAL        16.0    -2.0  L\n",
       "6339       TEN        22.0       JAX        36.0   -14.0  L\n",
       "6340       DEN        28.0        KC        34.0    -6.0  L\n",
       "6341       SEA        24.0       CAR        30.0    -6.0  L\n",
       "6342        SF        35.0        TB         7.0    28.0  W\n",
       "\n",
       "[6343 rows x 6 columns]"
      ]
     },
     "execution_count": 83,
     "metadata": {},
     "output_type": "execute_result"
    }
   ],
   "source": [
    "def WL(x):\n",
    "    if x >= 1:\n",
    "        return 'W'\n",
    "    elif x == 0:\n",
    "        return 'Tie'\n",
    "    else:\n",
    "        return 'L'\n",
    "    \n",
    "games['WL'] = games['result'].apply(WL)\n",
    "##verify the def worked\n",
    "games[['home_team','home_score','away_team','away_score','result','WL']]"
   ]
  },
  {
   "cell_type": "code",
   "execution_count": 84,
   "id": "d0feb597-bca8-49f6-a9ff-e6c1127e513a",
   "metadata": {
    "id": "d0feb597-bca8-49f6-a9ff-e6c1127e513a",
    "outputId": "f05f494e-8439-4a9c-a329-b45cf56e6bb7"
   },
   "outputs": [
    {
     "data": {
      "text/html": [
       "<div>\n",
       "<style scoped>\n",
       "    .dataframe tbody tr th:only-of-type {\n",
       "        vertical-align: middle;\n",
       "    }\n",
       "\n",
       "    .dataframe tbody tr th {\n",
       "        vertical-align: top;\n",
       "    }\n",
       "\n",
       "    .dataframe thead th {\n",
       "        text-align: right;\n",
       "    }\n",
       "</style>\n",
       "<table border=\"1\" class=\"dataframe\">\n",
       "  <thead>\n",
       "    <tr style=\"text-align: right;\">\n",
       "      <th></th>\n",
       "      <th>home_team</th>\n",
       "      <th>home_score</th>\n",
       "      <th>away_team</th>\n",
       "      <th>away_score</th>\n",
       "      <th>result</th>\n",
       "      <th>WL</th>\n",
       "    </tr>\n",
       "  </thead>\n",
       "  <tbody>\n",
       "    <tr>\n",
       "      <th>0</th>\n",
       "      <td>ATL</td>\n",
       "      <td>14.0</td>\n",
       "      <td>MIN</td>\n",
       "      <td>17.0</td>\n",
       "      <td>-3.0</td>\n",
       "      <td>L</td>\n",
       "    </tr>\n",
       "    <tr>\n",
       "      <th>1</th>\n",
       "      <td>CHI</td>\n",
       "      <td>20.0</td>\n",
       "      <td>KC</td>\n",
       "      <td>17.0</td>\n",
       "      <td>3.0</td>\n",
       "      <td>W</td>\n",
       "    </tr>\n",
       "    <tr>\n",
       "      <th>2</th>\n",
       "      <td>CLE</td>\n",
       "      <td>0.0</td>\n",
       "      <td>PIT</td>\n",
       "      <td>43.0</td>\n",
       "      <td>-43.0</td>\n",
       "      <td>L</td>\n",
       "    </tr>\n",
       "    <tr>\n",
       "      <th>3</th>\n",
       "      <td>GB</td>\n",
       "      <td>28.0</td>\n",
       "      <td>OAK</td>\n",
       "      <td>24.0</td>\n",
       "      <td>4.0</td>\n",
       "      <td>W</td>\n",
       "    </tr>\n",
       "    <tr>\n",
       "      <th>4</th>\n",
       "      <td>IND</td>\n",
       "      <td>31.0</td>\n",
       "      <td>BUF</td>\n",
       "      <td>14.0</td>\n",
       "      <td>17.0</td>\n",
       "      <td>W</td>\n",
       "    </tr>\n",
       "    <tr>\n",
       "      <th>...</th>\n",
       "      <td>...</td>\n",
       "      <td>...</td>\n",
       "      <td>...</td>\n",
       "      <td>...</td>\n",
       "      <td>...</td>\n",
       "      <td>...</td>\n",
       "    </tr>\n",
       "    <tr>\n",
       "      <th>6338</th>\n",
       "      <td>PIT</td>\n",
       "      <td>14.0</td>\n",
       "      <td>BAL</td>\n",
       "      <td>16.0</td>\n",
       "      <td>-2.0</td>\n",
       "      <td>L</td>\n",
       "    </tr>\n",
       "    <tr>\n",
       "      <th>6339</th>\n",
       "      <td>TEN</td>\n",
       "      <td>22.0</td>\n",
       "      <td>JAX</td>\n",
       "      <td>36.0</td>\n",
       "      <td>-14.0</td>\n",
       "      <td>L</td>\n",
       "    </tr>\n",
       "    <tr>\n",
       "      <th>6340</th>\n",
       "      <td>DEN</td>\n",
       "      <td>28.0</td>\n",
       "      <td>KC</td>\n",
       "      <td>34.0</td>\n",
       "      <td>-6.0</td>\n",
       "      <td>L</td>\n",
       "    </tr>\n",
       "    <tr>\n",
       "      <th>6341</th>\n",
       "      <td>SEA</td>\n",
       "      <td>24.0</td>\n",
       "      <td>CAR</td>\n",
       "      <td>30.0</td>\n",
       "      <td>-6.0</td>\n",
       "      <td>L</td>\n",
       "    </tr>\n",
       "    <tr>\n",
       "      <th>6342</th>\n",
       "      <td>SF</td>\n",
       "      <td>35.0</td>\n",
       "      <td>TB</td>\n",
       "      <td>7.0</td>\n",
       "      <td>28.0</td>\n",
       "      <td>W</td>\n",
       "    </tr>\n",
       "  </tbody>\n",
       "</table>\n",
       "<p>6343 rows × 6 columns</p>\n",
       "</div>"
      ],
      "text/plain": [
       "     home_team  home_score away_team  away_score  result WL\n",
       "0          ATL        14.0       MIN        17.0    -3.0  L\n",
       "1          CHI        20.0        KC        17.0     3.0  W\n",
       "2          CLE         0.0       PIT        43.0   -43.0  L\n",
       "3           GB        28.0       OAK        24.0     4.0  W\n",
       "4          IND        31.0       BUF        14.0    17.0  W\n",
       "...        ...         ...       ...         ...     ... ..\n",
       "6338       PIT        14.0       BAL        16.0    -2.0  L\n",
       "6339       TEN        22.0       JAX        36.0   -14.0  L\n",
       "6340       DEN        28.0        KC        34.0    -6.0  L\n",
       "6341       SEA        24.0       CAR        30.0    -6.0  L\n",
       "6342        SF        35.0        TB         7.0    28.0  W\n",
       "\n",
       "[6343 rows x 6 columns]"
      ]
     },
     "execution_count": 84,
     "metadata": {},
     "output_type": "execute_result"
    }
   ],
   "source": [
    "games[['home_team','home_score','away_team','away_score','result','WL']]"
   ]
  },
  {
   "cell_type": "code",
   "execution_count": 85,
   "id": "4622e70a-9fdf-4716-8d23-e450ed457333",
   "metadata": {
    "id": "4622e70a-9fdf-4716-8d23-e450ed457333",
    "outputId": "a0571b59-f59f-438e-95e5-654253d651f7"
   },
   "outputs": [
    {
     "data": {
      "text/html": [
       "<div>\n",
       "<style scoped>\n",
       "    .dataframe tbody tr th:only-of-type {\n",
       "        vertical-align: middle;\n",
       "    }\n",
       "\n",
       "    .dataframe tbody tr th {\n",
       "        vertical-align: top;\n",
       "    }\n",
       "\n",
       "    .dataframe thead th {\n",
       "        text-align: right;\n",
       "    }\n",
       "</style>\n",
       "<table border=\"1\" class=\"dataframe\">\n",
       "  <thead>\n",
       "    <tr style=\"text-align: right;\">\n",
       "      <th></th>\n",
       "      <th>season</th>\n",
       "      <th>home_team</th>\n",
       "      <th>home_score</th>\n",
       "      <th>away_team</th>\n",
       "      <th>away_score</th>\n",
       "      <th>result</th>\n",
       "      <th>WL</th>\n",
       "    </tr>\n",
       "  </thead>\n",
       "  <tbody>\n",
       "    <tr>\n",
       "      <th>912</th>\n",
       "      <td>2002</td>\n",
       "      <td>PIT</td>\n",
       "      <td>34.0</td>\n",
       "      <td>ATL</td>\n",
       "      <td>34.0</td>\n",
       "      <td>0.0</td>\n",
       "      <td>Tie</td>\n",
       "    </tr>\n",
       "    <tr>\n",
       "      <th>2526</th>\n",
       "      <td>2008</td>\n",
       "      <td>CIN</td>\n",
       "      <td>13.0</td>\n",
       "      <td>PHI</td>\n",
       "      <td>13.0</td>\n",
       "      <td>0.0</td>\n",
       "      <td>Tie</td>\n",
       "    </tr>\n",
       "    <tr>\n",
       "      <th>3590</th>\n",
       "      <td>2012</td>\n",
       "      <td>SF</td>\n",
       "      <td>24.0</td>\n",
       "      <td>STL</td>\n",
       "      <td>24.0</td>\n",
       "      <td>0.0</td>\n",
       "      <td>Tie</td>\n",
       "    </tr>\n",
       "    <tr>\n",
       "      <th>3880</th>\n",
       "      <td>2013</td>\n",
       "      <td>GB</td>\n",
       "      <td>26.0</td>\n",
       "      <td>MIN</td>\n",
       "      <td>26.0</td>\n",
       "      <td>0.0</td>\n",
       "      <td>Tie</td>\n",
       "    </tr>\n",
       "    <tr>\n",
       "      <th>4059</th>\n",
       "      <td>2014</td>\n",
       "      <td>CIN</td>\n",
       "      <td>37.0</td>\n",
       "      <td>CAR</td>\n",
       "      <td>37.0</td>\n",
       "      <td>0.0</td>\n",
       "      <td>Tie</td>\n",
       "    </tr>\n",
       "    <tr>\n",
       "      <th>4620</th>\n",
       "      <td>2016</td>\n",
       "      <td>ARI</td>\n",
       "      <td>6.0</td>\n",
       "      <td>SEA</td>\n",
       "      <td>6.0</td>\n",
       "      <td>0.0</td>\n",
       "      <td>Tie</td>\n",
       "    </tr>\n",
       "    <tr>\n",
       "      <th>4623</th>\n",
       "      <td>2016</td>\n",
       "      <td>CIN</td>\n",
       "      <td>27.0</td>\n",
       "      <td>WAS</td>\n",
       "      <td>27.0</td>\n",
       "      <td>0.0</td>\n",
       "      <td>Tie</td>\n",
       "    </tr>\n",
       "    <tr>\n",
       "      <th>5051</th>\n",
       "      <td>2018</td>\n",
       "      <td>CLE</td>\n",
       "      <td>21.0</td>\n",
       "      <td>PIT</td>\n",
       "      <td>21.0</td>\n",
       "      <td>0.0</td>\n",
       "      <td>Tie</td>\n",
       "    </tr>\n",
       "    <tr>\n",
       "      <th>5068</th>\n",
       "      <td>2018</td>\n",
       "      <td>GB</td>\n",
       "      <td>29.0</td>\n",
       "      <td>MIN</td>\n",
       "      <td>29.0</td>\n",
       "      <td>0.0</td>\n",
       "      <td>Tie</td>\n",
       "    </tr>\n",
       "    <tr>\n",
       "      <th>5326</th>\n",
       "      <td>2019</td>\n",
       "      <td>ARI</td>\n",
       "      <td>27.0</td>\n",
       "      <td>DET</td>\n",
       "      <td>27.0</td>\n",
       "      <td>0.0</td>\n",
       "      <td>Tie</td>\n",
       "    </tr>\n",
       "    <tr>\n",
       "      <th>5622</th>\n",
       "      <td>2020</td>\n",
       "      <td>PHI</td>\n",
       "      <td>23.0</td>\n",
       "      <td>CIN</td>\n",
       "      <td>23.0</td>\n",
       "      <td>0.0</td>\n",
       "      <td>Tie</td>\n",
       "    </tr>\n",
       "    <tr>\n",
       "      <th>5993</th>\n",
       "      <td>2021</td>\n",
       "      <td>PIT</td>\n",
       "      <td>16.0</td>\n",
       "      <td>DET</td>\n",
       "      <td>16.0</td>\n",
       "      <td>0.0</td>\n",
       "      <td>Tie</td>\n",
       "    </tr>\n",
       "    <tr>\n",
       "      <th>6143</th>\n",
       "      <td>2022</td>\n",
       "      <td>HOU</td>\n",
       "      <td>20.0</td>\n",
       "      <td>IND</td>\n",
       "      <td>20.0</td>\n",
       "      <td>0.0</td>\n",
       "      <td>Tie</td>\n",
       "    </tr>\n",
       "    <tr>\n",
       "      <th>6324</th>\n",
       "      <td>2022</td>\n",
       "      <td>NYG</td>\n",
       "      <td>20.0</td>\n",
       "      <td>WAS</td>\n",
       "      <td>20.0</td>\n",
       "      <td>0.0</td>\n",
       "      <td>Tie</td>\n",
       "    </tr>\n",
       "  </tbody>\n",
       "</table>\n",
       "</div>"
      ],
      "text/plain": [
       "      season home_team  home_score away_team  away_score  result   WL\n",
       "912     2002       PIT        34.0       ATL        34.0     0.0  Tie\n",
       "2526    2008       CIN        13.0       PHI        13.0     0.0  Tie\n",
       "3590    2012        SF        24.0       STL        24.0     0.0  Tie\n",
       "3880    2013        GB        26.0       MIN        26.0     0.0  Tie\n",
       "4059    2014       CIN        37.0       CAR        37.0     0.0  Tie\n",
       "4620    2016       ARI         6.0       SEA         6.0     0.0  Tie\n",
       "4623    2016       CIN        27.0       WAS        27.0     0.0  Tie\n",
       "5051    2018       CLE        21.0       PIT        21.0     0.0  Tie\n",
       "5068    2018        GB        29.0       MIN        29.0     0.0  Tie\n",
       "5326    2019       ARI        27.0       DET        27.0     0.0  Tie\n",
       "5622    2020       PHI        23.0       CIN        23.0     0.0  Tie\n",
       "5993    2021       PIT        16.0       DET        16.0     0.0  Tie\n",
       "6143    2022       HOU        20.0       IND        20.0     0.0  Tie\n",
       "6324    2022       NYG        20.0       WAS        20.0     0.0  Tie"
      ]
     },
     "execution_count": 85,
     "metadata": {},
     "output_type": "execute_result"
    }
   ],
   "source": [
    "games[['season','home_team','home_score','away_team','away_score','result','WL']].query(\"WL == 'Tie'\")"
   ]
  },
  {
   "cell_type": "code",
   "execution_count": 86,
   "id": "5146e175-b912-46f8-b41f-c86bcb6a7c9f",
   "metadata": {
    "id": "5146e175-b912-46f8-b41f-c86bcb6a7c9f",
    "outputId": "0d6a457e-ceb9-4ec3-be33-4a6f9dee981b"
   },
   "outputs": [
    {
     "data": {
      "text/plain": [
       "['game_id',\n",
       " 'season',\n",
       " 'game_type',\n",
       " 'week',\n",
       " 'gameday',\n",
       " 'weekday',\n",
       " 'away_team',\n",
       " 'away_score',\n",
       " 'home_team',\n",
       " 'home_score',\n",
       " 'location',\n",
       " 'result',\n",
       " 'total',\n",
       " 'overtime',\n",
       " 'away_rest',\n",
       " 'home_rest',\n",
       " 'div_game',\n",
       " 'roof',\n",
       " 'surface',\n",
       " 'temp',\n",
       " 'wind',\n",
       " 'away_qb_name',\n",
       " 'home_qb_name',\n",
       " 'away_coach',\n",
       " 'home_coach',\n",
       " 'stadium_id',\n",
       " 'stadium',\n",
       " 'indoor_outdoor',\n",
       " 'WL']"
      ]
     },
     "execution_count": 86,
     "metadata": {},
     "output_type": "execute_result"
    }
   ],
   "source": [
    "#creating list of column names\n",
    "column_names = list(games.columns.values)\n",
    "column_names"
   ]
  },
  {
   "cell_type": "markdown",
   "id": "4af8f17b",
   "metadata": {},
   "source": [
    "## Data Merging"
   ]
  },
  {
   "cell_type": "code",
   "execution_count": 87,
   "id": "5d4f8abc-e5dc-458f-a3f3-a78321f2172c",
   "metadata": {
    "id": "5d4f8abc-e5dc-458f-a3f3-a78321f2172c",
    "outputId": "f94fe1c3-e17d-4130-8afe-e4e7541187c5"
   },
   "outputs": [
    {
     "data": {
      "text/html": [
       "<div>\n",
       "<style scoped>\n",
       "    .dataframe tbody tr th:only-of-type {\n",
       "        vertical-align: middle;\n",
       "    }\n",
       "\n",
       "    .dataframe tbody tr th {\n",
       "        vertical-align: top;\n",
       "    }\n",
       "\n",
       "    .dataframe thead th {\n",
       "        text-align: right;\n",
       "    }\n",
       "</style>\n",
       "<table border=\"1\" class=\"dataframe\">\n",
       "  <thead>\n",
       "    <tr style=\"text-align: right;\">\n",
       "      <th></th>\n",
       "      <th>ID</th>\n",
       "      <th>W/L</th>\n",
       "      <th>away_team_stats</th>\n",
       "      <th>Tm</th>\n",
       "      <th>o_rank</th>\n",
       "      <th>1st_downs</th>\n",
       "      <th>totyards</th>\n",
       "      <th>passyds</th>\n",
       "      <th>rushyds</th>\n",
       "      <th>TO</th>\n",
       "      <th>...</th>\n",
       "      <th>offenserank</th>\n",
       "      <th>defenserank</th>\n",
       "      <th>sptmrank</th>\n",
       "      <th>home_team_stats</th>\n",
       "      <th>Year</th>\n",
       "      <th>Winner</th>\n",
       "      <th>Name_x</th>\n",
       "      <th>away_team_abr</th>\n",
       "      <th>Name_y</th>\n",
       "      <th>home_team_abr</th>\n",
       "    </tr>\n",
       "  </thead>\n",
       "  <tbody>\n",
       "    <tr>\n",
       "      <th>0</th>\n",
       "      <td>0</td>\n",
       "      <td>W</td>\n",
       "      <td>Tampa Bay Buccaneers</td>\n",
       "      <td>31.0</td>\n",
       "      <td>17.0</td>\n",
       "      <td>17.0</td>\n",
       "      <td>256.0</td>\n",
       "      <td>158.0</td>\n",
       "      <td>98.0</td>\n",
       "      <td>2.0</td>\n",
       "      <td>...</td>\n",
       "      <td>-7.51</td>\n",
       "      <td>19.12</td>\n",
       "      <td>1.10</td>\n",
       "      <td>San Francisco 49ers</td>\n",
       "      <td>2019</td>\n",
       "      <td>San Francisco 49ers</td>\n",
       "      <td>Tampa Bay Buccaneers</td>\n",
       "      <td>TB</td>\n",
       "      <td>San Francisco 49ers</td>\n",
       "      <td>SF</td>\n",
       "    </tr>\n",
       "    <tr>\n",
       "      <th>1</th>\n",
       "      <td>1</td>\n",
       "      <td>W</td>\n",
       "      <td>Cincinnati Bengals</td>\n",
       "      <td>41.0</td>\n",
       "      <td>17.0</td>\n",
       "      <td>27.0</td>\n",
       "      <td>571.0</td>\n",
       "      <td>312.0</td>\n",
       "      <td>259.0</td>\n",
       "      <td>1.0</td>\n",
       "      <td>...</td>\n",
       "      <td>27.34</td>\n",
       "      <td>1.14</td>\n",
       "      <td>-6.64</td>\n",
       "      <td>San Francisco 49ers</td>\n",
       "      <td>2019</td>\n",
       "      <td>San Francisco 49ers</td>\n",
       "      <td>Cincinnati Bengals</td>\n",
       "      <td>CIN</td>\n",
       "      <td>San Francisco 49ers</td>\n",
       "      <td>SF</td>\n",
       "    </tr>\n",
       "    <tr>\n",
       "      <th>2</th>\n",
       "      <td>2</td>\n",
       "      <td>W</td>\n",
       "      <td>Pittsburgh Steelers</td>\n",
       "      <td>24.0</td>\n",
       "      <td>20.0</td>\n",
       "      <td>26.0</td>\n",
       "      <td>436.0</td>\n",
       "      <td>268.0</td>\n",
       "      <td>168.0</td>\n",
       "      <td>5.0</td>\n",
       "      <td>...</td>\n",
       "      <td>-3.72</td>\n",
       "      <td>10.20</td>\n",
       "      <td>0.12</td>\n",
       "      <td>San Francisco 49ers</td>\n",
       "      <td>2019</td>\n",
       "      <td>San Francisco 49ers</td>\n",
       "      <td>Pittsburgh Steelers</td>\n",
       "      <td>PIT</td>\n",
       "      <td>San Francisco 49ers</td>\n",
       "      <td>SF</td>\n",
       "    </tr>\n",
       "  </tbody>\n",
       "</table>\n",
       "<p>3 rows × 25 columns</p>\n",
       "</div>"
      ],
      "text/plain": [
       "   ID W/L       away_team_stats    Tm  o_rank  1st_downs  totyards  passyds  \\\n",
       "0   0   W  Tampa Bay Buccaneers  31.0    17.0       17.0     256.0    158.0   \n",
       "1   1   W    Cincinnati Bengals  41.0    17.0       27.0     571.0    312.0   \n",
       "2   2   W   Pittsburgh Steelers  24.0    20.0       26.0     436.0    268.0   \n",
       "\n",
       "   rushyds   TO  ...  offenserank  defenserank  sptmrank      home_team_stats  \\\n",
       "0     98.0  2.0  ...        -7.51        19.12      1.10  San Francisco 49ers   \n",
       "1    259.0  1.0  ...        27.34         1.14     -6.64  San Francisco 49ers   \n",
       "2    168.0  5.0  ...        -3.72        10.20      0.12  San Francisco 49ers   \n",
       "\n",
       "   Year               Winner                Name_x  away_team_abr  \\\n",
       "0  2019  San Francisco 49ers  Tampa Bay Buccaneers             TB   \n",
       "1  2019  San Francisco 49ers    Cincinnati Bengals            CIN   \n",
       "2  2019  San Francisco 49ers   Pittsburgh Steelers            PIT   \n",
       "\n",
       "                Name_y  home_team_abr  \n",
       "0  San Francisco 49ers             SF  \n",
       "1  San Francisco 49ers             SF  \n",
       "2  San Francisco 49ers             SF  \n",
       "\n",
       "[3 rows x 25 columns]"
      ]
     },
     "execution_count": 87,
     "metadata": {},
     "output_type": "execute_result"
    }
   ],
   "source": [
    "##merging short abbreviation team names\n",
    "\n",
    "#merging away_team name with the abr\n",
    "nfl_allstats = pd.merge(nfl_allstats, nfl_teams[['Name','Abbreviation']], left_on='away_team_stats', right_on = 'Name',how='left')\n",
    "#renaming column as awway_team_br\n",
    "nfl_allstats = nfl_allstats.rename(columns={'Abbreviation':'away_team_abr'})\n",
    "\n",
    "#merging home_team name with abr\n",
    "nfl_allstats = pd.merge(nfl_allstats, nfl_teams[['Name','Abbreviation']], left_on='home_team_stats', right_on = 'Name',how='left')\n",
    "nfl_allstats = nfl_allstats.rename(columns={'Abbreviation':'home_team_abr'})\n",
    "\n",
    "nfl_allstats.head(3)"
   ]
  },
  {
   "cell_type": "code",
   "execution_count": 88,
   "id": "fe3330a7-5b1d-4e90-9a20-8d123633342c",
   "metadata": {
    "id": "fe3330a7-5b1d-4e90-9a20-8d123633342c",
    "outputId": "3aa3c2be-50a0-45a9-b490-55a46df98e14"
   },
   "outputs": [
    {
     "data": {
      "text/html": [
       "<div>\n",
       "<style scoped>\n",
       "    .dataframe tbody tr th:only-of-type {\n",
       "        vertical-align: middle;\n",
       "    }\n",
       "\n",
       "    .dataframe tbody tr th {\n",
       "        vertical-align: top;\n",
       "    }\n",
       "\n",
       "    .dataframe thead th {\n",
       "        text-align: right;\n",
       "    }\n",
       "</style>\n",
       "<table border=\"1\" class=\"dataframe\">\n",
       "  <thead>\n",
       "    <tr style=\"text-align: right;\">\n",
       "      <th></th>\n",
       "      <th>season</th>\n",
       "      <th>week</th>\n",
       "      <th>away_score</th>\n",
       "      <th>home_score</th>\n",
       "      <th>result</th>\n",
       "      <th>total</th>\n",
       "      <th>overtime</th>\n",
       "      <th>away_rest</th>\n",
       "      <th>home_rest</th>\n",
       "      <th>div_game</th>\n",
       "      <th>...</th>\n",
       "      <th>TO</th>\n",
       "      <th>o_1st_downs</th>\n",
       "      <th>o_totyards</th>\n",
       "      <th>o_passyds</th>\n",
       "      <th>o_rushyds</th>\n",
       "      <th>o_TO</th>\n",
       "      <th>offenserank</th>\n",
       "      <th>defenserank</th>\n",
       "      <th>sptmrank</th>\n",
       "      <th>Year</th>\n",
       "    </tr>\n",
       "  </thead>\n",
       "  <tbody>\n",
       "    <tr>\n",
       "      <th>count</th>\n",
       "      <td>452.000000</td>\n",
       "      <td>452.000000</td>\n",
       "      <td>452.000000</td>\n",
       "      <td>452.000000</td>\n",
       "      <td>452.000000</td>\n",
       "      <td>452.000000</td>\n",
       "      <td>452.000000</td>\n",
       "      <td>452.000000</td>\n",
       "      <td>452.000000</td>\n",
       "      <td>452.000000</td>\n",
       "      <td>...</td>\n",
       "      <td>452.000000</td>\n",
       "      <td>452.000000</td>\n",
       "      <td>452.000000</td>\n",
       "      <td>452.000000</td>\n",
       "      <td>452.000000</td>\n",
       "      <td>452.000000</td>\n",
       "      <td>452.000000</td>\n",
       "      <td>452.000000</td>\n",
       "      <td>452.000000</td>\n",
       "      <td>452.000000</td>\n",
       "    </tr>\n",
       "    <tr>\n",
       "      <th>mean</th>\n",
       "      <td>2020.176991</td>\n",
       "      <td>9.261062</td>\n",
       "      <td>22.557522</td>\n",
       "      <td>23.823009</td>\n",
       "      <td>1.265487</td>\n",
       "      <td>46.380531</td>\n",
       "      <td>0.057522</td>\n",
       "      <td>7.530973</td>\n",
       "      <td>7.442478</td>\n",
       "      <td>0.404867</td>\n",
       "      <td>...</td>\n",
       "      <td>1.836283</td>\n",
       "      <td>20.190265</td>\n",
       "      <td>344.878319</td>\n",
       "      <td>230.176991</td>\n",
       "      <td>114.701327</td>\n",
       "      <td>1.763274</td>\n",
       "      <td>2.739093</td>\n",
       "      <td>-1.974889</td>\n",
       "      <td>0.110066</td>\n",
       "      <td>2020.176991</td>\n",
       "    </tr>\n",
       "    <tr>\n",
       "      <th>std</th>\n",
       "      <td>0.976260</td>\n",
       "      <td>5.503314</td>\n",
       "      <td>9.899439</td>\n",
       "      <td>9.843773</td>\n",
       "      <td>13.982420</td>\n",
       "      <td>13.938776</td>\n",
       "      <td>0.233096</td>\n",
       "      <td>2.046340</td>\n",
       "      <td>1.959402</td>\n",
       "      <td>0.491410</td>\n",
       "      <td>...</td>\n",
       "      <td>1.059102</td>\n",
       "      <td>5.042093</td>\n",
       "      <td>87.438243</td>\n",
       "      <td>80.285077</td>\n",
       "      <td>51.944083</td>\n",
       "      <td>0.996302</td>\n",
       "      <td>11.670444</td>\n",
       "      <td>11.958963</td>\n",
       "      <td>4.896437</td>\n",
       "      <td>0.976260</td>\n",
       "    </tr>\n",
       "    <tr>\n",
       "      <th>min</th>\n",
       "      <td>2019.000000</td>\n",
       "      <td>1.000000</td>\n",
       "      <td>0.000000</td>\n",
       "      <td>0.000000</td>\n",
       "      <td>-43.000000</td>\n",
       "      <td>15.000000</td>\n",
       "      <td>0.000000</td>\n",
       "      <td>4.000000</td>\n",
       "      <td>4.000000</td>\n",
       "      <td>0.000000</td>\n",
       "      <td>...</td>\n",
       "      <td>1.000000</td>\n",
       "      <td>6.000000</td>\n",
       "      <td>105.000000</td>\n",
       "      <td>-6.000000</td>\n",
       "      <td>8.000000</td>\n",
       "      <td>1.000000</td>\n",
       "      <td>-35.440000</td>\n",
       "      <td>-32.930000</td>\n",
       "      <td>-14.140000</td>\n",
       "      <td>2019.000000</td>\n",
       "    </tr>\n",
       "    <tr>\n",
       "      <th>25%</th>\n",
       "      <td>2019.000000</td>\n",
       "      <td>4.000000</td>\n",
       "      <td>16.000000</td>\n",
       "      <td>17.000000</td>\n",
       "      <td>-6.000000</td>\n",
       "      <td>36.000000</td>\n",
       "      <td>0.000000</td>\n",
       "      <td>7.000000</td>\n",
       "      <td>7.000000</td>\n",
       "      <td>0.000000</td>\n",
       "      <td>...</td>\n",
       "      <td>1.000000</td>\n",
       "      <td>17.000000</td>\n",
       "      <td>281.750000</td>\n",
       "      <td>173.000000</td>\n",
       "      <td>74.000000</td>\n",
       "      <td>1.000000</td>\n",
       "      <td>-4.440000</td>\n",
       "      <td>-10.535000</td>\n",
       "      <td>-3.335000</td>\n",
       "      <td>2019.000000</td>\n",
       "    </tr>\n",
       "    <tr>\n",
       "      <th>50%</th>\n",
       "      <td>2020.000000</td>\n",
       "      <td>9.000000</td>\n",
       "      <td>23.000000</td>\n",
       "      <td>24.000000</td>\n",
       "      <td>1.500000</td>\n",
       "      <td>45.000000</td>\n",
       "      <td>0.000000</td>\n",
       "      <td>7.000000</td>\n",
       "      <td>7.000000</td>\n",
       "      <td>0.000000</td>\n",
       "      <td>...</td>\n",
       "      <td>2.000000</td>\n",
       "      <td>20.000000</td>\n",
       "      <td>349.500000</td>\n",
       "      <td>227.500000</td>\n",
       "      <td>106.000000</td>\n",
       "      <td>1.000000</td>\n",
       "      <td>3.690000</td>\n",
       "      <td>-2.685000</td>\n",
       "      <td>0.155000</td>\n",
       "      <td>2020.000000</td>\n",
       "    </tr>\n",
       "    <tr>\n",
       "      <th>75%</th>\n",
       "      <td>2021.000000</td>\n",
       "      <td>14.000000</td>\n",
       "      <td>30.000000</td>\n",
       "      <td>30.000000</td>\n",
       "      <td>10.000000</td>\n",
       "      <td>56.000000</td>\n",
       "      <td>0.000000</td>\n",
       "      <td>7.000000</td>\n",
       "      <td>7.000000</td>\n",
       "      <td>1.000000</td>\n",
       "      <td>...</td>\n",
       "      <td>2.000000</td>\n",
       "      <td>23.000000</td>\n",
       "      <td>402.000000</td>\n",
       "      <td>280.000000</td>\n",
       "      <td>146.000000</td>\n",
       "      <td>2.000000</td>\n",
       "      <td>10.470000</td>\n",
       "      <td>5.255000</td>\n",
       "      <td>3.275000</td>\n",
       "      <td>2021.000000</td>\n",
       "    </tr>\n",
       "    <tr>\n",
       "      <th>max</th>\n",
       "      <td>2022.000000</td>\n",
       "      <td>21.000000</td>\n",
       "      <td>51.000000</td>\n",
       "      <td>56.000000</td>\n",
       "      <td>40.000000</td>\n",
       "      <td>94.000000</td>\n",
       "      <td>1.000000</td>\n",
       "      <td>17.000000</td>\n",
       "      <td>15.000000</td>\n",
       "      <td>1.000000</td>\n",
       "      <td>...</td>\n",
       "      <td>7.000000</td>\n",
       "      <td>35.000000</td>\n",
       "      <td>572.000000</td>\n",
       "      <td>461.000000</td>\n",
       "      <td>288.000000</td>\n",
       "      <td>7.000000</td>\n",
       "      <td>40.690000</td>\n",
       "      <td>35.650000</td>\n",
       "      <td>17.390000</td>\n",
       "      <td>2022.000000</td>\n",
       "    </tr>\n",
       "  </tbody>\n",
       "</table>\n",
       "<p>8 rows × 30 columns</p>\n",
       "</div>"
      ],
      "text/plain": [
       "            season        week  away_score  home_score      result  \\\n",
       "count   452.000000  452.000000  452.000000  452.000000  452.000000   \n",
       "mean   2020.176991    9.261062   22.557522   23.823009    1.265487   \n",
       "std       0.976260    5.503314    9.899439    9.843773   13.982420   \n",
       "min    2019.000000    1.000000    0.000000    0.000000  -43.000000   \n",
       "25%    2019.000000    4.000000   16.000000   17.000000   -6.000000   \n",
       "50%    2020.000000    9.000000   23.000000   24.000000    1.500000   \n",
       "75%    2021.000000   14.000000   30.000000   30.000000   10.000000   \n",
       "max    2022.000000   21.000000   51.000000   56.000000   40.000000   \n",
       "\n",
       "            total    overtime   away_rest   home_rest    div_game  ...  \\\n",
       "count  452.000000  452.000000  452.000000  452.000000  452.000000  ...   \n",
       "mean    46.380531    0.057522    7.530973    7.442478    0.404867  ...   \n",
       "std     13.938776    0.233096    2.046340    1.959402    0.491410  ...   \n",
       "min     15.000000    0.000000    4.000000    4.000000    0.000000  ...   \n",
       "25%     36.000000    0.000000    7.000000    7.000000    0.000000  ...   \n",
       "50%     45.000000    0.000000    7.000000    7.000000    0.000000  ...   \n",
       "75%     56.000000    0.000000    7.000000    7.000000    1.000000  ...   \n",
       "max     94.000000    1.000000   17.000000   15.000000    1.000000  ...   \n",
       "\n",
       "               TO  o_1st_downs  o_totyards   o_passyds   o_rushyds  \\\n",
       "count  452.000000   452.000000  452.000000  452.000000  452.000000   \n",
       "mean     1.836283    20.190265  344.878319  230.176991  114.701327   \n",
       "std      1.059102     5.042093   87.438243   80.285077   51.944083   \n",
       "min      1.000000     6.000000  105.000000   -6.000000    8.000000   \n",
       "25%      1.000000    17.000000  281.750000  173.000000   74.000000   \n",
       "50%      2.000000    20.000000  349.500000  227.500000  106.000000   \n",
       "75%      2.000000    23.000000  402.000000  280.000000  146.000000   \n",
       "max      7.000000    35.000000  572.000000  461.000000  288.000000   \n",
       "\n",
       "             o_TO  offenserank  defenserank    sptmrank         Year  \n",
       "count  452.000000   452.000000   452.000000  452.000000   452.000000  \n",
       "mean     1.763274     2.739093    -1.974889    0.110066  2020.176991  \n",
       "std      0.996302    11.670444    11.958963    4.896437     0.976260  \n",
       "min      1.000000   -35.440000   -32.930000  -14.140000  2019.000000  \n",
       "25%      1.000000    -4.440000   -10.535000   -3.335000  2019.000000  \n",
       "50%      1.000000     3.690000    -2.685000    0.155000  2020.000000  \n",
       "75%      2.000000    10.470000     5.255000    3.275000  2021.000000  \n",
       "max      7.000000    40.690000    35.650000   17.390000  2022.000000  \n",
       "\n",
       "[8 rows x 30 columns]"
      ]
     },
     "execution_count": 88,
     "metadata": {},
     "output_type": "execute_result"
    }
   ],
   "source": [
    "#mergeing games and nfl_allstats\n",
    "#then removing duplicates based on game_id (unique)\n",
    "recentgames = games.merge(nfl_allstats,how='inner', left_on=['season','home_team','away_team'], \n",
    "                       right_on=['Year','home_team_abr','away_team_abr'])\n",
    "\n",
    "#this will keep the first unique game_id and then drop the duplicate\n",
    "\n",
    "recentgames = recentgames.drop_duplicates(subset='game_id', keep=\"first\")\n",
    "\n",
    "#there are 449 unique games left between 2019 - now\n",
    "recentgames.describe()"
   ]
  },
  {
   "cell_type": "markdown",
   "id": "e96d12bd",
   "metadata": {},
   "source": [
    "## Cleanup of merged data"
   ]
  },
  {
   "cell_type": "code",
   "execution_count": 89,
   "id": "fd51e102-200c-4e42-ba3b-d1cc100aacd6",
   "metadata": {
    "id": "fd51e102-200c-4e42-ba3b-d1cc100aacd6",
    "outputId": "cc0e9545-7732-4038-8e1c-e47fd3218715"
   },
   "outputs": [
    {
     "data": {
      "text/plain": [
       "['game_id',\n",
       " 'season',\n",
       " 'game_type',\n",
       " 'week',\n",
       " 'gameday',\n",
       " 'weekday',\n",
       " 'away_team',\n",
       " 'away_score',\n",
       " 'home_team',\n",
       " 'home_score',\n",
       " 'location',\n",
       " 'result',\n",
       " 'total',\n",
       " 'overtime',\n",
       " 'away_rest',\n",
       " 'home_rest',\n",
       " 'div_game',\n",
       " 'roof',\n",
       " 'surface',\n",
       " 'temp',\n",
       " 'wind',\n",
       " 'away_qb_name',\n",
       " 'home_qb_name',\n",
       " 'away_coach',\n",
       " 'home_coach',\n",
       " 'stadium_id',\n",
       " 'stadium',\n",
       " 'indoor_outdoor',\n",
       " 'WL',\n",
       " 'ID',\n",
       " 'W/L',\n",
       " 'away_team_stats',\n",
       " 'Tm',\n",
       " 'o_rank',\n",
       " '1st_downs',\n",
       " 'totyards',\n",
       " 'passyds',\n",
       " 'rushyds',\n",
       " 'TO',\n",
       " 'o_1st_downs',\n",
       " 'o_totyards',\n",
       " 'o_passyds',\n",
       " 'o_rushyds',\n",
       " 'o_TO',\n",
       " 'offenserank',\n",
       " 'defenserank',\n",
       " 'sptmrank',\n",
       " 'home_team_stats',\n",
       " 'Year',\n",
       " 'Winner',\n",
       " 'Name_x',\n",
       " 'away_team_abr',\n",
       " 'Name_y',\n",
       " 'home_team_abr']"
      ]
     },
     "execution_count": 89,
     "metadata": {},
     "output_type": "execute_result"
    }
   ],
   "source": [
    "allcol = list(recentgames.columns.values)\n",
    "allcol\n",
    "##dropping unnecssary columns"
   ]
  },
  {
   "cell_type": "code",
   "execution_count": 90,
   "id": "43726fa1-1b50-4855-9ca4-00dfd0c84d39",
   "metadata": {
    "id": "43726fa1-1b50-4855-9ca4-00dfd0c84d39"
   },
   "outputs": [],
   "source": [
    "#dropping unnecessary columns\n",
    "recentgames = recentgames.drop(['Name_x','Name_y','home_team_stats','away_team_stats','away_team_abr','home_team_abr','Tm'],axis=1)"
   ]
  },
  {
   "cell_type": "markdown",
   "id": "9bb94103",
   "metadata": {},
   "source": [
    "## Stats"
   ]
  },
  {
   "cell_type": "code",
   "execution_count": 91,
   "id": "9548992c-4b32-4661-9ecc-7caac638b703",
   "metadata": {
    "id": "9548992c-4b32-4661-9ecc-7caac638b703",
    "outputId": "926c2b3d-4e21-43e1-ebed-804bdae302a4"
   },
   "outputs": [
    {
     "data": {
      "text/plain": [
       "home_score    23.279783\n",
       "away_score    21.158844\n",
       "dtype: float64"
      ]
     },
     "execution_count": 91,
     "metadata": {},
     "output_type": "execute_result"
    }
   ],
   "source": [
    "##grouping score stats by home_team for games 1999-now\n",
    "home_team_stats = games.groupby(['home_team']).mean()\n",
    "##overall home and away score avg\n",
    "home_team_stats[['home_score','away_score']].mean()"
   ]
  },
  {
   "cell_type": "code",
   "execution_count": 92,
   "id": "c8df9e8c-54d9-497e-a29f-489efc77004c",
   "metadata": {
    "id": "c8df9e8c-54d9-497e-a29f-489efc77004c"
   },
   "outputs": [],
   "source": [
    "##creating home QB dataset where their location is Home 1999-present\n",
    "home_qb = games.query(\"location == 'Home'\")"
   ]
  },
  {
   "cell_type": "markdown",
   "id": "5411fd08",
   "metadata": {},
   "source": [
    "## subselecting necessary columns"
   ]
  },
  {
   "cell_type": "code",
   "execution_count": 93,
   "id": "c97f861d-2e2f-4e44-a305-35f33101076d",
   "metadata": {
    "id": "c97f861d-2e2f-4e44-a305-35f33101076d",
    "outputId": "4d7a2a2a-2f52-4fcb-8073-0541f1be6064"
   },
   "outputs": [
    {
     "data": {
      "text/html": [
       "<div>\n",
       "<style scoped>\n",
       "    .dataframe tbody tr th:only-of-type {\n",
       "        vertical-align: middle;\n",
       "    }\n",
       "\n",
       "    .dataframe tbody tr th {\n",
       "        vertical-align: top;\n",
       "    }\n",
       "\n",
       "    .dataframe thead th {\n",
       "        text-align: right;\n",
       "    }\n",
       "</style>\n",
       "<table border=\"1\" class=\"dataframe\">\n",
       "  <thead>\n",
       "    <tr style=\"text-align: right;\">\n",
       "      <th></th>\n",
       "      <th>away_score</th>\n",
       "      <th>home_score</th>\n",
       "      <th>result</th>\n",
       "      <th>temp</th>\n",
       "      <th>wind</th>\n",
       "    </tr>\n",
       "    <tr>\n",
       "      <th>roof</th>\n",
       "      <th></th>\n",
       "      <th></th>\n",
       "      <th></th>\n",
       "      <th></th>\n",
       "      <th></th>\n",
       "    </tr>\n",
       "  </thead>\n",
       "  <tbody>\n",
       "    <tr>\n",
       "      <th>outdoors</th>\n",
       "      <td>20.332258</td>\n",
       "      <td>22.812258</td>\n",
       "      <td>2.480000</td>\n",
       "      <td>57.190323</td>\n",
       "      <td>8.388602</td>\n",
       "    </tr>\n",
       "    <tr>\n",
       "      <th>closed</th>\n",
       "      <td>22.328482</td>\n",
       "      <td>23.972973</td>\n",
       "      <td>1.644491</td>\n",
       "      <td>0.000000</td>\n",
       "      <td>0.000000</td>\n",
       "    </tr>\n",
       "    <tr>\n",
       "      <th>open</th>\n",
       "      <td>22.318966</td>\n",
       "      <td>24.112069</td>\n",
       "      <td>1.793103</td>\n",
       "      <td>0.000000</td>\n",
       "      <td>0.000000</td>\n",
       "    </tr>\n",
       "    <tr>\n",
       "      <th>dome</th>\n",
       "      <td>22.380059</td>\n",
       "      <td>24.803554</td>\n",
       "      <td>2.423495</td>\n",
       "      <td>0.000000</td>\n",
       "      <td>0.000000</td>\n",
       "    </tr>\n",
       "  </tbody>\n",
       "</table>\n",
       "</div>"
      ],
      "text/plain": [
       "          away_score  home_score    result       temp      wind\n",
       "roof                                                           \n",
       "outdoors   20.332258   22.812258  2.480000  57.190323  8.388602\n",
       "closed     22.328482   23.972973  1.644491   0.000000  0.000000\n",
       "open       22.318966   24.112069  1.793103   0.000000  0.000000\n",
       "dome       22.380059   24.803554  2.423495   0.000000  0.000000"
      ]
     },
     "execution_count": 93,
     "metadata": {},
     "output_type": "execute_result"
    }
   ],
   "source": [
    "##subselecting necessary columns\n",
    "home_qb = home_qb[['game_id','season','game_type','week','gameday','weekday','total','away_team','away_score','home_team','home_score','location','result',\n",
    "                        'roof','indoor_outdoor','surface','temp','wind','away_qb_name','home_qb_name','away_coach','home_coach','stadium']]\n",
    "\n",
    "##dropping NA's from specific columns\n",
    "home_qb = home_qb.dropna(subset=['away_score','home_score','surface'])\n",
    "\n",
    "##filling in temp and wind with 0 when NaN\n",
    "home_qb[['wind','temp']] = home_qb[['wind','temp']].fillna(0)\n",
    "\n",
    "##getting the mean of home qb status by roof type\n",
    "home_qb_roof = home_qb[['away_score','home_score','result','temp','wind','roof']].groupby(['roof']).mean()\n",
    "\n",
    "##sorting by home_score\n",
    "home_qb_roof = home_qb_roof.sort_values('home_score')\n",
    "\n",
    "home_qb_roof"
   ]
  },
  {
   "cell_type": "markdown",
   "id": "ec8eb94c",
   "metadata": {},
   "source": [
    "## plotting home qb data with bar chart"
   ]
  },
  {
   "cell_type": "code",
   "execution_count": 94,
   "id": "35c5977c-5738-4a4e-bc52-0574223e4d59",
   "metadata": {
    "id": "35c5977c-5738-4a4e-bc52-0574223e4d59",
    "outputId": "99f876e4-b540-4914-9508-0f0dac6492cd"
   },
   "outputs": [
    {
     "ename": "AttributeError",
     "evalue": "'AxesSubplot' object has no attribute 'bar_label'",
     "output_type": "error",
     "traceback": [
      "\u001b[1;31m---------------------------------------------------------------------------\u001b[0m",
      "\u001b[1;31mAttributeError\u001b[0m                            Traceback (most recent call last)",
      "\u001b[1;32m~\\AppData\\Local\\Temp\\1/ipykernel_26432/230941647.py\u001b[0m in \u001b[0;36m<module>\u001b[1;34m\u001b[0m\n\u001b[0;32m      8\u001b[0m \u001b[1;33m\u001b[0m\u001b[0m\n\u001b[0;32m      9\u001b[0m \u001b[1;32mfor\u001b[0m \u001b[0mc\u001b[0m \u001b[1;32min\u001b[0m \u001b[0max\u001b[0m\u001b[1;33m.\u001b[0m\u001b[0mcontainers\u001b[0m\u001b[1;33m:\u001b[0m\u001b[1;33m\u001b[0m\u001b[1;33m\u001b[0m\u001b[0m\n\u001b[1;32m---> 10\u001b[1;33m     \u001b[0max\u001b[0m\u001b[1;33m.\u001b[0m\u001b[0mbar_label\u001b[0m\u001b[1;33m(\u001b[0m\u001b[0mc\u001b[0m\u001b[1;33m,\u001b[0m \u001b[0mfmt\u001b[0m\u001b[1;33m=\u001b[0m\u001b[1;34m'%.1f'\u001b[0m\u001b[1;33m)\u001b[0m\u001b[1;33m\u001b[0m\u001b[1;33m\u001b[0m\u001b[0m\n\u001b[0m",
      "\u001b[1;31mAttributeError\u001b[0m: 'AxesSubplot' object has no attribute 'bar_label'"
     ]
    },
    {
     "data": {
      "image/png": "[encoded data removed]",
      "text/plain": [
       "<Figure size 720x576 with 1 Axes>"
      ]
     },
     "metadata": {
      "needs_background": "light"
     },
     "output_type": "display_data"
    }
   ],
   "source": [
    "##plotting home qb data with bar chart\n",
    "ax = home_qb_roof[['away_score','home_score']].plot.bar(figsize=(10,8),color=['#4682B4','#FF6347'])\n",
    "##plt.legend(bbox_to_anchor=(1.05, 0.5), loc='upper left', borderaxespad=0)\n",
    "plt.title('Avg Score by Roof Type')\n",
    "plt.ylabel('Score')\n",
    "\n",
    "##labeling scores to be 1 decimal point\n",
    "\n",
    "for c in ax.containers:\n",
    "    ax.bar_label(c, fmt='%.1f') "
   ]
  },
  {
   "cell_type": "markdown",
   "id": "66fecbfb",
   "metadata": {},
   "source": [
    "## comparing indoor and outdoor QBs 1999-present"
   ]
  },
  {
   "cell_type": "code",
   "execution_count": null,
   "id": "dafa4f4c-b7c4-44fd-bd6e-1da635708395",
   "metadata": {
    "id": "dafa4f4c-b7c4-44fd-bd6e-1da635708395",
    "outputId": "8551c3e8-7bbb-4b7b-e478-e0c6db09c773"
   },
   "outputs": [],
   "source": [
    "##comparing indoor and outdoor QBs 1999-present\n",
    "in_out_qb = home_qb[['away_score','home_score',\n",
    "                        'indoor_outdoor','temp','wind','total']]\n",
    "\n",
    "##indoor QB = 0, outdoor = 1\n",
    "indoor_qb = in_out_qb[in_out_qb.indoor_outdoor == 0]\n",
    "outdoor_qb = in_out_qb[in_out_qb.indoor_outdoor == 1]\n",
    "\n",
    "#getting a mean of the common stats\n",
    "indoor_qb = indoor_qb.mean()\n",
    "outdoor_qb = outdoor_qb.mean()\n",
    "\n",
    "#creating DF with .mean()\n",
    "in_out = pd.DataFrame(\n",
    "    {'Indoor QB': indoor_qb,\n",
    "     'Outdoor QB': outdoor_qb\n",
    "    })\n",
    "\n",
    "#transposing the dataframe\n",
    "in_out = in_out.T\n",
    "in_out"
   ]
  },
  {
   "cell_type": "markdown",
   "id": "115190cd",
   "metadata": {},
   "source": [
    "## plotting indoor vs outdoor qb data"
   ]
  },
  {
   "cell_type": "code",
   "execution_count": null,
   "id": "79b99b39-9f0e-4627-b4f2-48f55c4be628",
   "metadata": {
    "id": "79b99b39-9f0e-4627-b4f2-48f55c4be628",
    "outputId": "f9c8bb66-39be-479b-888f-4a362074b13e"
   },
   "outputs": [
    {
     "ename": "NameError",
     "evalue": "name 'in_out' is not defined",
     "output_type": "error",
     "traceback": [
      "\u001b[1;31m---------------------------------------------------------------------------\u001b[0m",
      "\u001b[1;31mNameError\u001b[0m                                 Traceback (most recent call last)",
      "\u001b[1;32m~\\AppData\\Local\\Temp\\1/ipykernel_26432/1681597067.py\u001b[0m in \u001b[0;36m<module>\u001b[1;34m\u001b[0m\n\u001b[0;32m      1\u001b[0m \u001b[1;31m##plotting indoor vs outdoor qb data\u001b[0m\u001b[1;33m\u001b[0m\u001b[1;33m\u001b[0m\u001b[0m\n\u001b[1;32m----> 2\u001b[1;33m \u001b[0max2\u001b[0m \u001b[1;33m=\u001b[0m \u001b[0min_out\u001b[0m\u001b[1;33m[\u001b[0m\u001b[1;33m[\u001b[0m\u001b[1;34m'away_score'\u001b[0m\u001b[1;33m,\u001b[0m\u001b[1;34m'home_score'\u001b[0m\u001b[1;33m]\u001b[0m\u001b[1;33m]\u001b[0m\u001b[1;33m.\u001b[0m\u001b[0mplot\u001b[0m\u001b[1;33m.\u001b[0m\u001b[0mbar\u001b[0m\u001b[1;33m(\u001b[0m\u001b[0mfigsize\u001b[0m\u001b[1;33m=\u001b[0m\u001b[1;33m(\u001b[0m\u001b[1;36m10\u001b[0m\u001b[1;33m,\u001b[0m\u001b[1;36m10\u001b[0m\u001b[1;33m)\u001b[0m\u001b[1;33m,\u001b[0m\u001b[0mcolor\u001b[0m\u001b[1;33m=\u001b[0m\u001b[1;33m[\u001b[0m\u001b[1;34m'#4682B4'\u001b[0m\u001b[1;33m,\u001b[0m\u001b[1;34m'#FF6347'\u001b[0m\u001b[1;33m]\u001b[0m\u001b[1;33m)\u001b[0m\u001b[1;33m\u001b[0m\u001b[1;33m\u001b[0m\u001b[0m\n\u001b[0m\u001b[0;32m      3\u001b[0m \u001b[0mplt\u001b[0m\u001b[1;33m.\u001b[0m\u001b[0mlegend\u001b[0m\u001b[1;33m(\u001b[0m\u001b[0mloc\u001b[0m\u001b[1;33m=\u001b[0m\u001b[1;36m0\u001b[0m\u001b[1;33m)\u001b[0m\u001b[1;33m\u001b[0m\u001b[1;33m\u001b[0m\u001b[0m\n\u001b[0;32m      4\u001b[0m \u001b[0mplt\u001b[0m\u001b[1;33m.\u001b[0m\u001b[0mtitle\u001b[0m\u001b[1;33m(\u001b[0m\u001b[1;34m'Stadium Comparision: Indoor vs. Outdoor QB Scores'\u001b[0m\u001b[1;33m)\u001b[0m\u001b[1;33m\u001b[0m\u001b[1;33m\u001b[0m\u001b[0m\n\u001b[0;32m      5\u001b[0m \u001b[0mplt\u001b[0m\u001b[1;33m.\u001b[0m\u001b[0mylabel\u001b[0m\u001b[1;33m(\u001b[0m\u001b[1;34m'Score'\u001b[0m\u001b[1;33m)\u001b[0m\u001b[1;33m\u001b[0m\u001b[1;33m\u001b[0m\u001b[0m\n",
      "\u001b[1;31mNameError\u001b[0m: name 'in_out' is not defined"
     ]
    }
   ],
   "source": [
    "##plotting indoor vs outdoor qb data\n",
    "ax2 = in_out[['away_score','home_score']].plot.bar(figsize=(10,10),color=['#4682B4','#FF6347'])\n",
    "plt.legend(loc=0)\n",
    "plt.title('Stadium Comparision: Indoor vs. Outdoor QB Scores')\n",
    "plt.ylabel('Score')\n",
    "##labeling scores\n",
    "for c in ax2.containers:\n",
    "    ax2.bar_label(c, fmt='%.1f') "
   ]
  },
  {
   "cell_type": "markdown",
   "id": "2b166987",
   "metadata": {},
   "source": [
    "## subselecting necessary columns"
   ]
  },
  {
   "cell_type": "code",
   "execution_count": null,
   "id": "00ec1724-2213-4c5a-b603-a28937cfa499",
   "metadata": {
    "id": "00ec1724-2213-4c5a-b603-a28937cfa499",
    "outputId": "853be7e4-6d2a-482d-971c-ad37a82bb6f3"
   },
   "outputs": [
    {
     "data": {
      "text/html": [
       "<div>\n",
       "<style scoped>\n",
       "    .dataframe tbody tr th:only-of-type {\n",
       "        vertical-align: middle;\n",
       "    }\n",
       "\n",
       "    .dataframe tbody tr th {\n",
       "        vertical-align: top;\n",
       "    }\n",
       "\n",
       "    .dataframe thead th {\n",
       "        text-align: right;\n",
       "    }\n",
       "</style>\n",
       "<table border=\"1\" class=\"dataframe\">\n",
       "  <thead>\n",
       "    <tr style=\"text-align: right;\">\n",
       "      <th></th>\n",
       "      <th>season</th>\n",
       "      <th>game_type</th>\n",
       "      <th>week</th>\n",
       "      <th>gameday</th>\n",
       "      <th>weekday</th>\n",
       "      <th>W/L</th>\n",
       "      <th>away_team</th>\n",
       "      <th>away_qb_name</th>\n",
       "      <th>away_score</th>\n",
       "      <th>home_team</th>\n",
       "      <th>...</th>\n",
       "      <th>roof</th>\n",
       "      <th>surface</th>\n",
       "      <th>temp</th>\n",
       "      <th>wind</th>\n",
       "      <th>totyards</th>\n",
       "      <th>o_totyards</th>\n",
       "      <th>passyds</th>\n",
       "      <th>o_passyds</th>\n",
       "      <th>rushyds</th>\n",
       "      <th>o_rushyds</th>\n",
       "    </tr>\n",
       "  </thead>\n",
       "  <tbody>\n",
       "    <tr>\n",
       "      <th>0</th>\n",
       "      <td>2019</td>\n",
       "      <td>REG</td>\n",
       "      <td>1</td>\n",
       "      <td>2019-09-08</td>\n",
       "      <td>Sunday</td>\n",
       "      <td>L</td>\n",
       "      <td>BUF</td>\n",
       "      <td>Josh Allen</td>\n",
       "      <td>17.0</td>\n",
       "      <td>NYJ</td>\n",
       "      <td>...</td>\n",
       "      <td>outdoors</td>\n",
       "      <td>fieldturf</td>\n",
       "      <td>77.0</td>\n",
       "      <td>6.0</td>\n",
       "      <td>223.0</td>\n",
       "      <td>370.0</td>\n",
       "      <td>155.0</td>\n",
       "      <td>242.0</td>\n",
       "      <td>68.0</td>\n",
       "      <td>128.0</td>\n",
       "    </tr>\n",
       "    <tr>\n",
       "      <th>2</th>\n",
       "      <td>2019</td>\n",
       "      <td>REG</td>\n",
       "      <td>1</td>\n",
       "      <td>2019-09-08</td>\n",
       "      <td>Sunday</td>\n",
       "      <td>W</td>\n",
       "      <td>CIN</td>\n",
       "      <td>Andy Dalton</td>\n",
       "      <td>20.0</td>\n",
       "      <td>SEA</td>\n",
       "      <td>...</td>\n",
       "      <td>outdoors</td>\n",
       "      <td>fieldturf</td>\n",
       "      <td>64.0</td>\n",
       "      <td>7.0</td>\n",
       "      <td>232.0</td>\n",
       "      <td>429.0</td>\n",
       "      <td>160.0</td>\n",
       "      <td>395.0</td>\n",
       "      <td>72.0</td>\n",
       "      <td>34.0</td>\n",
       "    </tr>\n",
       "    <tr>\n",
       "      <th>3</th>\n",
       "      <td>2019</td>\n",
       "      <td>REG</td>\n",
       "      <td>1</td>\n",
       "      <td>2019-09-08</td>\n",
       "      <td>Sunday</td>\n",
       "      <td>T</td>\n",
       "      <td>DET</td>\n",
       "      <td>Matthew Stafford</td>\n",
       "      <td>27.0</td>\n",
       "      <td>ARI</td>\n",
       "      <td>...</td>\n",
       "      <td>closed</td>\n",
       "      <td>grass</td>\n",
       "      <td>NaN</td>\n",
       "      <td>NaN</td>\n",
       "      <td>387.0</td>\n",
       "      <td>477.0</td>\n",
       "      <td>275.0</td>\n",
       "      <td>361.0</td>\n",
       "      <td>112.0</td>\n",
       "      <td>116.0</td>\n",
       "    </tr>\n",
       "    <tr>\n",
       "      <th>4</th>\n",
       "      <td>2019</td>\n",
       "      <td>REG</td>\n",
       "      <td>1</td>\n",
       "      <td>2019-09-08</td>\n",
       "      <td>Sunday</td>\n",
       "      <td>W</td>\n",
       "      <td>NYG</td>\n",
       "      <td>Eli Manning</td>\n",
       "      <td>17.0</td>\n",
       "      <td>DAL</td>\n",
       "      <td>...</td>\n",
       "      <td>closed</td>\n",
       "      <td>fieldturf</td>\n",
       "      <td>NaN</td>\n",
       "      <td>NaN</td>\n",
       "      <td>429.0</td>\n",
       "      <td>271.0</td>\n",
       "      <td>257.0</td>\n",
       "      <td>171.0</td>\n",
       "      <td>172.0</td>\n",
       "      <td>100.0</td>\n",
       "    </tr>\n",
       "    <tr>\n",
       "      <th>5</th>\n",
       "      <td>2019</td>\n",
       "      <td>REG</td>\n",
       "      <td>1</td>\n",
       "      <td>2019-09-08</td>\n",
       "      <td>Sunday</td>\n",
       "      <td>L</td>\n",
       "      <td>SF</td>\n",
       "      <td>Jimmy Garoppolo</td>\n",
       "      <td>31.0</td>\n",
       "      <td>TB</td>\n",
       "      <td>...</td>\n",
       "      <td>outdoors</td>\n",
       "      <td>grass</td>\n",
       "      <td>93.0</td>\n",
       "      <td>9.0</td>\n",
       "      <td>295.0</td>\n",
       "      <td>256.0</td>\n",
       "      <td>174.0</td>\n",
       "      <td>158.0</td>\n",
       "      <td>121.0</td>\n",
       "      <td>98.0</td>\n",
       "    </tr>\n",
       "  </tbody>\n",
       "</table>\n",
       "<p>5 rows × 25 columns</p>\n",
       "</div>"
      ],
      "text/plain": [
       "   season game_type  week     gameday weekday W/L away_team      away_qb_name  \\\n",
       "0    2019       REG     1  2019-09-08  Sunday   L       BUF        Josh Allen   \n",
       "2    2019       REG     1  2019-09-08  Sunday   W       CIN       Andy Dalton   \n",
       "3    2019       REG     1  2019-09-08  Sunday   T       DET  Matthew Stafford   \n",
       "4    2019       REG     1  2019-09-08  Sunday   W       NYG       Eli Manning   \n",
       "5    2019       REG     1  2019-09-08  Sunday   L        SF   Jimmy Garoppolo   \n",
       "\n",
       "   away_score home_team  ...      roof    surface  temp  wind  totyards  \\\n",
       "0        17.0       NYJ  ...  outdoors  fieldturf  77.0   6.0     223.0   \n",
       "2        20.0       SEA  ...  outdoors  fieldturf  64.0   7.0     232.0   \n",
       "3        27.0       ARI  ...    closed      grass   NaN   NaN     387.0   \n",
       "4        17.0       DAL  ...    closed  fieldturf   NaN   NaN     429.0   \n",
       "5        31.0        TB  ...  outdoors      grass  93.0   9.0     295.0   \n",
       "\n",
       "  o_totyards passyds  o_passyds  rushyds  o_rushyds  \n",
       "0      370.0   155.0      242.0     68.0      128.0  \n",
       "2      429.0   160.0      395.0     72.0       34.0  \n",
       "3      477.0   275.0      361.0    112.0      116.0  \n",
       "4      271.0   257.0      171.0    172.0      100.0  \n",
       "5      256.0   174.0      158.0    121.0       98.0  \n",
       "\n",
       "[5 rows x 25 columns]"
      ]
     },
     "execution_count": 30,
     "metadata": {},
     "output_type": "execute_result"
    }
   ],
   "source": [
    "##subselecting necessary columns\n",
    "#NFL game data from 2019-2022\n",
    "\n",
    "team_perform = recentgames[['season','game_type','week','gameday','weekday','W/L','away_team','away_qb_name','away_score','home_team','home_qb_name','home_score','location','result','indoor_outdoor',\n",
    "                        'roof','surface','temp','wind','totyards','o_totyards','passyds','o_passyds','rushyds','o_rushyds']]\n",
    "##dropping NA's from specific columns\n",
    "team_perform.head(5)"
   ]
  },
  {
   "cell_type": "code",
   "execution_count": null,
   "id": "6add42bd-e0d6-44d9-9e2c-4a8678cb47c4",
   "metadata": {
    "id": "6add42bd-e0d6-44d9-9e2c-4a8678cb47c4"
   },
   "outputs": [],
   "source": [
    "#how do home and away teams score based on having indoor/outdoor stadiums?\n",
    "home_team = team_perform[['home_score','indoor_outdoor','home_team','passyds','rushyds','W/L']].groupby('home_team').mean()\n",
    "away_team = team_perform[['home_score','indoor_outdoor','away_team','passyds','rushyds','W/L']].groupby('away_team').mean()\n",
    "home_away = home_team.join(away_team, lsuffix='_home',rsuffix='_away')\n",
    "home_away['pt_diff'] = home_away['home_score_away'] - home_away['home_score_home']\n",
    "home_away['pass_diff'] = home_away['passyds_away'] - home_away['passyds_home']\n",
    "home_away['rush_diff'] = home_away['rushyds_away'] - home_away['rushyds_home']\n",
    "home_away = home_away.round(decimals=2)"
   ]
  },
  {
   "cell_type": "code",
   "execution_count": null,
   "id": "ce358c0d-5e8d-4981-adc9-c579660b5419",
   "metadata": {
    "id": "ce358c0d-5e8d-4981-adc9-c579660b5419",
    "outputId": "9a024b5d-4569-4c24-b2ac-0507d2d9c44e"
   },
   "outputs": [
    {
     "data": {
      "text/html": [
       "<div>\n",
       "<style scoped>\n",
       "    .dataframe tbody tr th:only-of-type {\n",
       "        vertical-align: middle;\n",
       "    }\n",
       "\n",
       "    .dataframe tbody tr th {\n",
       "        vertical-align: top;\n",
       "    }\n",
       "\n",
       "    .dataframe thead th {\n",
       "        text-align: right;\n",
       "    }\n",
       "</style>\n",
       "<table border=\"1\" class=\"dataframe\">\n",
       "  <thead>\n",
       "    <tr style=\"text-align: right;\">\n",
       "      <th></th>\n",
       "      <th>home_score_home</th>\n",
       "      <th>indoor_outdoor_home</th>\n",
       "      <th>passyds_home</th>\n",
       "      <th>rushyds_home</th>\n",
       "      <th>home_score_away</th>\n",
       "      <th>indoor_outdoor_away</th>\n",
       "      <th>passyds_away</th>\n",
       "      <th>rushyds_away</th>\n",
       "      <th>pt_diff</th>\n",
       "      <th>pass_diff</th>\n",
       "      <th>rush_diff</th>\n",
       "    </tr>\n",
       "    <tr>\n",
       "      <th>home_team</th>\n",
       "      <th></th>\n",
       "      <th></th>\n",
       "      <th></th>\n",
       "      <th></th>\n",
       "      <th></th>\n",
       "      <th></th>\n",
       "      <th></th>\n",
       "      <th></th>\n",
       "      <th></th>\n",
       "      <th></th>\n",
       "      <th></th>\n",
       "    </tr>\n",
       "  </thead>\n",
       "  <tbody>\n",
       "    <tr>\n",
       "      <th>DAL</th>\n",
       "      <td>32.50</td>\n",
       "      <td>0.00</td>\n",
       "      <td>237.30</td>\n",
       "      <td>147.80</td>\n",
       "      <td>22.53</td>\n",
       "      <td>0.73</td>\n",
       "      <td>233.93</td>\n",
       "      <td>117.27</td>\n",
       "      <td>-9.97</td>\n",
       "      <td>-3.37</td>\n",
       "      <td>-30.53</td>\n",
       "    </tr>\n",
       "    <tr>\n",
       "      <th>MIN</th>\n",
       "      <td>26.67</td>\n",
       "      <td>0.00</td>\n",
       "      <td>252.60</td>\n",
       "      <td>132.53</td>\n",
       "      <td>22.89</td>\n",
       "      <td>0.78</td>\n",
       "      <td>206.22</td>\n",
       "      <td>127.17</td>\n",
       "      <td>-3.78</td>\n",
       "      <td>-46.38</td>\n",
       "      <td>-5.37</td>\n",
       "    </tr>\n",
       "    <tr>\n",
       "      <th>IND</th>\n",
       "      <td>25.27</td>\n",
       "      <td>0.00</td>\n",
       "      <td>220.00</td>\n",
       "      <td>140.07</td>\n",
       "      <td>22.07</td>\n",
       "      <td>0.80</td>\n",
       "      <td>245.80</td>\n",
       "      <td>84.80</td>\n",
       "      <td>-3.20</td>\n",
       "      <td>25.80</td>\n",
       "      <td>-55.27</td>\n",
       "    </tr>\n",
       "    <tr>\n",
       "      <th>NO</th>\n",
       "      <td>23.06</td>\n",
       "      <td>0.06</td>\n",
       "      <td>218.94</td>\n",
       "      <td>119.78</td>\n",
       "      <td>20.09</td>\n",
       "      <td>0.73</td>\n",
       "      <td>202.09</td>\n",
       "      <td>120.82</td>\n",
       "      <td>-2.96</td>\n",
       "      <td>-16.85</td>\n",
       "      <td>1.04</td>\n",
       "    </tr>\n",
       "    <tr>\n",
       "      <th>DET</th>\n",
       "      <td>25.25</td>\n",
       "      <td>0.06</td>\n",
       "      <td>259.12</td>\n",
       "      <td>104.94</td>\n",
       "      <td>22.42</td>\n",
       "      <td>0.67</td>\n",
       "      <td>242.92</td>\n",
       "      <td>121.50</td>\n",
       "      <td>-2.83</td>\n",
       "      <td>-16.21</td>\n",
       "      <td>16.56</td>\n",
       "    </tr>\n",
       "    <tr>\n",
       "      <th>ARI</th>\n",
       "      <td>24.67</td>\n",
       "      <td>0.00</td>\n",
       "      <td>205.75</td>\n",
       "      <td>134.17</td>\n",
       "      <td>22.75</td>\n",
       "      <td>0.92</td>\n",
       "      <td>233.83</td>\n",
       "      <td>135.17</td>\n",
       "      <td>-1.92</td>\n",
       "      <td>28.08</td>\n",
       "      <td>1.00</td>\n",
       "    </tr>\n",
       "    <tr>\n",
       "      <th>ATL</th>\n",
       "      <td>22.38</td>\n",
       "      <td>0.06</td>\n",
       "      <td>238.62</td>\n",
       "      <td>103.44</td>\n",
       "      <td>27.39</td>\n",
       "      <td>0.72</td>\n",
       "      <td>258.33</td>\n",
       "      <td>131.06</td>\n",
       "      <td>5.01</td>\n",
       "      <td>19.71</td>\n",
       "      <td>27.62</td>\n",
       "    </tr>\n",
       "    <tr>\n",
       "      <th>HOU</th>\n",
       "      <td>21.71</td>\n",
       "      <td>0.00</td>\n",
       "      <td>241.64</td>\n",
       "      <td>122.36</td>\n",
       "      <td>27.06</td>\n",
       "      <td>0.72</td>\n",
       "      <td>250.22</td>\n",
       "      <td>137.33</td>\n",
       "      <td>5.34</td>\n",
       "      <td>8.58</td>\n",
       "      <td>14.98</td>\n",
       "    </tr>\n",
       "  </tbody>\n",
       "</table>\n",
       "</div>"
      ],
      "text/plain": [
       "           home_score_home  indoor_outdoor_home  passyds_home  rushyds_home  \\\n",
       "home_team                                                                     \n",
       "DAL                  32.50                 0.00        237.30        147.80   \n",
       "MIN                  26.67                 0.00        252.60        132.53   \n",
       "IND                  25.27                 0.00        220.00        140.07   \n",
       "NO                   23.06                 0.06        218.94        119.78   \n",
       "DET                  25.25                 0.06        259.12        104.94   \n",
       "ARI                  24.67                 0.00        205.75        134.17   \n",
       "ATL                  22.38                 0.06        238.62        103.44   \n",
       "HOU                  21.71                 0.00        241.64        122.36   \n",
       "\n",
       "           home_score_away  indoor_outdoor_away  passyds_away  rushyds_away  \\\n",
       "home_team                                                                     \n",
       "DAL                  22.53                 0.73        233.93        117.27   \n",
       "MIN                  22.89                 0.78        206.22        127.17   \n",
       "IND                  22.07                 0.80        245.80         84.80   \n",
       "NO                   20.09                 0.73        202.09        120.82   \n",
       "DET                  22.42                 0.67        242.92        121.50   \n",
       "ARI                  22.75                 0.92        233.83        135.17   \n",
       "ATL                  27.39                 0.72        258.33        131.06   \n",
       "HOU                  27.06                 0.72        250.22        137.33   \n",
       "\n",
       "           pt_diff  pass_diff  rush_diff  \n",
       "home_team                                 \n",
       "DAL          -9.97      -3.37     -30.53  \n",
       "MIN          -3.78     -46.38      -5.37  \n",
       "IND          -3.20      25.80     -55.27  \n",
       "NO           -2.96     -16.85       1.04  \n",
       "DET          -2.83     -16.21      16.56  \n",
       "ARI          -1.92      28.08       1.00  \n",
       "ATL           5.01      19.71      27.62  \n",
       "HOU           5.34       8.58      14.98  "
      ]
     },
     "execution_count": 32,
     "metadata": {},
     "output_type": "execute_result"
    }
   ],
   "source": [
    "#indoor teams performance\n",
    "#lookng at indoor score of less than 0.05\n",
    "#some teams played outdoor then transferred to indoor stadiums, so I pulled less than 0.05\n",
    "\n",
    "home_indoor = home_away.loc[home_away['indoor_outdoor_home'] < 0.10]\n",
    "home_indoor.sort_values(by='pt_diff')"
   ]
  },
  {
   "cell_type": "code",
   "execution_count": null,
   "id": "abf911f9-8cfb-423f-bbb9-09d7cdba90ef",
   "metadata": {
    "id": "abf911f9-8cfb-423f-bbb9-09d7cdba90ef",
    "outputId": "ea52cdc0-5106-4b7b-c17e-96a45506250c"
   },
   "outputs": [
    {
     "ename": "AttributeError",
     "evalue": "'AxesSubplot' object has no attribute 'bar_label'",
     "output_type": "error",
     "traceback": [
      "\u001b[1;31m---------------------------------------------------------------------------\u001b[0m",
      "\u001b[1;31mAttributeError\u001b[0m                            Traceback (most recent call last)",
      "\u001b[1;32m~\\AppData\\Local\\Temp\\1/ipykernel_26432/349223976.py\u001b[0m in \u001b[0;36m<module>\u001b[1;34m\u001b[0m\n\u001b[0;32m      6\u001b[0m \u001b[0mplt\u001b[0m\u001b[1;33m.\u001b[0m\u001b[0mtitle\u001b[0m\u001b[1;33m(\u001b[0m\u001b[1;34m'Indoor Team Score vs. Away'\u001b[0m\u001b[1;33m,\u001b[0m\u001b[0mfontsize\u001b[0m\u001b[1;33m=\u001b[0m\u001b[1;34m'15'\u001b[0m\u001b[1;33m)\u001b[0m\u001b[1;33m\u001b[0m\u001b[1;33m\u001b[0m\u001b[0m\n\u001b[0;32m      7\u001b[0m \u001b[1;32mfor\u001b[0m \u001b[0mh\u001b[0m \u001b[1;32min\u001b[0m \u001b[0mhi\u001b[0m\u001b[1;33m.\u001b[0m\u001b[0mcontainers\u001b[0m\u001b[1;33m:\u001b[0m\u001b[1;33m\u001b[0m\u001b[1;33m\u001b[0m\u001b[0m\n\u001b[1;32m----> 8\u001b[1;33m     \u001b[0mhi\u001b[0m\u001b[1;33m.\u001b[0m\u001b[0mbar_label\u001b[0m\u001b[1;33m(\u001b[0m\u001b[0mh\u001b[0m\u001b[1;33m,\u001b[0m \u001b[0mfmt\u001b[0m\u001b[1;33m=\u001b[0m\u001b[1;34m'%.0f'\u001b[0m\u001b[1;33m)\u001b[0m\u001b[1;33m\u001b[0m\u001b[1;33m\u001b[0m\u001b[0m\n\u001b[0m",
      "\u001b[1;31mAttributeError\u001b[0m: 'AxesSubplot' object has no attribute 'bar_label'"
     ]
    },
    {
     "data": {
      "image/png": "[encoded data removed]",
      "text/plain": [
       "<Figure size 1080x504 with 1 Axes>"
      ]
     },
     "metadata": {
      "needs_background": "light"
     },
     "output_type": "display_data"
    }
   ],
   "source": [
    "##indoor vs outdoor graph\n",
    "hi = home_indoor[['home_score_home','home_score_away']].sort_values('home_score_home', ascending=False).plot(kind='bar',stacked=False,figsize=(15,7),\n",
    "             fontsize='12', color={'home_score_home':'#4169E1','home_score_away':'#20B2AA'})\n",
    "plt.legend()\n",
    "plt.ylabel('Score',fontsize='15')\n",
    "plt.title('Indoor Team Score vs. Away',fontsize='15')\n",
    "for h in hi.containers:\n",
    "    hi.bar_label(h, fmt='%.0f') \n"
   ]
  },
  {
   "cell_type": "code",
   "execution_count": null,
   "id": "43292db4-dd70-4e8f-88ab-e9e66863b2ec",
   "metadata": {
    "id": "43292db4-dd70-4e8f-88ab-e9e66863b2ec",
    "outputId": "0cc4a95d-0e1e-46c7-fc81-8f33f273d166"
   },
   "outputs": [
    {
     "data": {
      "text/html": [
       "<div>\n",
       "<style scoped>\n",
       "    .dataframe tbody tr th:only-of-type {\n",
       "        vertical-align: middle;\n",
       "    }\n",
       "\n",
       "    .dataframe tbody tr th {\n",
       "        vertical-align: top;\n",
       "    }\n",
       "\n",
       "    .dataframe thead th {\n",
       "        text-align: right;\n",
       "    }\n",
       "</style>\n",
       "<table border=\"1\" class=\"dataframe\">\n",
       "  <thead>\n",
       "    <tr style=\"text-align: right;\">\n",
       "      <th></th>\n",
       "      <th>home_score_home</th>\n",
       "      <th>indoor_outdoor_home</th>\n",
       "      <th>passyds_home</th>\n",
       "      <th>rushyds_home</th>\n",
       "      <th>home_score_away</th>\n",
       "      <th>indoor_outdoor_away</th>\n",
       "      <th>passyds_away</th>\n",
       "      <th>rushyds_away</th>\n",
       "      <th>pt_diff</th>\n",
       "      <th>pass_diff</th>\n",
       "      <th>rush_diff</th>\n",
       "    </tr>\n",
       "    <tr>\n",
       "      <th>home_team</th>\n",
       "      <th></th>\n",
       "      <th></th>\n",
       "      <th></th>\n",
       "      <th></th>\n",
       "      <th></th>\n",
       "      <th></th>\n",
       "      <th></th>\n",
       "      <th></th>\n",
       "      <th></th>\n",
       "      <th></th>\n",
       "      <th></th>\n",
       "    </tr>\n",
       "  </thead>\n",
       "  <tbody>\n",
       "    <tr>\n",
       "      <th>CAR</th>\n",
       "      <td>19.65</td>\n",
       "      <td>1.0</td>\n",
       "      <td>221.71</td>\n",
       "      <td>113.12</td>\n",
       "      <td>24.69</td>\n",
       "      <td>0.38</td>\n",
       "      <td>197.38</td>\n",
       "      <td>109.46</td>\n",
       "      <td>5.05</td>\n",
       "      <td>-24.32</td>\n",
       "      <td>-3.66</td>\n",
       "    </tr>\n",
       "    <tr>\n",
       "      <th>CHI</th>\n",
       "      <td>19.00</td>\n",
       "      <td>1.0</td>\n",
       "      <td>186.41</td>\n",
       "      <td>123.35</td>\n",
       "      <td>25.13</td>\n",
       "      <td>0.47</td>\n",
       "      <td>216.40</td>\n",
       "      <td>129.33</td>\n",
       "      <td>6.13</td>\n",
       "      <td>29.99</td>\n",
       "      <td>5.98</td>\n",
       "    </tr>\n",
       "    <tr>\n",
       "      <th>DEN</th>\n",
       "      <td>18.00</td>\n",
       "      <td>1.0</td>\n",
       "      <td>191.46</td>\n",
       "      <td>130.92</td>\n",
       "      <td>22.20</td>\n",
       "      <td>0.67</td>\n",
       "      <td>241.53</td>\n",
       "      <td>107.67</td>\n",
       "      <td>4.20</td>\n",
       "      <td>50.07</td>\n",
       "      <td>-23.26</td>\n",
       "    </tr>\n",
       "    <tr>\n",
       "      <th>GB</th>\n",
       "      <td>25.73</td>\n",
       "      <td>1.0</td>\n",
       "      <td>250.64</td>\n",
       "      <td>130.00</td>\n",
       "      <td>22.11</td>\n",
       "      <td>0.67</td>\n",
       "      <td>203.22</td>\n",
       "      <td>124.00</td>\n",
       "      <td>-3.62</td>\n",
       "      <td>-47.41</td>\n",
       "      <td>-6.00</td>\n",
       "    </tr>\n",
       "    <tr>\n",
       "      <th>JAX</th>\n",
       "      <td>17.60</td>\n",
       "      <td>1.0</td>\n",
       "      <td>233.47</td>\n",
       "      <td>83.67</td>\n",
       "      <td>29.67</td>\n",
       "      <td>0.50</td>\n",
       "      <td>250.92</td>\n",
       "      <td>190.33</td>\n",
       "      <td>12.07</td>\n",
       "      <td>17.45</td>\n",
       "      <td>106.67</td>\n",
       "    </tr>\n",
       "    <tr>\n",
       "      <th>NYG</th>\n",
       "      <td>19.08</td>\n",
       "      <td>1.0</td>\n",
       "      <td>204.08</td>\n",
       "      <td>110.42</td>\n",
       "      <td>26.25</td>\n",
       "      <td>0.69</td>\n",
       "      <td>261.19</td>\n",
       "      <td>113.38</td>\n",
       "      <td>7.17</td>\n",
       "      <td>57.10</td>\n",
       "      <td>2.96</td>\n",
       "    </tr>\n",
       "    <tr>\n",
       "      <th>PHI</th>\n",
       "      <td>23.00</td>\n",
       "      <td>1.0</td>\n",
       "      <td>209.08</td>\n",
       "      <td>137.58</td>\n",
       "      <td>28.29</td>\n",
       "      <td>0.64</td>\n",
       "      <td>232.64</td>\n",
       "      <td>119.50</td>\n",
       "      <td>5.29</td>\n",
       "      <td>23.56</td>\n",
       "      <td>-18.08</td>\n",
       "    </tr>\n",
       "    <tr>\n",
       "      <th>SEA</th>\n",
       "      <td>27.27</td>\n",
       "      <td>1.0</td>\n",
       "      <td>253.80</td>\n",
       "      <td>140.40</td>\n",
       "      <td>24.73</td>\n",
       "      <td>0.67</td>\n",
       "      <td>257.07</td>\n",
       "      <td>123.40</td>\n",
       "      <td>-2.53</td>\n",
       "      <td>3.27</td>\n",
       "      <td>-17.00</td>\n",
       "    </tr>\n",
       "    <tr>\n",
       "      <th>TB</th>\n",
       "      <td>28.68</td>\n",
       "      <td>1.0</td>\n",
       "      <td>306.59</td>\n",
       "      <td>87.50</td>\n",
       "      <td>21.63</td>\n",
       "      <td>0.53</td>\n",
       "      <td>246.79</td>\n",
       "      <td>89.63</td>\n",
       "      <td>-7.05</td>\n",
       "      <td>-59.80</td>\n",
       "      <td>2.13</td>\n",
       "    </tr>\n",
       "    <tr>\n",
       "      <th>TEN</th>\n",
       "      <td>26.29</td>\n",
       "      <td>1.0</td>\n",
       "      <td>231.47</td>\n",
       "      <td>145.41</td>\n",
       "      <td>24.46</td>\n",
       "      <td>0.62</td>\n",
       "      <td>253.46</td>\n",
       "      <td>127.08</td>\n",
       "      <td>-1.83</td>\n",
       "      <td>21.99</td>\n",
       "      <td>-18.33</td>\n",
       "    </tr>\n",
       "  </tbody>\n",
       "</table>\n",
       "</div>"
      ],
      "text/plain": [
       "           home_score_home  indoor_outdoor_home  passyds_home  rushyds_home  \\\n",
       "home_team                                                                     \n",
       "CAR                  19.65                  1.0        221.71        113.12   \n",
       "CHI                  19.00                  1.0        186.41        123.35   \n",
       "DEN                  18.00                  1.0        191.46        130.92   \n",
       "GB                   25.73                  1.0        250.64        130.00   \n",
       "JAX                  17.60                  1.0        233.47         83.67   \n",
       "NYG                  19.08                  1.0        204.08        110.42   \n",
       "PHI                  23.00                  1.0        209.08        137.58   \n",
       "SEA                  27.27                  1.0        253.80        140.40   \n",
       "TB                   28.68                  1.0        306.59         87.50   \n",
       "TEN                  26.29                  1.0        231.47        145.41   \n",
       "\n",
       "           home_score_away  indoor_outdoor_away  passyds_away  rushyds_away  \\\n",
       "home_team                                                                     \n",
       "CAR                  24.69                 0.38        197.38        109.46   \n",
       "CHI                  25.13                 0.47        216.40        129.33   \n",
       "DEN                  22.20                 0.67        241.53        107.67   \n",
       "GB                   22.11                 0.67        203.22        124.00   \n",
       "JAX                  29.67                 0.50        250.92        190.33   \n",
       "NYG                  26.25                 0.69        261.19        113.38   \n",
       "PHI                  28.29                 0.64        232.64        119.50   \n",
       "SEA                  24.73                 0.67        257.07        123.40   \n",
       "TB                   21.63                 0.53        246.79         89.63   \n",
       "TEN                  24.46                 0.62        253.46        127.08   \n",
       "\n",
       "           pt_diff  pass_diff  rush_diff  \n",
       "home_team                                 \n",
       "CAR           5.05     -24.32      -3.66  \n",
       "CHI           6.13      29.99       5.98  \n",
       "DEN           4.20      50.07     -23.26  \n",
       "GB           -3.62     -47.41      -6.00  \n",
       "JAX          12.07      17.45     106.67  \n",
       "NYG           7.17      57.10       2.96  \n",
       "PHI           5.29      23.56     -18.08  \n",
       "SEA          -2.53       3.27     -17.00  \n",
       "TB           -7.05     -59.80       2.13  \n",
       "TEN          -1.83      21.99     -18.33  "
      ]
     },
     "execution_count": 34,
     "metadata": {},
     "output_type": "execute_result"
    }
   ],
   "source": [
    "#outdoor teams performance\n",
    "home_outdoor = home_away.loc[(home_away['indoor_outdoor_home'] >= 0.95) & (home_away['indoor_outdoor_away'] <= .75)]\n",
    "#home_outdoor.sort_values(by='pt_diff')\n",
    "home_outdoor"
   ]
  },
  {
   "cell_type": "markdown",
   "id": "ba2b1928",
   "metadata": {},
   "source": [
    "## outdoor team performance away"
   ]
  },
  {
   "cell_type": "code",
   "execution_count": null,
   "id": "f3626a71-57a9-4221-be4e-b43f962e9840",
   "metadata": {
    "id": "f3626a71-57a9-4221-be4e-b43f962e9840",
    "outputId": "1c15b6d2-cf3d-45f1-f6dd-d6957d548c64"
   },
   "outputs": [
    {
     "ename": "AttributeError",
     "evalue": "'AxesSubplot' object has no attribute 'bar_label'",
     "output_type": "error",
     "traceback": [
      "\u001b[1;31m---------------------------------------------------------------------------\u001b[0m",
      "\u001b[1;31mAttributeError\u001b[0m                            Traceback (most recent call last)",
      "\u001b[1;32m~\\AppData\\Local\\Temp\\1/ipykernel_26432/389959319.py\u001b[0m in \u001b[0;36m<module>\u001b[1;34m\u001b[0m\n\u001b[0;32m      7\u001b[0m \u001b[0mplt\u001b[0m\u001b[1;33m.\u001b[0m\u001b[0mtitle\u001b[0m\u001b[1;33m(\u001b[0m\u001b[1;34m'Outdoor Team Score vs. Away'\u001b[0m\u001b[1;33m,\u001b[0m\u001b[0mfontsize\u001b[0m\u001b[1;33m=\u001b[0m\u001b[1;34m'15'\u001b[0m\u001b[1;33m)\u001b[0m\u001b[1;33m\u001b[0m\u001b[1;33m\u001b[0m\u001b[0m\n\u001b[0;32m      8\u001b[0m \u001b[1;32mfor\u001b[0m \u001b[0mh\u001b[0m \u001b[1;32min\u001b[0m \u001b[0mho\u001b[0m\u001b[1;33m.\u001b[0m\u001b[0mcontainers\u001b[0m\u001b[1;33m:\u001b[0m\u001b[1;33m\u001b[0m\u001b[1;33m\u001b[0m\u001b[0m\n\u001b[1;32m----> 9\u001b[1;33m     \u001b[0mho\u001b[0m\u001b[1;33m.\u001b[0m\u001b[0mbar_label\u001b[0m\u001b[1;33m(\u001b[0m\u001b[0mh\u001b[0m\u001b[1;33m,\u001b[0m \u001b[0mfmt\u001b[0m\u001b[1;33m=\u001b[0m\u001b[1;34m'%.0f'\u001b[0m\u001b[1;33m)\u001b[0m\u001b[1;33m\u001b[0m\u001b[1;33m\u001b[0m\u001b[0m\n\u001b[0m",
      "\u001b[1;31mAttributeError\u001b[0m: 'AxesSubplot' object has no attribute 'bar_label'"
     ]
    },
    {
     "data": {
      "image/png": "[encoded data removed]",
      "text/plain": [
       "<Figure size 1080x504 with 1 Axes>"
      ]
     },
     "metadata": {
      "needs_background": "light"
     },
     "output_type": "display_data"
    }
   ],
   "source": [
    "##outdoor team performance away\n",
    "\n",
    "ho = home_outdoor[['home_score_home','home_score_away']].sort_values('home_score_home', ascending=False).plot(kind='bar',stacked=False,figsize=(15,7),\n",
    "             fontsize='12', color={'home_score_home':'#4169E1','home_score_away':'#20B2AA'})\n",
    "plt.legend(loc=4)\n",
    "plt.ylabel('Score',fontsize='15')\n",
    "plt.title('Outdoor Team Score vs. Away',fontsize='15')\n",
    "for h in ho.containers:\n",
    "    ho.bar_label(h, fmt='%.0f') \n"
   ]
  },
  {
   "cell_type": "code",
   "execution_count": null,
   "id": "cc65beac-7d71-4fe0-8fcc-05f2853b3024",
   "metadata": {
    "id": "cc65beac-7d71-4fe0-8fcc-05f2853b3024",
    "outputId": "9ff4918b-5055-4c17-d813-efc33a7db409"
   },
   "outputs": [
    {
     "name": "stderr",
     "output_type": "stream",
     "text": [
      "C:\\Users\\e203269\\AppData\\Local\\Temp\\1/ipykernel_26432/3417672957.py:2: SettingWithCopyWarning: \n",
      "A value is trying to be set on a copy of a slice from a DataFrame.\n",
      "Try using .loc[row_indexer,col_indexer] = value instead\n",
      "\n",
      "See the caveats in the documentation: https://pandas.pydata.org/pandas-docs/stable/user_guide/indexing.html#returning-a-view-versus-a-copy\n",
      "  team_perform['home_qb_starts'] = team_perform.groupby('home_qb_name')['home_qb_name'].transform('size')\n"
     ]
    },
    {
     "data": {
      "text/html": [
       "<div>\n",
       "<style scoped>\n",
       "    .dataframe tbody tr th:only-of-type {\n",
       "        vertical-align: middle;\n",
       "    }\n",
       "\n",
       "    .dataframe tbody tr th {\n",
       "        vertical-align: top;\n",
       "    }\n",
       "\n",
       "    .dataframe thead th {\n",
       "        text-align: right;\n",
       "    }\n",
       "</style>\n",
       "<table border=\"1\" class=\"dataframe\">\n",
       "  <thead>\n",
       "    <tr style=\"text-align: right;\">\n",
       "      <th></th>\n",
       "      <th>season</th>\n",
       "      <th>game_type</th>\n",
       "      <th>week</th>\n",
       "      <th>gameday</th>\n",
       "      <th>weekday</th>\n",
       "      <th>W/L</th>\n",
       "      <th>away_team</th>\n",
       "      <th>away_qb_name</th>\n",
       "      <th>away_score</th>\n",
       "      <th>home_team</th>\n",
       "      <th>...</th>\n",
       "      <th>surface</th>\n",
       "      <th>temp</th>\n",
       "      <th>wind</th>\n",
       "      <th>totyards</th>\n",
       "      <th>o_totyards</th>\n",
       "      <th>passyds</th>\n",
       "      <th>o_passyds</th>\n",
       "      <th>rushyds</th>\n",
       "      <th>o_rushyds</th>\n",
       "      <th>home_qb_starts</th>\n",
       "    </tr>\n",
       "  </thead>\n",
       "  <tbody>\n",
       "    <tr>\n",
       "      <th>0</th>\n",
       "      <td>2019</td>\n",
       "      <td>REG</td>\n",
       "      <td>1</td>\n",
       "      <td>2019-09-08</td>\n",
       "      <td>Sunday</td>\n",
       "      <td>L</td>\n",
       "      <td>BUF</td>\n",
       "      <td>Josh Allen</td>\n",
       "      <td>17.0</td>\n",
       "      <td>NYJ</td>\n",
       "      <td>...</td>\n",
       "      <td>fieldturf</td>\n",
       "      <td>77.0</td>\n",
       "      <td>6.0</td>\n",
       "      <td>223.0</td>\n",
       "      <td>370.0</td>\n",
       "      <td>155.0</td>\n",
       "      <td>242.0</td>\n",
       "      <td>68.0</td>\n",
       "      <td>128.0</td>\n",
       "      <td>12</td>\n",
       "    </tr>\n",
       "    <tr>\n",
       "      <th>2</th>\n",
       "      <td>2019</td>\n",
       "      <td>REG</td>\n",
       "      <td>1</td>\n",
       "      <td>2019-09-08</td>\n",
       "      <td>Sunday</td>\n",
       "      <td>W</td>\n",
       "      <td>CIN</td>\n",
       "      <td>Andy Dalton</td>\n",
       "      <td>20.0</td>\n",
       "      <td>SEA</td>\n",
       "      <td>...</td>\n",
       "      <td>fieldturf</td>\n",
       "      <td>64.0</td>\n",
       "      <td>7.0</td>\n",
       "      <td>232.0</td>\n",
       "      <td>429.0</td>\n",
       "      <td>160.0</td>\n",
       "      <td>395.0</td>\n",
       "      <td>72.0</td>\n",
       "      <td>34.0</td>\n",
       "      <td>14</td>\n",
       "    </tr>\n",
       "    <tr>\n",
       "      <th>3</th>\n",
       "      <td>2019</td>\n",
       "      <td>REG</td>\n",
       "      <td>1</td>\n",
       "      <td>2019-09-08</td>\n",
       "      <td>Sunday</td>\n",
       "      <td>T</td>\n",
       "      <td>DET</td>\n",
       "      <td>Matthew Stafford</td>\n",
       "      <td>27.0</td>\n",
       "      <td>ARI</td>\n",
       "      <td>...</td>\n",
       "      <td>grass</td>\n",
       "      <td>NaN</td>\n",
       "      <td>NaN</td>\n",
       "      <td>387.0</td>\n",
       "      <td>477.0</td>\n",
       "      <td>275.0</td>\n",
       "      <td>361.0</td>\n",
       "      <td>112.0</td>\n",
       "      <td>116.0</td>\n",
       "      <td>11</td>\n",
       "    </tr>\n",
       "    <tr>\n",
       "      <th>4</th>\n",
       "      <td>2019</td>\n",
       "      <td>REG</td>\n",
       "      <td>1</td>\n",
       "      <td>2019-09-08</td>\n",
       "      <td>Sunday</td>\n",
       "      <td>W</td>\n",
       "      <td>NYG</td>\n",
       "      <td>Eli Manning</td>\n",
       "      <td>17.0</td>\n",
       "      <td>DAL</td>\n",
       "      <td>...</td>\n",
       "      <td>fieldturf</td>\n",
       "      <td>NaN</td>\n",
       "      <td>NaN</td>\n",
       "      <td>429.0</td>\n",
       "      <td>271.0</td>\n",
       "      <td>257.0</td>\n",
       "      <td>171.0</td>\n",
       "      <td>172.0</td>\n",
       "      <td>100.0</td>\n",
       "      <td>9</td>\n",
       "    </tr>\n",
       "    <tr>\n",
       "      <th>5</th>\n",
       "      <td>2019</td>\n",
       "      <td>REG</td>\n",
       "      <td>1</td>\n",
       "      <td>2019-09-08</td>\n",
       "      <td>Sunday</td>\n",
       "      <td>L</td>\n",
       "      <td>SF</td>\n",
       "      <td>Jimmy Garoppolo</td>\n",
       "      <td>31.0</td>\n",
       "      <td>TB</td>\n",
       "      <td>...</td>\n",
       "      <td>grass</td>\n",
       "      <td>93.0</td>\n",
       "      <td>9.0</td>\n",
       "      <td>295.0</td>\n",
       "      <td>256.0</td>\n",
       "      <td>174.0</td>\n",
       "      <td>158.0</td>\n",
       "      <td>121.0</td>\n",
       "      <td>98.0</td>\n",
       "      <td>9</td>\n",
       "    </tr>\n",
       "  </tbody>\n",
       "</table>\n",
       "<p>5 rows × 26 columns</p>\n",
       "</div>"
      ],
      "text/plain": [
       "   season game_type  week     gameday weekday W/L away_team      away_qb_name  \\\n",
       "0    2019       REG     1  2019-09-08  Sunday   L       BUF        Josh Allen   \n",
       "2    2019       REG     1  2019-09-08  Sunday   W       CIN       Andy Dalton   \n",
       "3    2019       REG     1  2019-09-08  Sunday   T       DET  Matthew Stafford   \n",
       "4    2019       REG     1  2019-09-08  Sunday   W       NYG       Eli Manning   \n",
       "5    2019       REG     1  2019-09-08  Sunday   L        SF   Jimmy Garoppolo   \n",
       "\n",
       "   away_score home_team  ...    surface  temp wind  totyards  o_totyards  \\\n",
       "0        17.0       NYJ  ...  fieldturf  77.0  6.0     223.0       370.0   \n",
       "2        20.0       SEA  ...  fieldturf  64.0  7.0     232.0       429.0   \n",
       "3        27.0       ARI  ...      grass   NaN  NaN     387.0       477.0   \n",
       "4        17.0       DAL  ...  fieldturf   NaN  NaN     429.0       271.0   \n",
       "5        31.0        TB  ...      grass  93.0  9.0     295.0       256.0   \n",
       "\n",
       "  passyds o_passyds  rushyds  o_rushyds  home_qb_starts  \n",
       "0   155.0     242.0     68.0      128.0              12  \n",
       "2   160.0     395.0     72.0       34.0              14  \n",
       "3   275.0     361.0    112.0      116.0              11  \n",
       "4   257.0     171.0    172.0      100.0               9  \n",
       "5   174.0     158.0    121.0       98.0               9  \n",
       "\n",
       "[5 rows x 26 columns]"
      ]
     },
     "execution_count": 36,
     "metadata": {},
     "output_type": "execute_result"
    }
   ],
   "source": [
    "##adding number of starts by qb - home\n",
    "team_perform['home_qb_starts'] = team_perform.groupby('home_qb_name')['home_qb_name'].transform('size')\n",
    "team_perform.head(5)"
   ]
  },
  {
   "cell_type": "code",
   "execution_count": null,
   "id": "df451c81-6512-4409-9ab3-d08b1f270126",
   "metadata": {
    "id": "df451c81-6512-4409-9ab3-d08b1f270126",
    "outputId": "c037f2a5-9532-46be-ee87-50f3bb4e47bb"
   },
   "outputs": [
    {
     "data": {
      "text/html": [
       "<div>\n",
       "<style scoped>\n",
       "    .dataframe tbody tr th:only-of-type {\n",
       "        vertical-align: middle;\n",
       "    }\n",
       "\n",
       "    .dataframe tbody tr th {\n",
       "        vertical-align: top;\n",
       "    }\n",
       "\n",
       "    .dataframe thead th {\n",
       "        text-align: right;\n",
       "    }\n",
       "</style>\n",
       "<table border=\"1\" class=\"dataframe\">\n",
       "  <thead>\n",
       "    <tr style=\"text-align: right;\">\n",
       "      <th></th>\n",
       "      <th>away_qb_name</th>\n",
       "      <th>away_qb_starts</th>\n",
       "    </tr>\n",
       "  </thead>\n",
       "  <tbody>\n",
       "    <tr>\n",
       "      <th>0</th>\n",
       "      <td>Josh Allen</td>\n",
       "      <td>19</td>\n",
       "    </tr>\n",
       "    <tr>\n",
       "      <th>2</th>\n",
       "      <td>Andy Dalton</td>\n",
       "      <td>12</td>\n",
       "    </tr>\n",
       "    <tr>\n",
       "      <th>3</th>\n",
       "      <td>Matthew Stafford</td>\n",
       "      <td>5</td>\n",
       "    </tr>\n",
       "    <tr>\n",
       "      <th>4</th>\n",
       "      <td>Eli Manning</td>\n",
       "      <td>1</td>\n",
       "    </tr>\n",
       "    <tr>\n",
       "      <th>5</th>\n",
       "      <td>Jimmy Garoppolo</td>\n",
       "      <td>13</td>\n",
       "    </tr>\n",
       "    <tr>\n",
       "      <th>...</th>\n",
       "      <td>...</td>\n",
       "      <td>...</td>\n",
       "    </tr>\n",
       "    <tr>\n",
       "      <th>518</th>\n",
       "      <td>Joe Burrow</td>\n",
       "      <td>11</td>\n",
       "    </tr>\n",
       "    <tr>\n",
       "      <th>519</th>\n",
       "      <td>Josh Allen</td>\n",
       "      <td>19</td>\n",
       "    </tr>\n",
       "    <tr>\n",
       "      <th>520</th>\n",
       "      <td>Aaron Rodgers</td>\n",
       "      <td>9</td>\n",
       "    </tr>\n",
       "    <tr>\n",
       "      <th>521</th>\n",
       "      <td>Andy Dalton</td>\n",
       "      <td>12</td>\n",
       "    </tr>\n",
       "    <tr>\n",
       "      <th>522</th>\n",
       "      <td>Kirk Cousins</td>\n",
       "      <td>18</td>\n",
       "    </tr>\n",
       "  </tbody>\n",
       "</table>\n",
       "<p>452 rows × 2 columns</p>\n",
       "</div>"
      ],
      "text/plain": [
       "         away_qb_name  away_qb_starts\n",
       "0          Josh Allen              19\n",
       "2         Andy Dalton              12\n",
       "3    Matthew Stafford               5\n",
       "4         Eli Manning               1\n",
       "5     Jimmy Garoppolo              13\n",
       "..                ...             ...\n",
       "518        Joe Burrow              11\n",
       "519        Josh Allen              19\n",
       "520     Aaron Rodgers               9\n",
       "521       Andy Dalton              12\n",
       "522      Kirk Cousins              18\n",
       "\n",
       "[452 rows x 2 columns]"
      ]
     },
     "execution_count": 37,
     "metadata": {},
     "output_type": "execute_result"
    }
   ],
   "source": [
    "##creating away QB starts in it's own dataframe, then merging it into the team_perform dataframe\n",
    "awayqb = team_perform['away_qb_name']\n",
    "awayqb = pd.DataFrame(awayqb)\n",
    "awayqb['away_qb_starts'] = team_perform.groupby('away_qb_name')['away_qb_name'].transform('size')\n",
    "awayqb"
   ]
  },
  {
   "cell_type": "code",
   "execution_count": null,
   "id": "556227d8-002b-4cc0-8224-0fe3f9e4c17c",
   "metadata": {
    "id": "556227d8-002b-4cc0-8224-0fe3f9e4c17c",
    "outputId": "68430de3-e807-44f8-dc71-c4421b675d19"
   },
   "outputs": [
    {
     "data": {
      "text/html": [
       "<div>\n",
       "<style scoped>\n",
       "    .dataframe tbody tr th:only-of-type {\n",
       "        vertical-align: middle;\n",
       "    }\n",
       "\n",
       "    .dataframe tbody tr th {\n",
       "        vertical-align: top;\n",
       "    }\n",
       "\n",
       "    .dataframe thead th {\n",
       "        text-align: right;\n",
       "    }\n",
       "</style>\n",
       "<table border=\"1\" class=\"dataframe\">\n",
       "  <thead>\n",
       "    <tr style=\"text-align: right;\">\n",
       "      <th></th>\n",
       "      <th>home_qb_name</th>\n",
       "      <th>away_qb_name</th>\n",
       "      <th>home_qb_starts</th>\n",
       "      <th>away_qb_starts</th>\n",
       "    </tr>\n",
       "  </thead>\n",
       "  <tbody>\n",
       "    <tr>\n",
       "      <th>0</th>\n",
       "      <td>Sam Darnold</td>\n",
       "      <td>Josh Allen</td>\n",
       "      <td>12</td>\n",
       "      <td>19</td>\n",
       "    </tr>\n",
       "    <tr>\n",
       "      <th>1</th>\n",
       "      <td>Sam Darnold</td>\n",
       "      <td>Josh Allen</td>\n",
       "      <td>12</td>\n",
       "      <td>19</td>\n",
       "    </tr>\n",
       "    <tr>\n",
       "      <th>2</th>\n",
       "      <td>Sam Darnold</td>\n",
       "      <td>Josh Allen</td>\n",
       "      <td>12</td>\n",
       "      <td>19</td>\n",
       "    </tr>\n",
       "    <tr>\n",
       "      <th>3</th>\n",
       "      <td>Sam Darnold</td>\n",
       "      <td>Josh Allen</td>\n",
       "      <td>12</td>\n",
       "      <td>19</td>\n",
       "    </tr>\n",
       "    <tr>\n",
       "      <th>4</th>\n",
       "      <td>Sam Darnold</td>\n",
       "      <td>Josh Allen</td>\n",
       "      <td>12</td>\n",
       "      <td>19</td>\n",
       "    </tr>\n",
       "    <tr>\n",
       "      <th>...</th>\n",
       "      <td>...</td>\n",
       "      <td>...</td>\n",
       "      <td>...</td>\n",
       "      <td>...</td>\n",
       "    </tr>\n",
       "    <tr>\n",
       "      <th>4699</th>\n",
       "      <td>Jared Goff</td>\n",
       "      <td>Kirk Cousins</td>\n",
       "      <td>7</td>\n",
       "      <td>18</td>\n",
       "    </tr>\n",
       "    <tr>\n",
       "      <th>4700</th>\n",
       "      <td>Jared Goff</td>\n",
       "      <td>Kirk Cousins</td>\n",
       "      <td>7</td>\n",
       "      <td>18</td>\n",
       "    </tr>\n",
       "    <tr>\n",
       "      <th>4701</th>\n",
       "      <td>Jared Goff</td>\n",
       "      <td>Kirk Cousins</td>\n",
       "      <td>7</td>\n",
       "      <td>18</td>\n",
       "    </tr>\n",
       "    <tr>\n",
       "      <th>4702</th>\n",
       "      <td>Jared Goff</td>\n",
       "      <td>Kirk Cousins</td>\n",
       "      <td>7</td>\n",
       "      <td>18</td>\n",
       "    </tr>\n",
       "    <tr>\n",
       "      <th>4703</th>\n",
       "      <td>Jared Goff</td>\n",
       "      <td>Kirk Cousins</td>\n",
       "      <td>7</td>\n",
       "      <td>18</td>\n",
       "    </tr>\n",
       "  </tbody>\n",
       "</table>\n",
       "<p>4704 rows × 4 columns</p>\n",
       "</div>"
      ],
      "text/plain": [
       "     home_qb_name  away_qb_name  home_qb_starts  away_qb_starts\n",
       "0     Sam Darnold    Josh Allen              12              19\n",
       "1     Sam Darnold    Josh Allen              12              19\n",
       "2     Sam Darnold    Josh Allen              12              19\n",
       "3     Sam Darnold    Josh Allen              12              19\n",
       "4     Sam Darnold    Josh Allen              12              19\n",
       "...           ...           ...             ...             ...\n",
       "4699   Jared Goff  Kirk Cousins               7              18\n",
       "4700   Jared Goff  Kirk Cousins               7              18\n",
       "4701   Jared Goff  Kirk Cousins               7              18\n",
       "4702   Jared Goff  Kirk Cousins               7              18\n",
       "4703   Jared Goff  Kirk Cousins               7              18\n",
       "\n",
       "[4704 rows x 4 columns]"
      ]
     },
     "execution_count": 38,
     "metadata": {},
     "output_type": "execute_result"
    }
   ],
   "source": [
    "#merging away qb starts with entire df\n",
    "#this will duplicate a lot of the data. i dont know how to merge without duplication\n",
    "team_perform = pd.merge(team_perform,\n",
    "                        awayqb,\n",
    "                        on='away_qb_name',\n",
    "                        #left_on='away_qb_name',\n",
    "                        #right_on='away_qb_name',\n",
    "                        how='left') \n",
    "team_perform[['home_qb_name','away_qb_name','home_qb_starts','away_qb_starts']]"
   ]
  },
  {
   "cell_type": "markdown",
   "id": "895d8ce7",
   "metadata": {},
   "source": [
    "# dropping duplicates"
   ]
  },
  {
   "cell_type": "code",
   "execution_count": null,
   "id": "4d1e5e53-15ca-488a-b51f-78591fbbe524",
   "metadata": {
    "id": "4d1e5e53-15ca-488a-b51f-78591fbbe524",
    "outputId": "e9af7610-8340-4798-b9cf-a4ad6db208a4"
   },
   "outputs": [
    {
     "data": {
      "text/html": [
       "<div>\n",
       "<style scoped>\n",
       "    .dataframe tbody tr th:only-of-type {\n",
       "        vertical-align: middle;\n",
       "    }\n",
       "\n",
       "    .dataframe tbody tr th {\n",
       "        vertical-align: top;\n",
       "    }\n",
       "\n",
       "    .dataframe thead th {\n",
       "        text-align: right;\n",
       "    }\n",
       "</style>\n",
       "<table border=\"1\" class=\"dataframe\">\n",
       "  <thead>\n",
       "    <tr style=\"text-align: right;\">\n",
       "      <th></th>\n",
       "      <th>season</th>\n",
       "      <th>week</th>\n",
       "      <th>away_score</th>\n",
       "      <th>home_score</th>\n",
       "      <th>result</th>\n",
       "      <th>indoor_outdoor</th>\n",
       "      <th>temp</th>\n",
       "      <th>wind</th>\n",
       "      <th>totyards</th>\n",
       "      <th>o_totyards</th>\n",
       "      <th>passyds</th>\n",
       "      <th>o_passyds</th>\n",
       "      <th>rushyds</th>\n",
       "      <th>o_rushyds</th>\n",
       "      <th>home_qb_starts</th>\n",
       "      <th>away_qb_starts</th>\n",
       "    </tr>\n",
       "  </thead>\n",
       "  <tbody>\n",
       "    <tr>\n",
       "      <th>count</th>\n",
       "      <td>452.000000</td>\n",
       "      <td>452.000000</td>\n",
       "      <td>452.000000</td>\n",
       "      <td>452.000000</td>\n",
       "      <td>452.000000</td>\n",
       "      <td>452.000000</td>\n",
       "      <td>296.000000</td>\n",
       "      <td>296.000000</td>\n",
       "      <td>452.000000</td>\n",
       "      <td>452.000000</td>\n",
       "      <td>452.000000</td>\n",
       "      <td>452.000000</td>\n",
       "      <td>452.000000</td>\n",
       "      <td>452.000000</td>\n",
       "      <td>452.000000</td>\n",
       "      <td>452.000000</td>\n",
       "    </tr>\n",
       "    <tr>\n",
       "      <th>mean</th>\n",
       "      <td>2020.176991</td>\n",
       "      <td>9.261062</td>\n",
       "      <td>22.557522</td>\n",
       "      <td>23.823009</td>\n",
       "      <td>1.265487</td>\n",
       "      <td>0.727876</td>\n",
       "      <td>58.672297</td>\n",
       "      <td>8.837838</td>\n",
       "      <td>351.960177</td>\n",
       "      <td>344.878319</td>\n",
       "      <td>230.796460</td>\n",
       "      <td>230.176991</td>\n",
       "      <td>121.163717</td>\n",
       "      <td>114.701327</td>\n",
       "      <td>10.858407</td>\n",
       "      <td>10.407080</td>\n",
       "    </tr>\n",
       "    <tr>\n",
       "      <th>std</th>\n",
       "      <td>0.976260</td>\n",
       "      <td>5.503314</td>\n",
       "      <td>9.899439</td>\n",
       "      <td>9.843773</td>\n",
       "      <td>13.982420</td>\n",
       "      <td>0.445546</td>\n",
       "      <td>17.343510</td>\n",
       "      <td>5.213482</td>\n",
       "      <td>84.667018</td>\n",
       "      <td>87.438243</td>\n",
       "      <td>78.491251</td>\n",
       "      <td>80.285077</td>\n",
       "      <td>54.611993</td>\n",
       "      <td>51.944083</td>\n",
       "      <td>5.708153</td>\n",
       "      <td>5.226382</td>\n",
       "    </tr>\n",
       "    <tr>\n",
       "      <th>min</th>\n",
       "      <td>2019.000000</td>\n",
       "      <td>1.000000</td>\n",
       "      <td>0.000000</td>\n",
       "      <td>0.000000</td>\n",
       "      <td>-43.000000</td>\n",
       "      <td>0.000000</td>\n",
       "      <td>7.000000</td>\n",
       "      <td>0.000000</td>\n",
       "      <td>105.000000</td>\n",
       "      <td>105.000000</td>\n",
       "      <td>12.000000</td>\n",
       "      <td>-6.000000</td>\n",
       "      <td>3.000000</td>\n",
       "      <td>8.000000</td>\n",
       "      <td>1.000000</td>\n",
       "      <td>1.000000</td>\n",
       "    </tr>\n",
       "    <tr>\n",
       "      <th>25%</th>\n",
       "      <td>2019.000000</td>\n",
       "      <td>4.000000</td>\n",
       "      <td>16.000000</td>\n",
       "      <td>17.000000</td>\n",
       "      <td>-6.000000</td>\n",
       "      <td>0.000000</td>\n",
       "      <td>45.000000</td>\n",
       "      <td>5.000000</td>\n",
       "      <td>295.750000</td>\n",
       "      <td>281.750000</td>\n",
       "      <td>174.000000</td>\n",
       "      <td>173.000000</td>\n",
       "      <td>83.000000</td>\n",
       "      <td>74.000000</td>\n",
       "      <td>7.000000</td>\n",
       "      <td>7.000000</td>\n",
       "    </tr>\n",
       "    <tr>\n",
       "      <th>50%</th>\n",
       "      <td>2020.000000</td>\n",
       "      <td>9.000000</td>\n",
       "      <td>23.000000</td>\n",
       "      <td>24.000000</td>\n",
       "      <td>1.500000</td>\n",
       "      <td>1.000000</td>\n",
       "      <td>59.000000</td>\n",
       "      <td>8.000000</td>\n",
       "      <td>360.000000</td>\n",
       "      <td>349.500000</td>\n",
       "      <td>228.500000</td>\n",
       "      <td>227.500000</td>\n",
       "      <td>112.000000</td>\n",
       "      <td>106.000000</td>\n",
       "      <td>10.000000</td>\n",
       "      <td>11.000000</td>\n",
       "    </tr>\n",
       "    <tr>\n",
       "      <th>75%</th>\n",
       "      <td>2021.000000</td>\n",
       "      <td>14.000000</td>\n",
       "      <td>30.000000</td>\n",
       "      <td>30.000000</td>\n",
       "      <td>10.000000</td>\n",
       "      <td>1.000000</td>\n",
       "      <td>73.000000</td>\n",
       "      <td>12.000000</td>\n",
       "      <td>410.250000</td>\n",
       "      <td>402.000000</td>\n",
       "      <td>281.250000</td>\n",
       "      <td>280.000000</td>\n",
       "      <td>149.250000</td>\n",
       "      <td>146.000000</td>\n",
       "      <td>15.000000</td>\n",
       "      <td>13.000000</td>\n",
       "    </tr>\n",
       "    <tr>\n",
       "      <th>max</th>\n",
       "      <td>2022.000000</td>\n",
       "      <td>21.000000</td>\n",
       "      <td>51.000000</td>\n",
       "      <td>56.000000</td>\n",
       "      <td>40.000000</td>\n",
       "      <td>1.000000</td>\n",
       "      <td>93.000000</td>\n",
       "      <td>27.000000</td>\n",
       "      <td>592.000000</td>\n",
       "      <td>572.000000</td>\n",
       "      <td>467.000000</td>\n",
       "      <td>461.000000</td>\n",
       "      <td>294.000000</td>\n",
       "      <td>288.000000</td>\n",
       "      <td>22.000000</td>\n",
       "      <td>19.000000</td>\n",
       "    </tr>\n",
       "  </tbody>\n",
       "</table>\n",
       "</div>"
      ],
      "text/plain": [
       "            season        week  away_score  home_score      result  \\\n",
       "count   452.000000  452.000000  452.000000  452.000000  452.000000   \n",
       "mean   2020.176991    9.261062   22.557522   23.823009    1.265487   \n",
       "std       0.976260    5.503314    9.899439    9.843773   13.982420   \n",
       "min    2019.000000    1.000000    0.000000    0.000000  -43.000000   \n",
       "25%    2019.000000    4.000000   16.000000   17.000000   -6.000000   \n",
       "50%    2020.000000    9.000000   23.000000   24.000000    1.500000   \n",
       "75%    2021.000000   14.000000   30.000000   30.000000   10.000000   \n",
       "max    2022.000000   21.000000   51.000000   56.000000   40.000000   \n",
       "\n",
       "       indoor_outdoor        temp        wind    totyards  o_totyards  \\\n",
       "count      452.000000  296.000000  296.000000  452.000000  452.000000   \n",
       "mean         0.727876   58.672297    8.837838  351.960177  344.878319   \n",
       "std          0.445546   17.343510    5.213482   84.667018   87.438243   \n",
       "min          0.000000    7.000000    0.000000  105.000000  105.000000   \n",
       "25%          0.000000   45.000000    5.000000  295.750000  281.750000   \n",
       "50%          1.000000   59.000000    8.000000  360.000000  349.500000   \n",
       "75%          1.000000   73.000000   12.000000  410.250000  402.000000   \n",
       "max          1.000000   93.000000   27.000000  592.000000  572.000000   \n",
       "\n",
       "          passyds   o_passyds     rushyds   o_rushyds  home_qb_starts  \\\n",
       "count  452.000000  452.000000  452.000000  452.000000      452.000000   \n",
       "mean   230.796460  230.176991  121.163717  114.701327       10.858407   \n",
       "std     78.491251   80.285077   54.611993   51.944083        5.708153   \n",
       "min     12.000000   -6.000000    3.000000    8.000000        1.000000   \n",
       "25%    174.000000  173.000000   83.000000   74.000000        7.000000   \n",
       "50%    228.500000  227.500000  112.000000  106.000000       10.000000   \n",
       "75%    281.250000  280.000000  149.250000  146.000000       15.000000   \n",
       "max    467.000000  461.000000  294.000000  288.000000       22.000000   \n",
       "\n",
       "       away_qb_starts  \n",
       "count      452.000000  \n",
       "mean        10.407080  \n",
       "std          5.226382  \n",
       "min          1.000000  \n",
       "25%          7.000000  \n",
       "50%         11.000000  \n",
       "75%         13.000000  \n",
       "max         19.000000  "
      ]
     },
     "execution_count": 39,
     "metadata": {},
     "output_type": "execute_result"
    }
   ],
   "source": [
    "#dropping duplicates\n",
    "team_perform = team_perform.drop_duplicates()\n",
    "##using describe to confirm we still have the 449 unique rows\n",
    "team_perform.describe()"
   ]
  },
  {
   "cell_type": "code",
   "execution_count": null,
   "id": "08e0de6b-8226-4ec4-b058-55e1a156060f",
   "metadata": {
    "id": "08e0de6b-8226-4ec4-b058-55e1a156060f",
    "outputId": "b705858d-3a19-4319-8d1a-e34254af5674"
   },
   "outputs": [
    {
     "data": {
      "text/html": [
       "<div>\n",
       "<style scoped>\n",
       "    .dataframe tbody tr th:only-of-type {\n",
       "        vertical-align: middle;\n",
       "    }\n",
       "\n",
       "    .dataframe tbody tr th {\n",
       "        vertical-align: top;\n",
       "    }\n",
       "\n",
       "    .dataframe thead th {\n",
       "        text-align: right;\n",
       "    }\n",
       "</style>\n",
       "<table border=\"1\" class=\"dataframe\">\n",
       "  <thead>\n",
       "    <tr style=\"text-align: right;\">\n",
       "      <th></th>\n",
       "      <th>season</th>\n",
       "      <th>game_type</th>\n",
       "      <th>week</th>\n",
       "      <th>gameday</th>\n",
       "      <th>weekday</th>\n",
       "      <th>W/L</th>\n",
       "      <th>away_team</th>\n",
       "      <th>away_qb_name</th>\n",
       "      <th>away_score</th>\n",
       "      <th>home_team</th>\n",
       "      <th>...</th>\n",
       "      <th>temp</th>\n",
       "      <th>wind</th>\n",
       "      <th>totyards</th>\n",
       "      <th>o_totyards</th>\n",
       "      <th>passyds</th>\n",
       "      <th>o_passyds</th>\n",
       "      <th>rushyds</th>\n",
       "      <th>o_rushyds</th>\n",
       "      <th>home_qb_starts</th>\n",
       "      <th>away_qb_starts</th>\n",
       "    </tr>\n",
       "  </thead>\n",
       "  <tbody>\n",
       "    <tr>\n",
       "      <th>161</th>\n",
       "      <td>2019</td>\n",
       "      <td>REG</td>\n",
       "      <td>2</td>\n",
       "      <td>2019-09-16</td>\n",
       "      <td>Monday</td>\n",
       "      <td>L</td>\n",
       "      <td>CLE</td>\n",
       "      <td>Baker Mayfield</td>\n",
       "      <td>23.0</td>\n",
       "      <td>NYJ</td>\n",
       "      <td>...</td>\n",
       "      <td>72.0</td>\n",
       "      <td>3.0</td>\n",
       "      <td>262.0</td>\n",
       "      <td>375.0</td>\n",
       "      <td>169.0</td>\n",
       "      <td>305.0</td>\n",
       "      <td>93.0</td>\n",
       "      <td>70.0</td>\n",
       "      <td>2</td>\n",
       "      <td>11</td>\n",
       "    </tr>\n",
       "    <tr>\n",
       "      <th>228</th>\n",
       "      <td>2019</td>\n",
       "      <td>REG</td>\n",
       "      <td>4</td>\n",
       "      <td>2019-09-29</td>\n",
       "      <td>Sunday</td>\n",
       "      <td>L</td>\n",
       "      <td>CLE</td>\n",
       "      <td>Baker Mayfield</td>\n",
       "      <td>40.0</td>\n",
       "      <td>BAL</td>\n",
       "      <td>...</td>\n",
       "      <td>83.0</td>\n",
       "      <td>8.0</td>\n",
       "      <td>395.0</td>\n",
       "      <td>530.0</td>\n",
       "      <td>222.0</td>\n",
       "      <td>337.0</td>\n",
       "      <td>173.0</td>\n",
       "      <td>193.0</td>\n",
       "      <td>17</td>\n",
       "      <td>11</td>\n",
       "    </tr>\n",
       "    <tr>\n",
       "      <th>917</th>\n",
       "      <td>2019</td>\n",
       "      <td>REG</td>\n",
       "      <td>13</td>\n",
       "      <td>2019-12-01</td>\n",
       "      <td>Sunday</td>\n",
       "      <td>W</td>\n",
       "      <td>CLE</td>\n",
       "      <td>Baker Mayfield</td>\n",
       "      <td>13.0</td>\n",
       "      <td>PIT</td>\n",
       "      <td>...</td>\n",
       "      <td>46.0</td>\n",
       "      <td>6.0</td>\n",
       "      <td>323.0</td>\n",
       "      <td>279.0</td>\n",
       "      <td>199.0</td>\n",
       "      <td>173.0</td>\n",
       "      <td>124.0</td>\n",
       "      <td>106.0</td>\n",
       "      <td>2</td>\n",
       "      <td>11</td>\n",
       "    </tr>\n",
       "    <tr>\n",
       "      <th>1084</th>\n",
       "      <td>2019</td>\n",
       "      <td>REG</td>\n",
       "      <td>15</td>\n",
       "      <td>2019-12-15</td>\n",
       "      <td>Sunday</td>\n",
       "      <td>W</td>\n",
       "      <td>CLE</td>\n",
       "      <td>Baker Mayfield</td>\n",
       "      <td>24.0</td>\n",
       "      <td>ARI</td>\n",
       "      <td>...</td>\n",
       "      <td>NaN</td>\n",
       "      <td>NaN</td>\n",
       "      <td>445.0</td>\n",
       "      <td>393.0</td>\n",
       "      <td>219.0</td>\n",
       "      <td>241.0</td>\n",
       "      <td>226.0</td>\n",
       "      <td>152.0</td>\n",
       "      <td>11</td>\n",
       "      <td>11</td>\n",
       "    </tr>\n",
       "    <tr>\n",
       "      <th>1242</th>\n",
       "      <td>2019</td>\n",
       "      <td>REG</td>\n",
       "      <td>17</td>\n",
       "      <td>2019-12-29</td>\n",
       "      <td>Sunday</td>\n",
       "      <td>L</td>\n",
       "      <td>CLE</td>\n",
       "      <td>Baker Mayfield</td>\n",
       "      <td>23.0</td>\n",
       "      <td>CIN</td>\n",
       "      <td>...</td>\n",
       "      <td>64.0</td>\n",
       "      <td>7.0</td>\n",
       "      <td>451.0</td>\n",
       "      <td>333.0</td>\n",
       "      <td>272.0</td>\n",
       "      <td>187.0</td>\n",
       "      <td>179.0</td>\n",
       "      <td>146.0</td>\n",
       "      <td>7</td>\n",
       "      <td>11</td>\n",
       "    </tr>\n",
       "    <tr>\n",
       "      <th>1428</th>\n",
       "      <td>2020</td>\n",
       "      <td>REG</td>\n",
       "      <td>1</td>\n",
       "      <td>2020-09-13</td>\n",
       "      <td>Sunday</td>\n",
       "      <td>W</td>\n",
       "      <td>CLE</td>\n",
       "      <td>Baker Mayfield</td>\n",
       "      <td>6.0</td>\n",
       "      <td>BAL</td>\n",
       "      <td>...</td>\n",
       "      <td>76.0</td>\n",
       "      <td>5.0</td>\n",
       "      <td>381.0</td>\n",
       "      <td>306.0</td>\n",
       "      <td>270.0</td>\n",
       "      <td>168.0</td>\n",
       "      <td>111.0</td>\n",
       "      <td>138.0</td>\n",
       "      <td>17</td>\n",
       "      <td>11</td>\n",
       "    </tr>\n",
       "    <tr>\n",
       "      <th>1920</th>\n",
       "      <td>2020</td>\n",
       "      <td>REG</td>\n",
       "      <td>7</td>\n",
       "      <td>2020-10-25</td>\n",
       "      <td>Sunday</td>\n",
       "      <td>L</td>\n",
       "      <td>CLE</td>\n",
       "      <td>Baker Mayfield</td>\n",
       "      <td>37.0</td>\n",
       "      <td>CIN</td>\n",
       "      <td>...</td>\n",
       "      <td>48.0</td>\n",
       "      <td>8.0</td>\n",
       "      <td>353.0</td>\n",
       "      <td>434.0</td>\n",
       "      <td>285.0</td>\n",
       "      <td>219.0</td>\n",
       "      <td>68.0</td>\n",
       "      <td>215.0</td>\n",
       "      <td>7</td>\n",
       "      <td>11</td>\n",
       "    </tr>\n",
       "    <tr>\n",
       "      <th>2421</th>\n",
       "      <td>2020</td>\n",
       "      <td>REG</td>\n",
       "      <td>13</td>\n",
       "      <td>2020-12-06</td>\n",
       "      <td>Sunday</td>\n",
       "      <td>L</td>\n",
       "      <td>CLE</td>\n",
       "      <td>Baker Mayfield</td>\n",
       "      <td>41.0</td>\n",
       "      <td>TEN</td>\n",
       "      <td>...</td>\n",
       "      <td>52.0</td>\n",
       "      <td>1.0</td>\n",
       "      <td>431.0</td>\n",
       "      <td>458.0</td>\n",
       "      <td>369.0</td>\n",
       "      <td>340.0</td>\n",
       "      <td>62.0</td>\n",
       "      <td>118.0</td>\n",
       "      <td>16</td>\n",
       "      <td>11</td>\n",
       "    </tr>\n",
       "    <tr>\n",
       "      <th>2782</th>\n",
       "      <td>2020</td>\n",
       "      <td>DIV</td>\n",
       "      <td>19</td>\n",
       "      <td>2021-01-17</td>\n",
       "      <td>Sunday</td>\n",
       "      <td>W</td>\n",
       "      <td>CLE</td>\n",
       "      <td>Baker Mayfield</td>\n",
       "      <td>17.0</td>\n",
       "      <td>KC</td>\n",
       "      <td>...</td>\n",
       "      <td>40.0</td>\n",
       "      <td>13.0</td>\n",
       "      <td>438.0</td>\n",
       "      <td>308.0</td>\n",
       "      <td>315.0</td>\n",
       "      <td>196.0</td>\n",
       "      <td>123.0</td>\n",
       "      <td>112.0</td>\n",
       "      <td>22</td>\n",
       "      <td>11</td>\n",
       "    </tr>\n",
       "    <tr>\n",
       "      <th>3718</th>\n",
       "      <td>2021</td>\n",
       "      <td>REG</td>\n",
       "      <td>12</td>\n",
       "      <td>2021-11-28</td>\n",
       "      <td>Sunday</td>\n",
       "      <td>W</td>\n",
       "      <td>CLE</td>\n",
       "      <td>Baker Mayfield</td>\n",
       "      <td>10.0</td>\n",
       "      <td>BAL</td>\n",
       "      <td>...</td>\n",
       "      <td>43.0</td>\n",
       "      <td>0.0</td>\n",
       "      <td>303.0</td>\n",
       "      <td>262.0</td>\n",
       "      <td>155.0</td>\n",
       "      <td>222.0</td>\n",
       "      <td>148.0</td>\n",
       "      <td>40.0</td>\n",
       "      <td>17</td>\n",
       "      <td>11</td>\n",
       "    </tr>\n",
       "    <tr>\n",
       "      <th>4126</th>\n",
       "      <td>2021</td>\n",
       "      <td>REG</td>\n",
       "      <td>17</td>\n",
       "      <td>2022-01-03</td>\n",
       "      <td>Monday</td>\n",
       "      <td>W</td>\n",
       "      <td>CLE</td>\n",
       "      <td>Baker Mayfield</td>\n",
       "      <td>14.0</td>\n",
       "      <td>PIT</td>\n",
       "      <td>...</td>\n",
       "      <td>25.0</td>\n",
       "      <td>12.0</td>\n",
       "      <td>299.0</td>\n",
       "      <td>232.0</td>\n",
       "      <td>109.0</td>\n",
       "      <td>139.0</td>\n",
       "      <td>190.0</td>\n",
       "      <td>93.0</td>\n",
       "      <td>10</td>\n",
       "      <td>11</td>\n",
       "    </tr>\n",
       "  </tbody>\n",
       "</table>\n",
       "<p>11 rows × 27 columns</p>\n",
       "</div>"
      ],
      "text/plain": [
       "      season game_type  week     gameday weekday W/L away_team  \\\n",
       "161     2019       REG     2  2019-09-16  Monday   L       CLE   \n",
       "228     2019       REG     4  2019-09-29  Sunday   L       CLE   \n",
       "917     2019       REG    13  2019-12-01  Sunday   W       CLE   \n",
       "1084    2019       REG    15  2019-12-15  Sunday   W       CLE   \n",
       "1242    2019       REG    17  2019-12-29  Sunday   L       CLE   \n",
       "1428    2020       REG     1  2020-09-13  Sunday   W       CLE   \n",
       "1920    2020       REG     7  2020-10-25  Sunday   L       CLE   \n",
       "2421    2020       REG    13  2020-12-06  Sunday   L       CLE   \n",
       "2782    2020       DIV    19  2021-01-17  Sunday   W       CLE   \n",
       "3718    2021       REG    12  2021-11-28  Sunday   W       CLE   \n",
       "4126    2021       REG    17  2022-01-03  Monday   W       CLE   \n",
       "\n",
       "        away_qb_name  away_score home_team  ...  temp  wind totyards  \\\n",
       "161   Baker Mayfield        23.0       NYJ  ...  72.0   3.0    262.0   \n",
       "228   Baker Mayfield        40.0       BAL  ...  83.0   8.0    395.0   \n",
       "917   Baker Mayfield        13.0       PIT  ...  46.0   6.0    323.0   \n",
       "1084  Baker Mayfield        24.0       ARI  ...   NaN   NaN    445.0   \n",
       "1242  Baker Mayfield        23.0       CIN  ...  64.0   7.0    451.0   \n",
       "1428  Baker Mayfield         6.0       BAL  ...  76.0   5.0    381.0   \n",
       "1920  Baker Mayfield        37.0       CIN  ...  48.0   8.0    353.0   \n",
       "2421  Baker Mayfield        41.0       TEN  ...  52.0   1.0    431.0   \n",
       "2782  Baker Mayfield        17.0        KC  ...  40.0  13.0    438.0   \n",
       "3718  Baker Mayfield        10.0       BAL  ...  43.0   0.0    303.0   \n",
       "4126  Baker Mayfield        14.0       PIT  ...  25.0  12.0    299.0   \n",
       "\n",
       "      o_totyards  passyds o_passyds rushyds  o_rushyds  home_qb_starts  \\\n",
       "161        375.0    169.0     305.0    93.0       70.0               2   \n",
       "228        530.0    222.0     337.0   173.0      193.0              17   \n",
       "917        279.0    199.0     173.0   124.0      106.0               2   \n",
       "1084       393.0    219.0     241.0   226.0      152.0              11   \n",
       "1242       333.0    272.0     187.0   179.0      146.0               7   \n",
       "1428       306.0    270.0     168.0   111.0      138.0              17   \n",
       "1920       434.0    285.0     219.0    68.0      215.0               7   \n",
       "2421       458.0    369.0     340.0    62.0      118.0              16   \n",
       "2782       308.0    315.0     196.0   123.0      112.0              22   \n",
       "3718       262.0    155.0     222.0   148.0       40.0              17   \n",
       "4126       232.0    109.0     139.0   190.0       93.0              10   \n",
       "\n",
       "      away_qb_starts  \n",
       "161               11  \n",
       "228               11  \n",
       "917               11  \n",
       "1084              11  \n",
       "1242              11  \n",
       "1428              11  \n",
       "1920              11  \n",
       "2421              11  \n",
       "2782              11  \n",
       "3718              11  \n",
       "4126              11  \n",
       "\n",
       "[11 rows x 27 columns]"
      ]
     },
     "execution_count": 40,
     "metadata": {},
     "output_type": "execute_result"
    }
   ],
   "source": [
    "#validing data\n",
    "#team_perform.loc[(team_perform['home_qb_name' == 'Bailey Zappe')\n",
    "                               \n",
    "#team_perform.loc[(team_perform['home_qb_name'] == 'Bailey Zappe')]\n",
    "team_perform.loc[(team_perform['away_qb_name'] == 'Baker Mayfield')]"
   ]
  },
  {
   "cell_type": "code",
   "execution_count": null,
   "id": "3fb593ad-4999-4019-9746-323a8e49771a",
   "metadata": {
    "id": "3fb593ad-4999-4019-9746-323a8e49771a",
    "outputId": "9dfcb069-fcf7-4001-9ace-198eaf6bb188"
   },
   "outputs": [
    {
     "data": {
      "text/html": [
       "<div>\n",
       "<style scoped>\n",
       "    .dataframe tbody tr th:only-of-type {\n",
       "        vertical-align: middle;\n",
       "    }\n",
       "\n",
       "    .dataframe tbody tr th {\n",
       "        vertical-align: top;\n",
       "    }\n",
       "\n",
       "    .dataframe thead th {\n",
       "        text-align: right;\n",
       "    }\n",
       "</style>\n",
       "<table border=\"1\" class=\"dataframe\">\n",
       "  <thead>\n",
       "    <tr style=\"text-align: right;\">\n",
       "      <th></th>\n",
       "      <th>home_score</th>\n",
       "      <th>indoor_outdoor</th>\n",
       "      <th>passyds</th>\n",
       "      <th>rushyds</th>\n",
       "      <th>home_qb_starts</th>\n",
       "    </tr>\n",
       "    <tr>\n",
       "      <th>home_qb_name</th>\n",
       "      <th></th>\n",
       "      <th></th>\n",
       "      <th></th>\n",
       "      <th></th>\n",
       "      <th></th>\n",
       "    </tr>\n",
       "  </thead>\n",
       "  <tbody>\n",
       "    <tr>\n",
       "      <th>Patrick Mahomes</th>\n",
       "      <td>28.18</td>\n",
       "      <td>1.0</td>\n",
       "      <td>290.14</td>\n",
       "      <td>103.23</td>\n",
       "      <td>22.0</td>\n",
       "    </tr>\n",
       "    <tr>\n",
       "      <th>Tom Brady</th>\n",
       "      <td>28.05</td>\n",
       "      <td>1.0</td>\n",
       "      <td>277.48</td>\n",
       "      <td>83.71</td>\n",
       "      <td>21.0</td>\n",
       "    </tr>\n",
       "    <tr>\n",
       "      <th>Josh Allen</th>\n",
       "      <td>26.63</td>\n",
       "      <td>1.0</td>\n",
       "      <td>212.74</td>\n",
       "      <td>138.58</td>\n",
       "      <td>19.0</td>\n",
       "    </tr>\n",
       "    <tr>\n",
       "      <th>Lamar Jackson</th>\n",
       "      <td>27.53</td>\n",
       "      <td>1.0</td>\n",
       "      <td>189.41</td>\n",
       "      <td>182.12</td>\n",
       "      <td>17.0</td>\n",
       "    </tr>\n",
       "    <tr>\n",
       "      <th>Ryan Tannehill</th>\n",
       "      <td>26.88</td>\n",
       "      <td>1.0</td>\n",
       "      <td>237.31</td>\n",
       "      <td>144.88</td>\n",
       "      <td>16.0</td>\n",
       "    </tr>\n",
       "    <tr>\n",
       "      <th>...</th>\n",
       "      <td>...</td>\n",
       "      <td>...</td>\n",
       "      <td>...</td>\n",
       "      <td>...</td>\n",
       "      <td>...</td>\n",
       "    </tr>\n",
       "    <tr>\n",
       "      <th>Eli Manning</th>\n",
       "      <td>36.00</td>\n",
       "      <td>1.0</td>\n",
       "      <td>274.00</td>\n",
       "      <td>138.00</td>\n",
       "      <td>1.0</td>\n",
       "    </tr>\n",
       "    <tr>\n",
       "      <th>Colt McCoy</th>\n",
       "      <td>10.00</td>\n",
       "      <td>0.0</td>\n",
       "      <td>104.00</td>\n",
       "      <td>65.00</td>\n",
       "      <td>1.0</td>\n",
       "    </tr>\n",
       "    <tr>\n",
       "      <th>Brian Hoyer</th>\n",
       "      <td>12.00</td>\n",
       "      <td>0.0</td>\n",
       "      <td>191.00</td>\n",
       "      <td>109.00</td>\n",
       "      <td>1.0</td>\n",
       "    </tr>\n",
       "    <tr>\n",
       "      <th>Bailey Zappe</th>\n",
       "      <td>29.00</td>\n",
       "      <td>1.0</td>\n",
       "      <td>188.00</td>\n",
       "      <td>176.00</td>\n",
       "      <td>1.0</td>\n",
       "    </tr>\n",
       "    <tr>\n",
       "      <th>Zach Wilson</th>\n",
       "      <td>24.00</td>\n",
       "      <td>1.0</td>\n",
       "      <td>224.00</td>\n",
       "      <td>150.00</td>\n",
       "      <td>1.0</td>\n",
       "    </tr>\n",
       "  </tbody>\n",
       "</table>\n",
       "<p>72 rows × 5 columns</p>\n",
       "</div>"
      ],
      "text/plain": [
       "                 home_score  indoor_outdoor  passyds  rushyds  home_qb_starts\n",
       "home_qb_name                                                                 \n",
       "Patrick Mahomes       28.18             1.0   290.14   103.23            22.0\n",
       "Tom Brady             28.05             1.0   277.48    83.71            21.0\n",
       "Josh Allen            26.63             1.0   212.74   138.58            19.0\n",
       "Lamar Jackson         27.53             1.0   189.41   182.12            17.0\n",
       "Ryan Tannehill        26.88             1.0   237.31   144.88            16.0\n",
       "...                     ...             ...      ...      ...             ...\n",
       "Eli Manning           36.00             1.0   274.00   138.00             1.0\n",
       "Colt McCoy            10.00             0.0   104.00    65.00             1.0\n",
       "Brian Hoyer           12.00             0.0   191.00   109.00             1.0\n",
       "Bailey Zappe          29.00             1.0   188.00   176.00             1.0\n",
       "Zach Wilson           24.00             1.0   224.00   150.00             1.0\n",
       "\n",
       "[72 rows x 5 columns]"
      ]
     },
     "execution_count": 41,
     "metadata": {},
     "output_type": "execute_result"
    }
   ],
   "source": [
    "#qb performance at home with over 10 starts\n",
    "qb_home = team_perform[['home_qb_name','home_score','home_team','indoor_outdoor',\n",
    "                        'home_team','passyds','rushyds','home_qb_starts']].groupby(['home_qb_name']).mean()\n",
    "qb_home = qb_home.round(decimals=2)\n",
    "qb_home.sort_values(by='home_qb_starts',ascending=False)\n",
    "\n"
   ]
  },
  {
   "cell_type": "code",
   "execution_count": null,
   "id": "cf38c819-d9cd-404f-979f-a26e26c51209",
   "metadata": {
    "id": "cf38c819-d9cd-404f-979f-a26e26c51209",
    "outputId": "690cb169-6524-4b8b-fc89-b467a4f7a1f7"
   },
   "outputs": [
    {
     "ename": "AttributeError",
     "evalue": "'AxesSubplot' object has no attribute 'bar_label'",
     "output_type": "error",
     "traceback": [
      "\u001b[1;31m---------------------------------------------------------------------------\u001b[0m",
      "\u001b[1;31mAttributeError\u001b[0m                            Traceback (most recent call last)",
      "\u001b[1;32m~\\AppData\\Local\\Temp\\1/ipykernel_26432/3564933375.py\u001b[0m in \u001b[0;36m<module>\u001b[1;34m\u001b[0m\n\u001b[0;32m      5\u001b[0m \u001b[1;33m\u001b[0m\u001b[0m\n\u001b[0;32m      6\u001b[0m \u001b[1;32mfor\u001b[0m \u001b[0mq\u001b[0m \u001b[1;32min\u001b[0m \u001b[0mqb10\u001b[0m\u001b[1;33m.\u001b[0m\u001b[0mcontainers\u001b[0m\u001b[1;33m:\u001b[0m\u001b[1;33m\u001b[0m\u001b[1;33m\u001b[0m\u001b[0m\n\u001b[1;32m----> 7\u001b[1;33m     \u001b[0mqb10\u001b[0m\u001b[1;33m.\u001b[0m\u001b[0mbar_label\u001b[0m\u001b[1;33m(\u001b[0m\u001b[0mq\u001b[0m\u001b[1;33m,\u001b[0m \u001b[0mfmt\u001b[0m\u001b[1;33m=\u001b[0m\u001b[1;34m'%.1f'\u001b[0m\u001b[1;33m)\u001b[0m\u001b[1;33m\u001b[0m\u001b[1;33m\u001b[0m\u001b[0m\n\u001b[0m",
      "\u001b[1;31mAttributeError\u001b[0m: 'AxesSubplot' object has no attribute 'bar_label'"
     ]
    },
    {
     "data": {
      "image/png": "[encoded data removed]",
      "text/plain": [
       "<Figure size 1080x720 with 1 Axes>"
      ]
     },
     "metadata": {
      "needs_background": "light"
     },
     "output_type": "display_data"
    }
   ],
   "source": [
    "#Quarterbacks with at least 10 starts and their passing yard performance\n",
    "qb10 = qb_home.loc[(qb_home['home_qb_starts'] > 10)]\n",
    "qb10 = qb10[['passyds']].sort_values('passyds', ascending=False).plot(kind='bar',stacked=True,figsize=(15,10),\n",
    "             title= 'Total Passing and Rushing Yards per QB')\n",
    "\n",
    "for q in qb10.containers:\n",
    "    qb10.bar_label(q, fmt='%.1f') "
   ]
  },
  {
   "cell_type": "code",
   "execution_count": null,
   "id": "d1439a3e-c661-4ce7-b05f-91ebf2cb1c39",
   "metadata": {
    "id": "d1439a3e-c661-4ce7-b05f-91ebf2cb1c39",
    "outputId": "fdc2daf5-423f-4b5f-c617-a37d3065ac42"
   },
   "outputs": [],
   "source": [
    "#qb performance at away with over 10 starts\n",
    "qb_away = team_perform[['away_qb_name','away_score','indoor_outdoor',\n",
    "                        'away_team','passyds','rushyds','away_qb_starts']].groupby(['away_qb_name']).mean()\n",
    "qb_away = qb_away.round(decimals=2)\n",
    "qb_away.sort_values(by='away_qb_starts',ascending=False)\n",
    "qb_away.loc[(qb_away['away_qb_starts'] > 10)]\n"
   ]
  },
  {
   "cell_type": "code",
   "execution_count": null,
   "id": "64d45619-91a8-4128-8959-cba76f689b2f",
   "metadata": {
    "id": "64d45619-91a8-4128-8959-cba76f689b2f",
    "outputId": "e6b95e16-a4a9-44bd-e39d-4eb721dda443"
   },
   "outputs": [],
   "source": [
    "print(len(qb_home.loc[(qb_home['home_qb_starts'] > 10)]))\n",
    "print(len(qb_away.loc[(qb_away['away_qb_starts'] > 10)]))"
   ]
  },
  {
   "cell_type": "code",
   "execution_count": null,
   "id": "cb0d87b4-1d76-42a9-92c5-27ccdd15a382",
   "metadata": {
    "id": "cb0d87b4-1d76-42a9-92c5-27ccdd15a382",
    "outputId": "9e070025-c654-4afb-8319-0266733d2569",
    "tags": []
   },
   "outputs": [],
   "source": [
    "#team performance over the years\n",
    "team = team_perform[['home_team','totyards',\n",
    "                        'away_team','passyds','rushyds','home_score']].groupby(['home_team']).mean()\n",
    "team = team.round(2\n",
    "home_away"
   ]
  },
  {
   "cell_type": "markdown",
   "id": "e68444b9-7977-42bb-8b80-f04096e274ae",
   "metadata": {
    "id": "e68444b9-7977-42bb-8b80-f04096e274ae"
   },
   "source": [
    "# team passing perform"
   ]
  },
  {
   "cell_type": "code",
   "execution_count": null,
   "id": "498ccf1f-424f-433a-a8ca-637b85aa50ce",
   "metadata": {
    "id": "498ccf1f-424f-433a-a8ca-637b85aa50ce"
   },
   "outputs": [],
   "source": [
    "#team passing perform\n",
    "teampass = home_away[['passyds_home','passyds_away']].groupby(['home_team']).mean()\n",
    "teampass = teampass.round(2)\n",
    "teampassplot = teampass.plot.barh(figsize=(10,15),color =['#40E0D0','#FA8072'])\n",
    "plt.legend(loc=4, prop={'size': 10})    \n",
    "plt.title('Team Passing Performance at Home vs. Away')\n",
    "for c in teampassplot.containers:\n",
    "    teampassplot.bar_label(c, fmt='%.0f')     \n"
   ]
  },
  {
   "cell_type": "code",
   "execution_count": null,
   "id": "f1d9070b-3c18-49e9-bbd6-69e68363f1a0",
   "metadata": {
    "id": "f1d9070b-3c18-49e9-bbd6-69e68363f1a0",
    "tags": []
   },
   "outputs": [],
   "source": [
    "#team rush \n",
    "teamrush = home_away[['rushyds_home','rushyds_away']].groupby(['home_team']).mean()\n",
    "teamrush = teamrush.round(2)\n",
    "teamrushplot = teamrush.plot.barh(figsize=(10,15),color =['#40E0D0','#FA8072'])\n",
    "plt.legend(loc=4, prop={'size': 10})   \n",
    "\n",
    "plt.title('Team Rushing Performance at Home vs. Away')\n",
    "for c in teamrushplot.containers:\n",
    "    teamrushplot.bar_label(c, fmt='%.0f')     "
   ]
  },
  {
   "cell_type": "code",
   "execution_count": null,
   "id": "1a208465-00e8-4a6a-8efb-a30e434c3208",
   "metadata": {
    "id": "1a208465-00e8-4a6a-8efb-a30e434c3208"
   },
   "outputs": [],
   "source": [
    "#team score\n",
    "\n",
    "teamscore = home_away[['home_score_home','home_score_away']].groupby(['home_team']).mean()\n",
    "teamscore = teamscore.round(2)\n",
    "teamscoreplot = teamscore.plot.barh(figsize=(10,15),color =['#40E0D0','#FA8072'])\n",
    "plt.legend(loc=4, prop={'size': 10})   \n",
    "\n",
    "plt.title('Team Scores at Home vs. Away')\n",
    "for c in teamscoreplot.containers:\n",
    "    teamscoreplot.bar_label(c, fmt='%.0f')   "
   ]
  },
  {
   "cell_type": "code",
   "execution_count": null,
   "id": "990b744e-71c8-4494-ba82-2beac2c7fef0",
   "metadata": {
    "id": "990b744e-71c8-4494-ba82-2beac2c7fef0"
   },
   "outputs": [],
   "source": [
    "teamrush = team[['rushyds']].sort_values(by='rushyds',ascending=False).plot(kind='barh',stacked=True,figsize=(15,10),color='#4169E1')\n",
    "            # title= 'Team Performance')\n",
    "    \n",
    "for q in teamrush.containers:\n",
    "    teamrush.bar_label(q, fmt='%.1f') "
   ]
  },
  {
   "cell_type": "code",
   "execution_count": null,
   "id": "b28d65ba-ac31-4106-97b3-8d75007b0d20",
   "metadata": {
    "id": "b28d65ba-ac31-4106-97b3-8d75007b0d20"
   },
   "outputs": [],
   "source": [
    "team[['passyds','rushyds']].sort_values(by='passyds', ascending=False).plot(kind='bar',stacked=True,figsize=(20,10))\n",
    "            # title= 'Team Performance')"
   ]
  },
  {
   "cell_type": "code",
   "execution_count": null,
   "id": "0653e665-fe78-4948-8f7f-f82f05302552",
   "metadata": {
    "id": "0653e665-fe78-4948-8f7f-f82f05302552",
    "outputId": "8b323591-5357-422b-c073-9b163e3e483d"
   },
   "outputs": [],
   "source": [
    "teamall = team_perform[['home_team',\n",
    "                        'passyds','rushyds','home_score']].groupby(['home_team']).mean()\n",
    "teamallplt = teamall.plot.bar(title='Home Team Performance',fontsize=15,subplots=True,figsize=(30,15))"
   ]
  },
  {
   "cell_type": "code",
   "execution_count": null,
   "id": "09520f83-e3c2-47ca-8e02-5ad20560889a",
   "metadata": {
    "id": "09520f83-e3c2-47ca-8e02-5ad20560889a"
   },
   "outputs": [],
   "source": [
    "teamrecords = team_perform[['season','home_team','W/L']].groupby(['season','home_team','W/L']).value_counts()\n",
    "teamrecords"
   ]
  },
  {
   "cell_type": "code",
   "execution_count": null,
   "id": "3dab57a1-8b82-480d-9d15-ddcf080593f2",
   "metadata": {
    "id": "3dab57a1-8b82-480d-9d15-ddcf080593f2"
   },
   "outputs": [],
   "source": [
    "##wins since 2019\n",
    "wins = games[['home_team','WL']].groupby(['WL']).value_counts().to_frame('wins')\n",
    "wins = wins.sort_values('wins',ascending=False)\n",
    "wins "
   ]
  },
  {
   "cell_type": "code",
   "execution_count": null,
   "id": "03789f71-a6ef-4905-8700-95d1fc800d4a",
   "metadata": {
    "id": "03789f71-a6ef-4905-8700-95d1fc800d4a"
   },
   "outputs": [],
   "source": [
    "#teams number of home game wins\n",
    "teamwins = wins.plot.bar(figsize=(20,7))\n",
    "\n",
    "\n",
    "plt.title('Team Name')\n",
    "plt.ylabel('Wins')\n",
    "\n",
    "##labeling scores to be 1 decimal point\n",
    "\n",
    "for c in teamwins.containers:\n",
    "    teamwins.bar_label(c, fmt='%.0f') "
   ]
  },
  {
   "cell_type": "code",
   "execution_count": null,
   "id": "d63f00ff-cc76-41b0-94ae-5d70b1a7713d",
   "metadata": {
    "id": "d63f00ff-cc76-41b0-94ae-5d70b1a7713d"
   },
   "outputs": [],
   "source": [
    "#teams number of wins since 2019\n",
    "teamwins = wins.plot.bar(figsize=(20,7))\n",
    "\n",
    "\n",
    "plt.title('Team Name')\n",
    "plt.ylabel('Wins')\n",
    "\n",
    "##labeling scores to be 1 decimal point\n",
    "\n",
    "for c in teamwins.containers:\n",
    "    teamwins.bar_label(c, fmt='%.0f') "
   ]
  },
  {
   "cell_type": "code",
   "execution_count": null,
   "id": "41a2da38-f556-4c2e-b669-841830e94380",
   "metadata": {
    "id": "41a2da38-f556-4c2e-b669-841830e94380",
    "outputId": "1271feb4-707f-4620-964e-18ff0762cd55"
   },
   "outputs": [],
   "source": [
    "recentgames[['home_team','totyards','passyds','rushyds','home_score','1st_downs','temp','wind']].groupby('home_team').mean()"
   ]
  },
  {
   "cell_type": "code",
   "execution_count": null,
   "id": "a2807526-bac4-4ca3-8377-2b4669d22b84",
   "metadata": {
    "id": "a2807526-bac4-4ca3-8377-2b4669d22b84",
    "outputId": "0aaa097b-8428-43ca-b104-cadc06ea34a6"
   },
   "outputs": [],
   "source": [
    "#offense performance in different environments\n",
    "\n",
    "yards = team_perform[['totyards','passyds','rushyds','roof']].groupby(['roof']).mean()\n",
    "\n",
    "yards = yards.T\n",
    "yardsplot = yards.plot.bar(figsize=(12,8),color=['#1E90FF','#7B68EE','#DB7093','#00FF7F'])\n",
    "plt.legend(loc=1, prop={'size': 20})\n",
    "plt.title('Yards by Stadium Type',fontsize='20')\n",
    "plt.ylabel('Yards',fontsize='10')\n",
    "for c in yardsplot.containers:\n",
    "    yardsplot.bar_label(c, fmt='%.1f') "
   ]
  },
  {
   "cell_type": "code",
   "execution_count": null,
   "id": "38728e47-88ba-4461-98e5-fa916986205c",
   "metadata": {
    "id": "38728e47-88ba-4461-98e5-fa916986205c",
    "outputId": "be44c65c-eed7-48a5-bccb-da54998e210d"
   },
   "outputs": [],
   "source": [
    "#offense score in different environments\n",
    "\n",
    "scoreroof = team_perform[['home_score','away_score','roof']].groupby(['roof']).mean()\n",
    "\n",
    "scoreroof = scoreroof.T\n",
    "scoreroofplot = scoreroof.plot.bar(figsize=(10,8),color=['#1E90FF','#7B68EE','#DB7093','#00FF7F'])\n",
    "plt.legend(loc=1, prop={'size': 10})\n",
    "plt.title('Scores by Stadium Type',fontsize='20')\n",
    "plt.ylabel('Score',fontsize='10')\n",
    "for c in scoreroofplot.containers:\n",
    "    scoreroofplot.bar_label(c, fmt='%.1f') "
   ]
  },
  {
   "cell_type": "code",
   "execution_count": null,
   "id": "68ae02a0-265e-43ec-a044-9ca1b5acfb10",
   "metadata": {
    "id": "68ae02a0-265e-43ec-a044-9ca1b5acfb10"
   },
   "outputs": [],
   "source": [
    "teampero"
   ]
  },
  {
   "cell_type": "code",
   "execution_count": null,
   "id": "220ce780-4656-4ea4-be3e-7bfc04950ff8",
   "metadata": {
    "id": "220ce780-4656-4ea4-be3e-7bfc04950ff8"
   },
   "outputs": [],
   "source": [
    "#home_away.plot.bar(x='home_team', y='passyds_home')\n",
    "\n",
    "test = home_away[['W/L','home_score_home','home_score_away']].groupby(['home_team']).mean()\n",
    "\n",
    "test.plot.bar(figsize=(20,10))"
   ]
  },
  {
   "cell_type": "markdown",
   "id": "b737612a",
   "metadata": {},
   "source": [
    "# analysis of surface grass vs turf impacts"
   ]
  },
  {
   "cell_type": "code",
   "execution_count": null,
   "id": "9dbea897",
   "metadata": {
    "id": "9dbea897"
   },
   "outputs": [],
   "source": [
    "### Renjini - starts analysis of surface grass vs turf impacts\n",
    "#       Prupose: Understand whether a specific surface impacts overall team performance\n",
    "#              : Top Performers on each of the surfaces\n",
    "#              : Plot the trends for easy refernece\n",
    "#    Assumption: Input file has many different turf surfaces. For anlaysis purposes it is divided into two categories\n",
    "#                Grass and Turf\n",
    "#   File Source: Kaggle"
   ]
  },
  {
   "cell_type": "code",
   "execution_count": null,
   "id": "19d79e0a",
   "metadata": {
    "id": "19d79e0a"
   },
   "outputs": [],
   "source": [
    "#reading CSVs\n",
    "games_surface1 = pd.read_csv('http://www.habitatring.com/games.csv')"
   ]
  },
  {
   "cell_type": "code",
   "execution_count": null,
   "id": "6713c888",
   "metadata": {
    "id": "6713c888",
    "outputId": "b6b347b2-aea1-416b-f69b-79d8d1ca1931"
   },
   "outputs": [],
   "source": [
    "games_surface1.info()"
   ]
  },
  {
   "cell_type": "code",
   "execution_count": null,
   "id": "08839960",
   "metadata": {
    "id": "08839960"
   },
   "outputs": [],
   "source": [
    "##dropping unnecessary columns in games\n",
    "games_surface2 = games_surface1.drop(['old_game_id','gametime','away_qb_id','home_qb_id',\n",
    "              'gsis','nfl_detail_id','pfr','pff','espn','away_moneyline','home_moneyline','spread_line','away_spread_odds','home_spread_odds',\n",
    "              'total_line','under_odds','over_odds','referee','away_coach','home_coach','home_qb_name','away_qb_name'],axis=1)\n",
    "\n"
   ]
  },
  {
   "cell_type": "code",
   "execution_count": null,
   "id": "f816346a",
   "metadata": {
    "id": "f816346a",
    "outputId": "b42bb8dc-fe4b-457b-ae78-0c09fe18cec1"
   },
   "outputs": [],
   "source": [
    "games_surface2.head(3)"
   ]
  },
  {
   "cell_type": "code",
   "execution_count": null,
   "id": "33b5c942",
   "metadata": {
    "id": "33b5c942",
    "outputId": "7934872e-048f-42ba-e20f-f7bc0b6c5279"
   },
   "outputs": [],
   "source": [
    "games_surface2.info()"
   ]
  },
  {
   "cell_type": "code",
   "execution_count": null,
   "id": "7221bbe1",
   "metadata": {
    "id": "7221bbe1",
    "outputId": "f2134e07-b9ce-4624-b9a0-87d6dd14007a"
   },
   "outputs": [],
   "source": [
    "#looking for unique values in surface\n",
    "surface_val=games_surface2.surface.unique()\n",
    "\n",
    "print(surface_val)"
   ]
  },
  {
   "cell_type": "code",
   "execution_count": null,
   "id": "f8623cd2",
   "metadata": {
    "id": "f8623cd2"
   },
   "outputs": [],
   "source": [
    "#replace 'grass ' to 'grass'\n",
    "\n",
    "games_surface2.loc[games_surface2[\"surface\"] == \"grass \", \"surface\"] = 'grass'"
   ]
  },
  {
   "cell_type": "code",
   "execution_count": null,
   "id": "96b9b543",
   "metadata": {
    "id": "96b9b543",
    "outputId": "eba524f8-5d92-4980-f488-3e648c65e8d3"
   },
   "outputs": [],
   "source": [
    "#droping null values\n",
    "games_surface2 = games_surface2.dropna(subset=['surface'])\n",
    "surface_val=games_surface2.surface.unique()\n",
    "\n",
    "print(surface_val)"
   ]
  },
  {
   "cell_type": "code",
   "execution_count": null,
   "id": "6ab27d32",
   "metadata": {
    "id": "6ab27d32",
    "outputId": "d72a21d5-003f-4ed9-e935-a46b07dc1398"
   },
   "outputs": [],
   "source": [
    "#prepping for a pie chart anlayis to visualze the surface spread\n",
    "    \n",
    "games_surface2_count=(games_surface2.pivot_table(index='surface',\n",
    "                                        values=['game_id'],\n",
    "                                      aggfunc='count',fill_value=0))\n",
    "games_surface2_count"
   ]
  },
  {
   "cell_type": "code",
   "execution_count": null,
   "id": "0b694e13",
   "metadata": {
    "id": "0b694e13",
    "outputId": "65d1fea7-f8c5-45cf-9122-424ff1052da7"
   },
   "outputs": [],
   "source": [
    "games_surface2_count[['game_id']].plot(kind='pie',subplots=True,figsize=(10,10),\n",
    "                                      explode=(0, 0, 0, 0, 0, 0.1,0,0),\n",
    "                                      title='Number of games on all surfaces')\n"
   ]
  },
  {
   "cell_type": "code",
   "execution_count": null,
   "id": "869dfadf",
   "metadata": {
    "id": "869dfadf"
   },
   "outputs": [],
   "source": [
    "#Obeservation1: Majority of games played on Grass\n",
    "#Next Action: Club the non-Grass surfaces into common surface as 'turf'"
   ]
  },
  {
   "cell_type": "code",
   "execution_count": null,
   "id": "10b3fef3",
   "metadata": {
    "id": "10b3fef3"
   },
   "outputs": [],
   "source": [
    "games_surface3=games_surface2\n",
    "games_surface3.loc[games_surface3['surface']=='astroturf','surface']='turf'\n",
    "games_surface3.loc[games_surface3['surface']=='fieldturf','surface']='turf'\n",
    "games_surface3.loc[games_surface3['surface']=='astroplay','surface']='turf'\n",
    "games_surface3.loc[games_surface3['surface']=='dessograss','surface']='turf'\n",
    "games_surface3.loc[games_surface3['surface']=='sportturf','surface']='turf'\n",
    "games_surface3.loc[games_surface3['surface']=='matrixturf','surface']='turf'\n",
    "games_surface3.loc[games_surface3['surface']=='a_turf','surface']='turf'"
   ]
  },
  {
   "cell_type": "code",
   "execution_count": null,
   "id": "9d6385f2",
   "metadata": {
    "id": "9d6385f2",
    "outputId": "267ca86e-4a4e-4dc6-f80c-8457936d2bc9"
   },
   "outputs": [],
   "source": [
    "#unique values for surafce\n",
    "\n",
    "games_surface3_count=(games_surface3.pivot_table(index='surface',\n",
    "                                        values=['game_id'],\n",
    "                                      aggfunc='count',fill_value=0))\n",
    "games_surface3_count[['game_id']].plot(kind='pie',subplots=True,figsize=(10,10),\n",
    "                                      explode=(0.1, 0.1),\n",
    "                                      title='Number of games on all surfaces')"
   ]
  },
  {
   "cell_type": "code",
   "execution_count": null,
   "id": "7b9863c2",
   "metadata": {
    "id": "7b9863c2",
    "outputId": "fc164dfe-1093-41ea-bc0d-00baf25a7532"
   },
   "outputs": [],
   "source": [
    "# Analyzing the results of the games played\n",
    "result_val=games_surface3.result.unique()\n",
    "result_val.sort()\n",
    "print(result_val)"
   ]
  },
  {
   "cell_type": "code",
   "execution_count": null,
   "id": "f09588be",
   "metadata": {
    "id": "f09588be"
   },
   "outputs": [],
   "source": [
    "#dropping null values as those games are yet to play\n",
    "games_surface3 = games_surface3.dropna(subset=['result'])"
   ]
  },
  {
   "cell_type": "code",
   "execution_count": null,
   "id": "68f08265",
   "metadata": {
    "id": "68f08265",
    "outputId": "c6d6f67a-f5d0-4a14-b1c3-3ce014a62ab3"
   },
   "outputs": [],
   "source": [
    "# Result column is the difference between home team score and away team score. \n",
    "#If the result is negative, the it is a lose for home team.\n",
    "#adding a new colum to identify the win/lose/tie\n",
    "def winlosetie(pt):\n",
    "    if pt > 0:\n",
    "        return 1\n",
    "    elif pt==0:\n",
    "        return 0\n",
    "    else:\n",
    "        return -1\n",
    "games_surface3['Netresult']= games_surface3['result'].apply(winlosetie)"
   ]
  },
  {
   "cell_type": "code",
   "execution_count": null,
   "id": "1928aae0",
   "metadata": {
    "id": "1928aae0",
    "outputId": "9ae3491e-aaea-439b-c6b5-7ae4e7326cf9"
   },
   "outputs": [],
   "source": [
    "#spot checking the Net Result Field \n",
    "games_surface3[['game_id','home_team','home_score','away_team','away_score','result','Netresult','surface']]"
   ]
  },
  {
   "cell_type": "code",
   "execution_count": null,
   "id": "47fe4bcd",
   "metadata": {
    "id": "47fe4bcd",
    "outputId": "4ba683be-bee1-40ec-b152-7c08976230a1"
   },
   "outputs": [],
   "source": [
    "games_surafce3_check=(games_surface3.pivot_table(index='surface', columns= 'home_team',\n",
    "                                        values=['Netresult'],\n",
    "                                      aggfunc=['min','max'],fill_value=0))\n",
    "games_surafce3_check"
   ]
  },
  {
   "cell_type": "code",
   "execution_count": null,
   "id": "10e612f4",
   "metadata": {
    "id": "10e612f4",
    "outputId": "8e20d353-5820-48aa-b17a-a5f5decceaa5"
   },
   "outputs": [],
   "source": [
    "#getting the column names\n",
    "print(games_surface3.columns.tolist())"
   ]
  },
  {
   "cell_type": "code",
   "execution_count": null,
   "id": "0384a9f9",
   "metadata": {
    "id": "0384a9f9"
   },
   "outputs": [],
   "source": [
    "games_surface4=games_surface3[games_surface3['result'] > 0]\n",
    "games_surface5=games_surface3[games_surface3['result'] < 0]\n",
    "##dropping unnecessary columns in games\n",
    "games_surface4 = games_surface4.drop(['season','game_type','week','gameday','weekday'],axis=1)  \n",
    "games_surface5 = games_surface5.drop(['season','game_type','week','gameday','weekday'],axis=1)"
   ]
  },
  {
   "cell_type": "code",
   "execution_count": null,
   "id": "ab07ef31",
   "metadata": {
    "id": "ab07ef31",
    "outputId": "b50710dd-247a-4824-859b-6e0dfb3b05ff"
   },
   "outputs": [],
   "source": [
    "\n",
    "games_surface4.rename(columns = {'home_team':'winner'}, inplace = True)\n",
    "games_surface4.info()"
   ]
  },
  {
   "cell_type": "code",
   "execution_count": null,
   "id": "db5c1d4c",
   "metadata": {
    "id": "db5c1d4c"
   },
   "outputs": [],
   "source": [
    "games_surface4 = games_surface4.drop(['away_team','away_score','home_score'],axis=1)  "
   ]
  },
  {
   "cell_type": "code",
   "execution_count": null,
   "id": "ea891a50",
   "metadata": {
    "id": "ea891a50",
    "outputId": "7a555e26-2a9d-4034-b261-6aec33e1c2c4"
   },
   "outputs": [],
   "source": [
    "games_surface5.rename(columns = {'away_team':'winner'}, inplace = True)\n",
    "games_surface5.info()"
   ]
  },
  {
   "cell_type": "code",
   "execution_count": null,
   "id": "2c09410d",
   "metadata": {
    "id": "2c09410d",
    "outputId": "ac4791c7-0c5f-416c-c823-9a6b3b6af66a"
   },
   "outputs": [],
   "source": [
    "games_surface5 = games_surface5.drop(['home_team','away_score','home_score'],axis=1)  \n",
    "games_surface5.info()"
   ]
  },
  {
   "cell_type": "code",
   "execution_count": null,
   "id": "e88fa2dd",
   "metadata": {
    "id": "e88fa2dd",
    "outputId": "27789b61-5360-45f2-f432-efa04d04d6fb"
   },
   "outputs": [],
   "source": [
    "# concatenating the above two data frames to get a winner data frame\n",
    "games_surface_winner=pd.concat([games_surface4, games_surface5])\n",
    "games_surface_winner.tail(10)"
   ]
  },
  {
   "cell_type": "code",
   "execution_count": null,
   "id": "590702e1",
   "metadata": {
    "id": "590702e1",
    "outputId": "27b1d1b6-9436-49fc-c681-61edd2dd3008"
   },
   "outputs": [],
   "source": [
    "# Analysis to find the number of games won\n",
    "games_surface_winner_total1=games_surface_winner[['surface','winner','game_id','location']].groupby(['winner','surface','location'],).count()\n",
    "games_surface_winner_total1\n"
   ]
  },
  {
   "cell_type": "code",
   "execution_count": null,
   "id": "b4a04b23",
   "metadata": {
    "id": "b4a04b23",
    "outputId": "e2533b88-4c55-4195-f106-1579bce92e5e"
   },
   "outputs": [],
   "source": [
    "games_surface_winner_total_pivot=games_surface_winner.pivot_table(index='winner',columns=['surface','location'],\n",
    "                                                                  values=['game_id'],\n",
    "                                                                 aggfunc='count',fill_value=0)\n",
    "games_surface_winner_total_pivot"
   ]
  },
  {
   "cell_type": "code",
   "execution_count": null,
   "id": "37118d4b",
   "metadata": {
    "id": "37118d4b",
    "outputId": "96c2b4ba-271c-4df4-b42d-1b086db4ed34"
   },
   "outputs": [],
   "source": [
    "#heatmap of winners\n",
    "# Winner and Surface vs sum of game_id\n",
    "from pivottablejs import pivot_ui\n",
    "\n",
    "pivot_ui(games_surface_winner_total1)"
   ]
  },
  {
   "cell_type": "code",
   "execution_count": null,
   "id": "f3b33435",
   "metadata": {
    "id": "f3b33435",
    "outputId": "4ef9879e-ba05-4dce-d2b3-4c0d2a1a0f41"
   },
   "outputs": [],
   "source": [
    "games_surface_winner_total=games_surface_winner[['surface','winner','game_id']].groupby(['winner','surface']).count()\n",
    "games_surface_winner_total"
   ]
  },
  {
   "cell_type": "code",
   "execution_count": null,
   "id": "8635d7b3",
   "metadata": {
    "id": "8635d7b3",
    "outputId": "12c7f8ec-8fd2-4c40-d115-72111b1c9f82"
   },
   "outputs": [],
   "source": [
    "# Grass Top Performers Heatmap\n",
    "pivot_ui(games_surface_winner_total)\n",
    "#surface(Grass) , winner vs sum of game id"
   ]
  },
  {
   "cell_type": "code",
   "execution_count": null,
   "id": "58c0bd3b",
   "metadata": {
    "id": "58c0bd3b",
    "outputId": "315ba9eb-b942-49b4-8a83-8c6f7e0d8da7"
   },
   "outputs": [],
   "source": [
    "#Top Turf Performances:\n",
    "pivot_ui(games_surface_winner_total)\n",
    "#surface(Turf) , winner vs sum of game id"
   ]
  },
  {
   "cell_type": "code",
   "execution_count": null,
   "id": "1ab20303",
   "metadata": {
    "id": "1ab20303",
    "outputId": "4d102bbb-d0fd-4a00-a22b-f8ed2faba768",
    "scrolled": true
   },
   "outputs": [],
   "source": [
    "#Overall  Team Performances:\n",
    "\n",
    "\n",
    "pivot_ui(games_surface_winner_total)\n",
    "# Bar Chart(Surface/Winner vs sum of game_id)"
   ]
  },
  {
   "cell_type": "markdown",
   "id": "a6bad748",
   "metadata": {},
   "source": [
    "# Playoff Statistics Analysis Starts here"
   ]
  },
  {
   "cell_type": "code",
   "execution_count": null,
   "id": "e83406a8",
   "metadata": {
    "id": "e83406a8"
   },
   "outputs": [],
   "source": [
    "### Renjini # Playoff Statistics Analysis Starts here\n",
    "#       Prupose: Review the performance of teams reached playoff over the seasons\n",
    "#              : Top Performers\n",
    "#              : Plot the trends for easy refernece\n",
    "#              : Correlation between the team performance in regular season towards the seed/divsion rank\n",
    "#   File Source: Kaggle"
   ]
  },
  {
   "cell_type": "code",
   "execution_count": null,
   "id": "3c268a19",
   "metadata": {
    "id": "3c268a19",
    "outputId": "70333bd4-81b2-4957-d185-575f27bd41a6"
   },
   "outputs": [],
   "source": [
    "# get current working directory - to ensure program and file are in the same directory\n",
    "print(os.getcwd())"
   ]
  },
  {
   "cell_type": "code",
   "execution_count": null,
   "id": "55c1b8f3",
   "metadata": {
    "id": "55c1b8f3"
   },
   "outputs": [],
   "source": [
    "#Reading input file\n",
    "standings_df = pd.read_csv(\"http://www.habitatring.com/standings.csv\")"
   ]
  },
  {
   "cell_type": "code",
   "execution_count": null,
   "id": "6643867c",
   "metadata": {
    "id": "6643867c",
    "outputId": "e683c56a-378d-4a8a-a609-7c21d8f8c970"
   },
   "outputs": [],
   "source": [
    "#Next few blocks to explore the dataframe\n",
    "standings_df.info()"
   ]
  },
  {
   "cell_type": "code",
   "execution_count": null,
   "id": "9c1f1ca7",
   "metadata": {
    "id": "9c1f1ca7",
    "outputId": "e776a168-a579-4cef-f3d2-bb551a8cd8aa"
   },
   "outputs": [],
   "source": [
    "#listing column names\n",
    "column_names = list(standings_df.columns.values)\n",
    "column_names"
   ]
  },
  {
   "cell_type": "code",
   "execution_count": null,
   "id": "bc86f944",
   "metadata": {
    "id": "bc86f944",
    "outputId": "cde2cc4b-acdb-4b37-a3ad-63da01d04762"
   },
   "outputs": [],
   "source": [
    "standings_df.describe()"
   ]
  },
  {
   "cell_type": "code",
   "execution_count": null,
   "id": "185affd5",
   "metadata": {
    "id": "185affd5",
    "outputId": "9f107769-f0de-458f-8a2a-3cff3b131227"
   },
   "outputs": [],
   "source": [
    "standings_df.head(3)"
   ]
  },
  {
   "cell_type": "code",
   "execution_count": null,
   "id": "f1fdb4f9",
   "metadata": {
    "id": "f1fdb4f9"
   },
   "outputs": [],
   "source": [
    "#merging data from games file(previously read for surface analysis ) to standings\n",
    "games_standings=pd.merge(games_surface1, standings_df, left_on=['season','home_team'],right_on=['season','team'], how='inner')\n",
    "\n"
   ]
  },
  {
   "cell_type": "code",
   "execution_count": null,
   "id": "aec6389e",
   "metadata": {
    "id": "aec6389e",
    "outputId": "5a52b47d-3dba-4b3c-a842-8ad43f9b278d"
   },
   "outputs": [],
   "source": [
    "games_standings.info()"
   ]
  },
  {
   "cell_type": "code",
   "execution_count": null,
   "id": "a896248f",
   "metadata": {
    "id": "a896248f",
    "outputId": "0a14d761-dda6-4365-abfb-465a287fc9df"
   },
   "outputs": [],
   "source": [
    "#checking the palyoff field values\n",
    "playoff_val=games_standings.playoff.unique()\n",
    "\n",
    "print(playoff_val)"
   ]
  },
  {
   "cell_type": "code",
   "execution_count": null,
   "id": "a99e0c04",
   "metadata": {
    "id": "a99e0c04"
   },
   "outputs": [],
   "source": [
    "#removing null values\n",
    "games_standings1 = games_standings.dropna(subset=['playoff'])"
   ]
  },
  {
   "cell_type": "code",
   "execution_count": null,
   "id": "ce72767b",
   "metadata": {
    "id": "ce72767b",
    "outputId": "7914e945-12f4-4e37-edbb-61ef7f17af1c"
   },
   "outputs": [],
   "source": [
    "games_standings1.info()"
   ]
  },
  {
   "cell_type": "code",
   "execution_count": null,
   "id": "e6bf8580",
   "metadata": {
    "id": "e6bf8580"
   },
   "outputs": [],
   "source": [
    "#removes null from standings dataframe also\n",
    "standings_df2 = standings_df.dropna(subset=['playoff'])"
   ]
  },
  {
   "cell_type": "code",
   "execution_count": null,
   "id": "cd751e78",
   "metadata": {
    "id": "cd751e78",
    "outputId": "47fd759d-1340-4950-8472-3da6aa347148"
   },
   "outputs": [],
   "source": [
    "#gets the seasons in scope\n",
    "seasons_val=standings_df2.season.unique()\n",
    "\n",
    "print(seasons_val)"
   ]
  },
  {
   "cell_type": "code",
   "execution_count": null,
   "id": "f432d3e3",
   "metadata": {
    "id": "f432d3e3",
    "outputId": "d99e3e4a-7082-4b93-b802-a05b81727aad"
   },
   "outputs": [],
   "source": [
    "#Pivoting Seasons to ranks\n",
    "standings_df2_net=standings_df2.pivot_table(index='team',columns= 'season',values=['div_rank','net'],\n",
    "                                      aggfunc='sum',fill_value=0)\n",
    "standings_df2_net"
   ]
  },
  {
   "cell_type": "code",
   "execution_count": null,
   "id": "85714ea1",
   "metadata": {
    "id": "85714ea1",
    "outputId": "d351ee37-55a6-4cc4-f98e-34bfb6efd688"
   },
   "outputs": [],
   "source": [
    "# scatter matrix \n",
    "pd.plotting.scatter_matrix(standings_df2[['seed','sos']])"
   ]
  },
  {
   "cell_type": "code",
   "execution_count": null,
   "id": "fbe0732f",
   "metadata": {
    "id": "fbe0732f",
    "outputId": "b381a89b-2f50-4e2d-a050-18448ec227be"
   },
   "outputs": [],
   "source": [
    "#correlation between seed, netpoints, divisional rank, and win rate\n",
    "corr_standings=standings_df2[['div_rank','sos','seed']].corr()\n",
    "corr_standings"
   ]
  },
  {
   "cell_type": "code",
   "execution_count": null,
   "id": "e0b51afc",
   "metadata": {
    "id": "e0b51afc"
   },
   "outputs": [],
   "source": [
    "#Observation from the above correlation table:\n",
    "#seed has a positve correlation to divison rank. \n",
    "#seed is determined by the regular season wins. A good regular season ensures a good seed.\n",
    "#If you win and get a higher seed, you will have a home field advantage during the playoffs.\n",
    "\n"
   ]
  },
  {
   "cell_type": "code",
   "execution_count": null,
   "id": "4035ba73",
   "metadata": {
    "id": "4035ba73",
    "outputId": "7ef3d1ce-f3e3-41ba-b866-8c7e19c0076d"
   },
   "outputs": [],
   "source": [
    "sns.heatmap(corr_standings)\n",
    "plt.show()"
   ]
  },
  {
   "cell_type": "code",
   "execution_count": null,
   "id": "9d9e7032",
   "metadata": {
    "id": "9d9e7032",
    "outputId": "b213b010-9211-4807-a4e8-fbfaa78b510d"
   },
   "outputs": [],
   "source": [
    "# Scatter plot to show the relation between Total scores and Win Percent\n",
    "x= games_standings['scored']\n",
    "y= games_standings['pct']\n",
    "plt.scatter(x,y)\n",
    "#plt.show()\n",
    "\n",
    "z = np.polyfit(x, y, 1)\n",
    "p = np.poly1d(z)\n",
    "plt.plot(x,p(x),\"r--\")\n",
    "plt.title('Correlation between Scored and Win Percent')\n",
    "plt.xlabel('Scored')\n",
    "plt.ylabel('pct')\n",
    "plt.show()"
   ]
  },
  {
   "cell_type": "code",
   "execution_count": null,
   "id": "44b31402",
   "metadata": {
    "id": "44b31402",
    "outputId": "21bdcf4d-f7fc-4d27-ce4e-b88d62a895f7"
   },
   "outputs": [],
   "source": [
    "#team standings/season\n",
    "standings_team_season = standings_df2[['seed','wins','pct','team','season','conf']].groupby(['season','conf','team']).mean()\n",
    "standings_team_season"
   ]
  },
  {
   "cell_type": "code",
   "execution_count": null,
   "id": "c75d810a",
   "metadata": {
    "id": "c75d810a",
    "outputId": "f4b46dd1-4d7d-4734-d143-55b2517ad77b"
   },
   "outputs": [],
   "source": [
    "#Next few bloacks are to understand the winning trends\n",
    "standings_team = standings_df2[['wins','pct','team','season']].groupby(['season','team']).mean()\n",
    "standings_team"
   ]
  },
  {
   "cell_type": "code",
   "execution_count": null,
   "id": "a362c586",
   "metadata": {
    "id": "a362c586",
    "outputId": "2a13cb7c-c8e0-4429-b942-b0551e65d4ea"
   },
   "outputs": [],
   "source": [
    "standings_team_index = standings_df2.pivot_table(index='team',values=['losses','wins'],\n",
    "                                        aggfunc=['sum'],fill_value=0)\n",
    "standings_team_index"
   ]
  },
  {
   "cell_type": "code",
   "execution_count": null,
   "id": "32f09a8b",
   "metadata": {
    "id": "32f09a8b",
    "outputId": "178c81c3-5b90-4da4-d2a4-4ab466992f9b"
   },
   "outputs": [],
   "source": [
    "#Regression plot showing total number of wins/season\n",
    "sns.regplot(data=standings_df2, x=\"season\", y=\"wins\",)"
   ]
  },
  {
   "cell_type": "code",
   "execution_count": null,
   "id": "0fa939af",
   "metadata": {
    "id": "0fa939af",
    "outputId": "0743b3b6-5bdf-4a25-94e6-deeb6e1c1136"
   },
   "outputs": [],
   "source": [
    "# Above plots shows a trend line around 11 games\n",
    "# Estimator bar chart: \n",
    "# a prediction on the number of typical wins a team has to have in the regular season to land themselves in playoff\n",
    "sns.barplot(data=standings_df2, x=\"season\", y='wins')"
   ]
  },
  {
   "cell_type": "code",
   "execution_count": null,
   "id": "c168af34",
   "metadata": {
    "id": "c168af34"
   },
   "outputs": [],
   "source": [
    "#Observation: '12 Wins' in regular season could gurantee a playoff spot"
   ]
  },
  {
   "cell_type": "code",
   "execution_count": null,
   "id": "11fe3ab1",
   "metadata": {
    "id": "11fe3ab1",
    "outputId": "87a3149b-9323-4370-d9f5-fe311bf788c0"
   },
   "outputs": [],
   "source": [
    "# Team win/Loss Stats all throughout seasons\n",
    "dplot = standings_team_index.plot.bar(figsize=(10,5),stacked=False,color=('blue','green'))\n",
    "\n",
    "labels = ['Losses', 'Wins']\n",
    "leglabs = ['Number of Losses', 'Number of wins']\n",
    "dplot.legend(leglabs)\n",
    "dplot.set_ylabel('Number of Wins,Losses')\n",
    "dplot.set_xlabel('Team')\n",
    "dplot.set_title('Team Win/Loss Stats')\n",
    "dplot.grid()\n",
    "print(dplot)"
   ]
  },
  {
   "cell_type": "markdown",
   "id": "0a096511",
   "metadata": {},
   "source": [
    "# Special Team(Field Goal Kikcers) Performance Analysis Starts here"
   ]
  },
  {
   "cell_type": "code",
   "execution_count": null,
   "id": "44239c68",
   "metadata": {
    "id": "44239c68"
   },
   "outputs": [],
   "source": [
    "### Renjini # Special Team(Field Goal Kikcers) Performance Analysis Starts here\n",
    "#       Prupose: To review and understand the historical trends specific to field goals\n",
    "#              : To review and understand the historical trends\n",
    "#                a. Longest Field Goals Made by Teams Over the Years\n",
    "#                b. Compare the Attempts Made to Acutals\n",
    "#                c. Overall 50+ Yards Field Goals made over the Years\n",
    "#              : Visualize the interpretations using plots and graphs\n",
    "# Data Source: https://www.kaggle.com/code/blueblowfish/nfl-data-analysis/data"
   ]
  },
  {
   "cell_type": "code",
   "execution_count": null,
   "id": "2d730d3e",
   "metadata": {
    "id": "2d730d3e",
    "outputId": "a32054b3-44d2-478d-fd61-b208fb04ec66"
   },
   "outputs": [],
   "source": [
    "#Gets the current directory\n",
    "print(os.getcwd())"
   ]
  },
  {
   "cell_type": "code",
   "execution_count": null,
   "id": "237e746c",
   "metadata": {
    "id": "237e746c"
   },
   "outputs": [],
   "source": [
    "# Reads the downloaded csv file from the path\n",
    "datapath= '/Users/renjinirajan/Downloads//Career_Stats_Field_Goal_Kickers.csv'\n",
    "kickers_df_init = pd.read_csv(datapath, sep=',')"
   ]
  },
  {
   "cell_type": "code",
   "execution_count": null,
   "id": "caa14705",
   "metadata": {
    "id": "caa14705",
    "outputId": "480f2c79-060d-48d1-c2ca-ffb5a42070fb"
   },
   "outputs": [],
   "source": [
    "#Next few bloack to explore data\n",
    "kickers_df_init.info()"
   ]
  },
  {
   "cell_type": "code",
   "execution_count": null,
   "id": "19e245a4",
   "metadata": {
    "id": "19e245a4"
   },
   "outputs": [],
   "source": [
    "# Based on the information stats from above - it looks like Column Position has maximum null values. \n",
    "#This file is about attempting  field goals, hence player position seems to irrelevant. Droping colum Position\n",
    "kickers_df1=kickers_df_init.drop(['Position'], axis=1)"
   ]
  },
  {
   "cell_type": "code",
   "execution_count": null,
   "id": "3ab26461",
   "metadata": {
    "id": "3ab26461",
    "outputId": "2f1552ae-75c7-4cb8-e6d2-afbf8a382693"
   },
   "outputs": [],
   "source": [
    "kickers_df1.info()"
   ]
  },
  {
   "cell_type": "code",
   "execution_count": null,
   "id": "b5f68fa6",
   "metadata": {
    "id": "b5f68fa6",
    "outputId": "17843fcd-0510-461b-ab1d-7380be5569e6"
   },
   "outputs": [],
   "source": [
    "#looking for unique values in Year\n",
    "years_in=kickers_df1.Year.unique()\n",
    "years_in.sort()\n",
    "print(years_in)"
   ]
  },
  {
   "cell_type": "code",
   "execution_count": null,
   "id": "a0a95c1e",
   "metadata": {
    "id": "a0a95c1e"
   },
   "outputs": [],
   "source": [
    "#based on the Year Data - file contains data from 1933 thru 2016\n",
    "#creating a new data frame with year from 2000 thru 2016\n",
    "kickers_df2=kickers_df1[kickers_df1.Year >= 2000]"
   ]
  },
  {
   "cell_type": "code",
   "execution_count": null,
   "id": "9e31a877",
   "metadata": {
    "id": "9e31a877",
    "outputId": "2f92a3df-8572-451a-90c7-f7fa5d9cc70a"
   },
   "outputs": [],
   "source": [
    "kickers_df2.describe()"
   ]
  },
  {
   "cell_type": "code",
   "execution_count": null,
   "id": "3f4a98cd",
   "metadata": {
    "id": "3f4a98cd",
    "outputId": "dbb91824-1d2a-40d2-bb6d-e36be5e4ce56"
   },
   "outputs": [],
   "source": [
    "#Longest FG Made by each Team over the Years\n",
    "kickers_longFG = kickers_df2.pivot_table(index='Team',columns='Year',values='Longest FG Made',\n",
    "                                        aggfunc=['max'],fill_value=0)\n",
    "kickers_longFG"
   ]
  },
  {
   "cell_type": "code",
   "execution_count": null,
   "id": "1e7a8a4d",
   "metadata": {
    "id": "1e7a8a4d",
    "outputId": "e896923a-2c2f-4332-ad9f-b74c40cc1c71"
   },
   "outputs": [],
   "source": [
    "# Who made the longest Field Goal??\n",
    "longest_FG_details=(kickers_df2[kickers_df2['Longest FG Made'] == kickers_df2['Longest FG Made'].max()])\n",
    "\n",
    "print ('Team:',longest_FG_details['Team'].to_string(index=False),'\\n',\n",
    "      'Year:',longest_FG_details['Year'].to_string(index=False),'\\n',\n",
    "      'Player Name:',longest_FG_details['Name'].to_string(index=False),'\\n',\n",
    "      'Total Distance:',longest_FG_details['Longest FG Made'].to_string(index=False))"
   ]
  },
  {
   "cell_type": "code",
   "execution_count": null,
   "id": "06283653",
   "metadata": {
    "id": "06283653",
    "outputId": "8c640c03-1863-4d2f-d425-554d40c15698"
   },
   "outputs": [],
   "source": [
    "#Table to display FG's attempted vs FG's Made by Teams over the Year\n",
    "kickers_chart=(kickers_df2.pivot_table(index='Team', columns='Year',values=['FGs Attempted','FGs Made'],\n",
    "                                      aggfunc='sum',fill_value=0))\n",
    "kickers_chart"
   ]
  },
  {
   "cell_type": "code",
   "execution_count": null,
   "id": "9e3aece0",
   "metadata": {
    "id": "9e3aece0",
    "outputId": "9b87bee9-e247-4d11-c3c3-d6371936fd0f"
   },
   "outputs": [],
   "source": [
    "# plot of FGs attempted vs FGs Made\n",
    "dplot = kickers_chart.plot.bar(stacked=False)\n",
    "labels = ['Attempted', 'Made']\n",
    "leglabs = ['FG Attempted', 'FG Made']\n",
    "dplot.legend(leglabs)\n",
    "dplot.set_ylabel('Number of FGs')\n",
    "dplot.set_xlabel('FGs: Attempted, Made')\n",
    "dplot.set_title('FGs attmepted vs FGs Made')\n",
    "#dplot.set_xticklabels(labels)\n",
    "\n",
    "print(dplot)"
   ]
  },
  {
   "cell_type": "code",
   "execution_count": null,
   "id": "714f3579",
   "metadata": {
    "id": "714f3579",
    "outputId": "a5689cfe-ff8d-41b0-d832-0e99b3492a42"
   },
   "outputs": [],
   "source": [
    "#Table to display FG's attempted vs FG's Made by Teams over the Year from 2010 thru 2016\n",
    "kickers_df3= kickers_df2[kickers_df2.Year > 2010]\n",
    "kickers_50chart=(kickers_df3.pivot_table(index='Team', columns='Year',values=['FGs Attempted 50+ Yards','FGs Made 50+ Yards'],\n",
    "                                      aggfunc='sum',fill_value=0))\n",
    "kickers_50chart\n"
   ]
  },
  {
   "cell_type": "code",
   "execution_count": null,
   "id": "f1b390c7",
   "metadata": {
    "id": "f1b390c7"
   },
   "outputs": [],
   "source": [
    "#Plotting for 50+ Yards Field Goals\n",
    "kickers_50chart_total=kickers_df3.pivot_table(index='Year',values=['FGs Attempted 50+ Yards','FGs Made 50+ Yards'],\n",
    "                                      aggfunc='sum',fill_value=0)"
   ]
  },
  {
   "cell_type": "code",
   "execution_count": null,
   "id": "0245aa03",
   "metadata": {
    "id": "0245aa03",
    "outputId": "5fc104f6-07db-4df9-eff4-6cbff76a775c"
   },
   "outputs": [],
   "source": [
    "kickers_50chart_total[['FGs Attempted 50+ Yards','FGs Made 50+ Yards']].plot(kind='bar',stacked=False,figsize=(10,10),title= '50+ Yards FG Stats')\n",
    "            \n",
    "    "
   ]
  },
  {
   "cell_type": "code",
   "execution_count": null,
   "id": "d699f00b",
   "metadata": {
    "id": "d699f00b",
    "outputId": "65981a08-991e-4641-d4f4-31cef79b6b03"
   },
   "outputs": [],
   "source": [
    "kickers_50chart_stack=kickers_50chart.stack()\n",
    "kickers_50chart_stack=kickers_50chart_stack[kickers_50chart_stack>0]\n",
    "kickers_50chart_stack"
   ]
  },
  {
   "cell_type": "code",
   "execution_count": null,
   "id": "f09eefa6",
   "metadata": {
    "id": "f09eefa6",
    "outputId": "28fb36a1-e469-4a26-f0d7-413bb26c0c9d"
   },
   "outputs": [],
   "source": [
    "# creating a pie chart of 50+ Yard Field Goals\n",
    "explode = (0.1, 0.1, 0.1, 0.1, 0.1, 0.1)\n",
    "kickers_50chart_stack.groupby(['Year']).sum().plot(kind='pie', y='FGs Made 50+ Yards',\n",
    "                                                   explode=explode, autopct='%1.1f%%',\n",
    "                                                   counterclock=False, shadow=True,\n",
    "                                                   legend=None,\n",
    "                                                  title='Percentage of 50+ Yard FGs over the Years')  "
   ]
  },
  {
   "cell_type": "code",
   "execution_count": null,
   "id": "68a676c9",
   "metadata": {
    "id": "68a676c9"
   },
   "outputs": [],
   "source": [
    "#Observation: Looking at the above, highest% of 50+Yard Field Goals came in 2015 (for a period of 2011 thru 2016)"
   ]
  },
  {
   "cell_type": "code",
   "execution_count": null,
   "id": "b7392922",
   "metadata": {
    "id": "b7392922",
    "outputId": "55798a10-a5e6-4ed1-eaae-15d35eeef6af"
   },
   "outputs": [],
   "source": [
    "#Table to display FG's attempted vs FG's Made by Teams over the Year\n",
    "kickers_chart_FGMade=(kickers_df2.pivot_table(index='Year', values=['FGs Attempted','FGs Made'],\n",
    "                                      aggfunc='sum',fill_value=0))\n",
    "kickers_chart_FGMade"
   ]
  },
  {
   "cell_type": "code",
   "execution_count": null,
   "id": "428448f4",
   "metadata": {
    "id": "428448f4",
    "outputId": "b3c78de9-8012-4a83-f1dc-e6944aed1d9d"
   },
   "outputs": [],
   "source": [
    "#Generic Trend on Field Goals # shows \n",
    "    \n",
    "kickers_chart_FGMade[['FGs Attempted','FGs Made']].plot(kind='bar',stacked=False,\n",
    "                                                       title='FGs over the Years')"
   ]
  },
  {
   "cell_type": "markdown",
   "id": "8fbc8d95",
   "metadata": {},
   "source": [
    "# Wind speeds (not normalized)"
   ]
  },
  {
   "cell_type": "code",
   "execution_count": null,
   "id": "4e4ea9cc",
   "metadata": {
    "id": "4e4ea9cc"
   },
   "outputs": [
    {
     "ename": "NameError",
     "evalue": "name 'px' is not defined",
     "output_type": "error",
     "traceback": [
      "\u001b[1;31m---------------------------------------------------------------------------\u001b[0m",
      "\u001b[1;31mNameError\u001b[0m                                 Traceback (most recent call last)",
      "\u001b[1;32m~\\AppData\\Local\\Temp\\1/ipykernel_26432/2385519228.py\u001b[0m in \u001b[0;36m<module>\u001b[1;34m\u001b[0m\n\u001b[0;32m      4\u001b[0m \u001b[1;33m\u001b[0m\u001b[0m\n\u001b[0;32m      5\u001b[0m \u001b[0mgames\u001b[0m\u001b[1;33m[\u001b[0m\u001b[1;34m'abs_result'\u001b[0m\u001b[1;33m]\u001b[0m \u001b[1;33m=\u001b[0m \u001b[0mgames\u001b[0m\u001b[1;33m.\u001b[0m\u001b[0mresult\u001b[0m\u001b[1;33m.\u001b[0m\u001b[0mabs\u001b[0m\u001b[1;33m(\u001b[0m\u001b[1;33m)\u001b[0m\u001b[1;33m\u001b[0m\u001b[1;33m\u001b[0m\u001b[0m\n\u001b[1;32m----> 6\u001b[1;33m \u001b[0mfig\u001b[0m\u001b[1;33m=\u001b[0m\u001b[0mpx\u001b[0m\u001b[1;33m.\u001b[0m\u001b[0mbox\u001b[0m\u001b[1;33m(\u001b[0m\u001b[0mgames\u001b[0m\u001b[1;33m,\u001b[0m \u001b[0mx\u001b[0m\u001b[1;33m=\u001b[0m\u001b[0mgames\u001b[0m\u001b[1;33m.\u001b[0m\u001b[0mwhere\u001b[0m\u001b[1;33m(\u001b[0m\u001b[0mgames\u001b[0m\u001b[1;33m.\u001b[0m\u001b[0mwind\u001b[0m\u001b[1;33m.\u001b[0m\u001b[0mabs\u001b[0m\u001b[1;33m(\u001b[0m\u001b[1;33m)\u001b[0m \u001b[1;33m<\u001b[0m \u001b[1;36m50\u001b[0m\u001b[1;33m)\u001b[0m\u001b[1;33m[\u001b[0m\u001b[1;34m'wind'\u001b[0m\u001b[1;33m]\u001b[0m\u001b[1;33m,\u001b[0m \u001b[0my\u001b[0m\u001b[1;33m=\u001b[0m\u001b[1;34m'abs_result'\u001b[0m\u001b[1;33m,\u001b[0m \u001b[0mhover_data\u001b[0m\u001b[1;33m=\u001b[0m\u001b[0mgames\u001b[0m\u001b[1;33m.\u001b[0m\u001b[0mcolumns\u001b[0m\u001b[1;33m,\u001b[0m \u001b[0mpoints\u001b[0m\u001b[1;33m=\u001b[0m\u001b[1;34m'all'\u001b[0m\u001b[1;33m,\u001b[0m \u001b[0mwidth\u001b[0m\u001b[1;33m=\u001b[0m\u001b[1;36m1000\u001b[0m\u001b[1;33m)\u001b[0m\u001b[1;33m\u001b[0m\u001b[1;33m\u001b[0m\u001b[0m\n\u001b[0m\u001b[0;32m      7\u001b[0m \u001b[0mfig\u001b[0m\u001b[1;33m.\u001b[0m\u001b[0mupdate_layout\u001b[0m\u001b[1;33m(\u001b[0m\u001b[1;33m{\u001b[0m\u001b[1;34m'plot_bgcolor'\u001b[0m\u001b[1;33m:\u001b[0m \u001b[1;34m'black'\u001b[0m\u001b[1;33m,\u001b[0m\u001b[1;34m'paper_bgcolor'\u001b[0m\u001b[1;33m:\u001b[0m \u001b[1;34m'white'\u001b[0m\u001b[1;33m,\u001b[0m\u001b[1;33m}\u001b[0m\u001b[1;33m)\u001b[0m\u001b[1;33m\u001b[0m\u001b[1;33m\u001b[0m\u001b[0m\n\u001b[0;32m      8\u001b[0m \u001b[0mfig\u001b[0m\u001b[1;33m.\u001b[0m\u001b[0mupdate_layout\u001b[0m\u001b[1;33m(\u001b[0m\u001b[0mtitle\u001b[0m\u001b[1;33m=\u001b[0m\u001b[1;33m{\u001b[0m\u001b[1;34m\"text\"\u001b[0m\u001b[1;33m:\u001b[0m \u001b[1;34m\"Effects of Wind Speed\"\u001b[0m\u001b[1;33m,\u001b[0m \u001b[1;34m\"x\"\u001b[0m\u001b[1;33m:\u001b[0m \u001b[1;36m0.5\u001b[0m\u001b[1;33m}\u001b[0m\u001b[1;33m)\u001b[0m\u001b[1;33m\u001b[0m\u001b[1;33m\u001b[0m\u001b[0m\n",
      "\u001b[1;31mNameError\u001b[0m: name 'px' is not defined"
     ]
    }
   ],
   "source": [
    "# Effects of wind speeds - Team Scores per game. \n",
    "# Box plot showing all points to see outliers\n",
    "# This takes care of the outliers for wind       x= games.where(games.wind.abs() < 50)['wind']     \n",
    "\n",
    "games['abs_result'] = games.result.abs()\n",
    "fig=px.box(games, x=games.where(games.wind.abs() < 50)['wind'], y='abs_result', hover_data=games.columns, points='all', width=1000)\n",
    "fig.update_layout({'plot_bgcolor': 'black','paper_bgcolor': 'white',})\n",
    "fig.update_layout(title={\"text\": \"Effects of Wind Speed\", \"x\": 0.5})\n",
    "fig.update_layout(yaxis_title=\"Team Result\")\n",
    "fig.update_layout(xaxis_title=\"Wind Speed\")\n",
    "fig.show()"
   ]
  },
  {
   "cell_type": "code",
   "execution_count": null,
   "id": "313c1a2a",
   "metadata": {},
   "outputs": [],
   "source": [
    "# Effects of wind speeds - Game Score per game. \n",
    "# Box plot showing all points to see outliers\n",
    "# This takes care of the outliers for wind       x= games.where(games.wind.abs() < 50)['wind']    \n",
    "\n",
    "\n",
    "fig=px.box(games, x=games.where(games.wind.abs() < 50)['wind'], y='total', hover_data=games.columns, points='all', width=1000)\n",
    "# x is adjusted to remove outlier wind conditions\n",
    "\n",
    "fig.update_layout({'plot_bgcolor': 'black','paper_bgcolor': 'white',})   #  Set background color\n",
    "\n",
    "fig.update_layout(title={\"text\": \"Effects of Wind Speed\", \"x\": 0.5})    # Set Title\n",
    "fig.update_layout(yaxis_title=\"Game Score\")\n",
    "fig.update_layout(xaxis_title=\"Wind Speed\")\n",
    "fig.show()"
   ]
  },
  {
   "cell_type": "code",
   "execution_count": null,
   "id": "e8f50125",
   "metadata": {},
   "outputs": [],
   "source": [
    "p_games= games[games['wind']>1]\n",
    "\n",
    "\n",
    "p_games[['wind','total']].corr()\n",
    "\n"
   ]
  },
  {
   "cell_type": "markdown",
   "id": "423a7050",
   "metadata": {},
   "source": [
    "# Wind speeds (normalized)"
   ]
  },
  {
   "cell_type": "code",
   "execution_count": null,
   "id": "d6b7f17f",
   "metadata": {},
   "outputs": [],
   "source": [
    "# This set of code will build a  list of team \n",
    "# then build a function which gets the mean score for that season\n",
    "# the data output is team, season, mean score for each team in NFL\n",
    "# Finally the data will be merged back to original complete df\n",
    "# \n",
    "# Normalized home and away scoring is displayed. \n",
    "\n",
    "teams =  games.home_team.unique()       \n",
    "asbs = pd.DataFrame()\n",
    "for team in teams:\n",
    "    tdf = games[(games.home_team == team) |  (games.away_team == team)]    # look through both home and away team list\n",
    "    tdf['team'] = team\n",
    "    def get_score(ser):\n",
    "        if ser.home_team == team:\n",
    "            return ser.home_score\n",
    "        else:\n",
    "            return ser.away_score\n",
    "    tdf['score'] = tdf.apply(get_score, axis=1)    # axis=1 applies a function across each row\n",
    "    tdf = tdf.groupby(['team','season']).score.mean().reset_index()\n",
    "    asbs = asbs.append(tdf, ignore_index=True)\n",
    "asbs\n",
    "\n",
    "# merging data back\n",
    "tgames = games.merge(asbs, left_on=['season', 'home_team'], right_on=['season', 'team'])\n",
    "tgames = tgames.rename(columns={'score':'score_home_avg'})\n",
    "tgames = tgames.merge(asbs, left_on=['season', 'away_team'], right_on=['season', 'team'])\n",
    "tgames = tgames.rename(columns={'score':'score_away_avg'})\n",
    "\n",
    "tgames['home_score_norm'] = tgames.home_score/tgames.score_home_avg\n",
    "tgames['away_score_norm'] = tgames.away_score/tgames.score_away_avg\n",
    "tgames['total_score_norm'] = tgames.home_score_norm + tgames.away_score_norm\n",
    "\n",
    "tgames\n",
    "\n",
    "# Effects of wind speeds -(Normalized)\n",
    "fig=px.box(tgames, x='wind', y='total_score_norm',  points='all', height=400, width= 1000)\n",
    "fig.update_layout({'plot_bgcolor': 'black','paper_bgcolor': 'white',})   #  Set background color\n",
    "fig.update_layout(title={\"text\": \"Effects of Wind Speed (Normalized)\", \"x\": 0.5})\n",
    "fig.update_layout(yaxis_title=\"Game Score\")\n",
    "fig.update_layout(xaxis_title=\"Wind Speed\")\n",
    "fig.show()"
   ]
  },
  {
   "cell_type": "markdown",
   "id": "da572d15",
   "metadata": {},
   "source": [
    "# Wind Speeds (by Teams)"
   ]
  },
  {
   "cell_type": "code",
   "execution_count": null,
   "id": "db4b06a2",
   "metadata": {},
   "outputs": [],
   "source": [
    "tgames['abs_result'] = tgames.result.abs()\n",
    "descending_order = tgames['home_team'].value_counts().sort_values(ascending=False).index\n",
    "fig = px.bar(tgames, x=\"home_team\", y=tgames['abs_result'],color='who_won', barmode='group',height=400, width= 1000) \n",
    "fig.update_layout({'plot_bgcolor': 'black','paper_bgcolor': 'white',})   #  Set background color\n",
    "fig.update_layout(title={\"text\": \"Effects of Wind Speed (by each NFL team)\", \"x\": 0.5})\n",
    "fig.update_layout(yaxis_title=\"Game Score\")\n",
    "fig.update_layout(xaxis_title=\"Wind Speed\")\n",
    "fig.show()"
   ]
  },
  {
   "cell_type": "code",
   "execution_count": null,
   "id": "bb58921d",
   "metadata": {},
   "outputs": [],
   "source": [
    "xgames = tgames.groupby(['home_team','who_won']).count()\n",
    "xgames.reset_index(level=0, inplace=True)\n",
    "type(xgames)\n",
    "tgames['who_won']\n",
    "#fig = px.funnel(games, x=\"home_team\", y=\"who_won\",color='who_won')\n",
    "#fig.show()"
   ]
  },
  {
   "cell_type": "code",
   "execution_count": null,
   "id": "7b42f465",
   "metadata": {},
   "outputs": [],
   "source": [
    "\n",
    "fig,ax = plt.subplots(figsize=(12,18))\n",
    "descending_order = games['wind'].value_counts().sort_values(ascending=False).index\n",
    "sns.countplot(data=games,y=\"wind\",order=descending_order)\n",
    "ax.set_title('')\n",
    "\n",
    "games['wind'].describe()"
   ]
  },
  {
   "cell_type": "code",
   "execution_count": null,
   "id": "9fd4d9e5",
   "metadata": {},
   "outputs": [],
   "source": [
    "games['wind1'] = pd.cut(x=games['wind'], bins=[0,5,10,15,20,25,30,40,80], \n",
    "                labels=['5','10','15','20','25','30','40','80'])\n",
    "\n",
    "games.wind1.head()\n",
    "games_wind_categories = games.groupby(['wind1','who_won']).size().unstack()\n",
    "games_wind_categories['win_perc'] = games_wind_categories['Home_team']/games_wind_categories['Away_team']\n",
    "games_wind_categories\n",
    "games_wind_categories.plot(y='win_perc',kind='line',stacked=False,title='Home Team Win Record (wind)', legend=False,ylabel='Home Team Win Record',xlabel='Average Winds (mph)')"
   ]
  },
  {
   "cell_type": "markdown",
   "id": "2a729004",
   "metadata": {},
   "source": [
    "# Wind speeds (correlations)"
   ]
  },
  {
   "cell_type": "code",
   "execution_count": null,
   "id": "2d7dbc5d",
   "metadata": {},
   "outputs": [],
   "source": [
    "games[['temp','wind', 'total']].corr()"
   ]
  },
  {
   "cell_type": "markdown",
   "id": "15cc05ae",
   "metadata": {},
   "source": [
    "# Wind speeds, Categorizations (New Columns)"
   ]
  },
  {
   "cell_type": "code",
   "execution_count": null,
   "id": "21293755",
   "metadata": {},
   "outputs": [],
   "source": [
    "# Now we determine which team won based on results column\n",
    "# (-) negative result shows home win lost\n",
    "# (+) Positive result shows home team won\n",
    "# This will add a new column to the df specifying win/loss for home team\n",
    "\n",
    "games['result'].isna().sum()        # Look to see how many are nulls in the result column\n",
    "\n",
    "def who_won(x):\n",
    "    x = int(x)\n",
    "    if x < 0 :\n",
    "        return 'Away_team'\n",
    "    elif x > 0 :\n",
    "        return 'Home_team'\n",
    "    elif x == 0:\n",
    "        return 'Tie'\n",
    "\n",
    "# Here we use (not = isna) and use function to determine if home team won/lost\n",
    "games['who_won'] = games[~games['result'].isna()].result.apply(who_won)\n",
    "\n",
    "games.head(1)\n"
   ]
  },
  {
   "cell_type": "code",
   "execution_count": null,
   "id": "bf4aaa73",
   "metadata": {},
   "outputs": [],
   "source": [
    "# Now we will categorize the wind speeds\n",
    "# and create a variable (column) called wind_category\n",
    "\n",
    "def wind_category(x):\n",
    "    if x == 0 or x==None:\n",
    "        return 'No Speed'\n",
    "    elif x > 0 and x <= 15:\n",
    "        return 'Low Speed'\n",
    "    elif x > 15 and x <= 30:\n",
    "        return 'Medium Speed'\n",
    "    elif x > 30 and x <= 45:\n",
    "        return 'High Speed'\n",
    "    elif x > 45 :\n",
    "        return 'Extreme Speed'\n",
    "    \n",
    "games['wind_category'] = games['wind'].apply(wind_category)\n",
    "##verify the def worked\n",
    "\n",
    "\n",
    "games = games.convert_dtypes()\n",
    "#print(games['wind'].dtypes)\n"
   ]
  },
  {
   "cell_type": "markdown",
   "id": "ed00c420",
   "metadata": {},
   "source": [
    "# Wind condition, Stats like Mean & Median"
   ]
  },
  {
   "cell_type": "code",
   "execution_count": null,
   "id": "15b06702",
   "metadata": {},
   "outputs": [],
   "source": [
    "# mean\n",
    "games.wind.describe()\n",
    "games.where(games.wind.abs() < 50)['wind'].mean()"
   ]
  },
  {
   "cell_type": "code",
   "execution_count": null,
   "id": "e1a7e400",
   "metadata": {},
   "outputs": [],
   "source": [
    "# median\n",
    "games.where(games.wind.abs() < 50)['wind'].median()"
   ]
  },
  {
   "cell_type": "markdown",
   "id": "7a22e34c",
   "metadata": {},
   "source": [
    "# Wind Speeds (time based)"
   ]
  },
  {
   "cell_type": "code",
   "execution_count": null,
   "id": "1c287734",
   "metadata": {},
   "outputs": [],
   "source": [
    "games['abs_result'] = games.result.abs()\n",
    "fig=px.box(games, x='season', y='total', color='wind_category',hover_data=games.columns, points='all')\n",
    "fig.update_layout(title={\"text\": \"Effects of Wind Speed\", \"x\": 0.5})\n",
    "fig.update_layout(yaxis_title=\"Game Spread\")\n",
    "fig.update_layout(xaxis_title=\"Year (season)\")\n",
    "fig.show()"
   ]
  },
  {
   "cell_type": "code",
   "execution_count": null,
   "id": "ed1ce8be",
   "metadata": {},
   "outputs": [],
   "source": [
    "# Effects of wind speeds - Total Game Score on yearly basis\n",
    "fig = px.bar(games, x=\"season\", y=\"total\",color='wind_category', barmode='group',height=400, width= 1000)\n",
    "fig.update_layout({'plot_bgcolor': 'black','paper_bgcolor': 'white',})   #  Set background color\n",
    "fig.update_layout(title={\"text\": \"Effects of Wind Speed - Year over year\", \"x\": 0.5})    # Set Title\n",
    "fig.update_layout(yaxis_title=\"Game Score\")\n",
    "fig.update_layout(xaxis_title=\"Wind Speed\")\n",
    "fig.show()\n"
   ]
  },
  {
   "cell_type": "code",
   "execution_count": null,
   "id": "0098057d",
   "metadata": {},
   "outputs": [],
   "source": [
    "# Effects of wind speeds - Total Game Score on yearly basis\n",
    "fig = px.bar(games, x=\"season\", y=\"total\",color='who_won', barmode='group',height=400, width= 1000)\n",
    "fig.update_layout({'plot_bgcolor': 'black','paper_bgcolor': 'white',})   #  Set background color\n",
    "fig.update_layout(title={\"text\": \"Effects of Wind Speed - Year over year\", \"x\": 0.5})    # Set Title\n",
    "fig.update_layout(yaxis_title=\"Game Score\")\n",
    "fig.update_layout(xaxis_title=\"Wind Speed\")\n",
    "fig.show()"
   ]
  },
  {
   "cell_type": "markdown",
   "id": "c9c3c08f",
   "metadata": {},
   "source": [
    "# HomeTeam Winning Record"
   ]
  },
  {
   "cell_type": "code",
   "execution_count": null,
   "id": "d25cac24",
   "metadata": {},
   "outputs": [],
   "source": [
    "def Hometeam_won(x):\n",
    "    if x >= 0 :\n",
    "        return 1\n",
    "    else:\n",
    "        return 0\n",
    "    \n",
    "games['Hometeam_won'] = games[~games['result'].isna()].result.apply(Hometeam_won)\n",
    "##verify the def worked\n",
    "games[['home_team','season','Hometeam_won']].head(5)\n",
    "\n",
    "games.groupby(['home_team','season','Hometeam_won']).count()\n",
    "#games.reset_index(level=0, inplace=True)\n",
    "games.head(2)\n",
    "games.where(games['Hometeam_won']==1).groupby(['home_team','season']).count()\n"
   ]
  },
  {
   "cell_type": "markdown",
   "id": "5ff74be5",
   "metadata": {},
   "source": [
    "## CALCULATE:   Season Wins, Season Losses, Home Wins, Home Losses"
   ]
  },
  {
   "cell_type": "code",
   "execution_count": null,
   "id": "c087ca99",
   "metadata": {},
   "outputs": [],
   "source": [
    "# Season Wins ------------------------------------------------------------------------------------------------\n",
    "teams =  games.home_team.unique()\n",
    "asbs = pd.DataFrame()\n",
    "for team in teams:\n",
    "    tdf = games[(games.home_team == team) |  (games.away_team == team)]\n",
    "    tdf['team1'] = team\n",
    "    def get_wins(ser):\n",
    "        if ser.home_team == team:\n",
    "            if ser.result > 0:\n",
    "                return 1\n",
    "            else:\n",
    "                return 0\n",
    "        elif ser.away_team == team:\n",
    "            if ser.result <0:\n",
    "                return 1\n",
    "            else: \n",
    "                return 0\n",
    "    tdf['season_wins'] = tdf.apply(get_wins, axis=1)    # axis=1 applies a function across each row\n",
    "    tdf = tdf.groupby(['team1','season']).season_wins.sum().reset_index()\n",
    "    asbs = asbs.append(tdf, ignore_index=True)\n",
    "asbs\n",
    "games = games.merge(asbs, left_on=['season', 'home_team'], right_on=['season', 'team1'])\n",
    "games = games.rename(columns={'season_wins':'season_wins'})\n",
    "\n",
    "\n",
    "# Season Losses ------------------------------------------------------------------------------------------------\n",
    "teams =  games.home_team.unique()\n",
    "asbs = pd.DataFrame()\n",
    "for team in teams:\n",
    "    tdf = games[(games.home_team == team) |  (games.away_team == team)]\n",
    "    tdf['team'] = team\n",
    "    def get_losses(ser):\n",
    "        if ser.home_team == team:\n",
    "            if ser.result < 0:\n",
    "                return 1\n",
    "            else:\n",
    "                return 0\n",
    "        elif ser.away_team == team:\n",
    "            if ser.result > 0:\n",
    "                return 1\n",
    "            else: \n",
    "                return 0\n",
    "    tdf['season_losses'] = tdf.apply(get_losses, axis=1)    # axis=1 applies a function across each row\n",
    "    tdf = tdf.groupby(['team','season']).season_losses.sum().reset_index()\n",
    "    asbs = asbs.append(tdf, ignore_index=True)\n",
    "asbs\n",
    "games = games.merge(asbs, left_on=['season', 'home_team'], right_on=['season', 'team'])\n",
    "games = games.rename(columns={'season_losses':'season_losses'})\n",
    "\n",
    "\n",
    "# Home Wins ------------------------------------------------------------------------------------------------\n",
    "teams =  games.home_team.unique()\n",
    "asbs = pd.DataFrame()\n",
    "for team in teams:\n",
    "    tdf = games[(games.home_team == team) |  (games.away_team == team)]\n",
    "    tdf['team'] = team\n",
    "    def home_wins(ser):\n",
    "        if ser.home_team == team:\n",
    "            if ser.result > 0:\n",
    "                return 1\n",
    "            else:\n",
    "                return 0\n",
    "    tdf['home_wins'] = tdf.apply(home_wins, axis=1)    # axis=1 applies a function across each row\n",
    "    tdf = tdf.groupby(['team','season']).home_wins.sum().reset_index()\n",
    "    asbs = asbs.append(tdf, ignore_index=True)\n",
    "asbs\n",
    "games = games.merge(asbs, left_on=['season', 'home_team'], right_on=['season', 'team'])\n",
    "games = games.rename(columns={'home_wins':'home_wins'})\n",
    "\n",
    "\n",
    "# Home losses ------------------------------------------------------------------------------------------------\n",
    "teams =  games.home_team.unique()\n",
    "asbs = pd.DataFrame()\n",
    "for team in teams:\n",
    "    tdf = games[(games.home_team == team) |  (games.away_team == team)]\n",
    "    tdf['team'] = team\n",
    "    def home_losses(ser):\n",
    "        if ser.home_team == team:\n",
    "            if ser.result < 0:\n",
    "                return 1\n",
    "            else:\n",
    "                return 0\n",
    "\n",
    "    tdf['home_losses'] = tdf.apply(home_losses, axis=1)    # axis=1 applies a function across each row\n",
    "    tdf = tdf.groupby(['team','season']).home_losses.sum().reset_index()\n",
    "    asbs = asbs.append(tdf, ignore_index=True)\n",
    "asbs\n",
    "games = games.merge(asbs, left_on=['season', 'home_team'], right_on=['season', 'team'])\n",
    "games = games.rename(columns={'home_losses':'home_losses'})\n",
    "games['season_win_percentage'] = games.season_wins/(games.season_wins + games.season_losses)\n",
    "games['home_win_percentage'] = games.home_wins/(games.home_wins+games.home_losses)\n",
    "\n",
    "\n",
    "#px.parallel_categories(asbs,dimensions=[\"season\",\"win_perc\",\"team\"], color = 'win_perc')"
   ]
  },
  {
   "cell_type": "code",
   "execution_count": null,
   "id": "665dcccb",
   "metadata": {},
   "outputs": [],
   "source": [
    "Agames= games.drop_duplicates([\"season\",\"home_team\"])[[\"season\",\"home_team\",\"season_win_percentage\",\"home_win_percentage\"]]\n",
    "Agames.home_win_percentage.median()\n",
    "ser = Agames.groupby('home_team').home_win_percentage.median()\n",
    "ser.name = 'hwp_median'\n",
    "Agames = Agames.set_index('home_team').join(ser).sort_values('hwp_median', ascending=True).reset_index()\n",
    "Agames\n",
    "fig = px.bar(Agames, x=\"home_team\", y=\"home_team\", color = 'home_win_percentage',barmode='group',height=400, width= 1000)\n",
    "fig.update_layout({'plot_bgcolor': 'black','paper_bgcolor': 'white',})   #  Set background color\n",
    "fig.update_layout(title={\"text\": \"Home Teams Win Percentage\", \"x\": 0.5})\n",
    "fig.update_layout(yaxis_title=\"Win Percentage (wins)\")\n",
    "fig.update_layout(xaxis_title=\"Teams\")\n",
    "fig.show()\n",
    "\n"
   ]
  },
  {
   "cell_type": "code",
   "execution_count": null,
   "id": "a4075c39",
   "metadata": {},
   "outputs": [],
   "source": [
    "fig,ax = plt.subplots(figsize=(17,8))\n",
    "descending_order = Agames['home_team'].value_counts().sort_values(ascending=False).index\n",
    "sns.boxplot(data=Agames,x=\"home_win_percentage\",y=\"home_team\", palette='muted')\n",
    "ax.set_title('Best Home Winning Teams')"
   ]
  },
  {
   "cell_type": "code",
   "execution_count": null,
   "id": "8077123f",
   "metadata": {},
   "outputs": [],
   "source": [
    "\n",
    "fig = px.scatter_3d(games,x='season', y='season_wins',z='team_x',color='season_wins', size='season_wins',height=400, width= 1000)\n",
    "fig.update_layout({'plot_bgcolor': 'black','paper_bgcolor': 'white',})   #  Set background color\n",
    "fig.update_layout(title={\"text\": \"Home Teams Win Percentage\", \"x\": 0.5})\n",
    "fig.update_layout(yaxis_title=\"Seasons\")\n",
    "fig.update_layout(xaxis_title=\"Teams\")\n",
    "fig.show()"
   ]
  },
  {
   "cell_type": "code",
   "execution_count": null,
   "id": "42cbec8b",
   "metadata": {},
   "outputs": [],
   "source": [
    "games.groupby(['season', 'team_x', 'season_wins'],sort=True).count()"
   ]
  },
  {
   "cell_type": "code",
   "execution_count": null,
   "id": "ca281f48",
   "metadata": {},
   "outputs": [],
   "source": [
    "px.bar(games, x='team_x',y='season_wins', barmode = \"group\", color = \"season_wins\")"
   ]
  },
  {
   "cell_type": "code",
   "execution_count": null,
   "id": "8a730fb9",
   "metadata": {},
   "outputs": [],
   "source": [
    "px.parallel_categories(games, dimensions=[\"season\", \"team_x\", \"season_wins\"],color='season_wins', height=1000, width=1000)"
   ]
  },
  {
   "cell_type": "markdown",
   "id": "99cc3406",
   "metadata": {},
   "source": [
    "# How does Temperature impact the game?"
   ]
  },
  {
   "cell_type": "code",
   "execution_count": null,
   "id": "6c6ac856",
   "metadata": {},
   "outputs": [],
   "source": [
    "\n",
    "fig=px.box(games, x='temp', y='total', hover_data=games.columns)\n",
    "fig.update_layout(title={\"text\": \"Effects of Temperature\", \"x\": 0.5})\n",
    "fig.update_layout(yaxis_title=\"Total Scores\")\n",
    "fig.update_layout(xaxis_title=\"Temperature\")\n",
    "fig.show()"
   ]
  },
  {
   "cell_type": "code",
   "execution_count": null,
   "id": "b90926d4",
   "metadata": {},
   "outputs": [],
   "source": [
    "#games['temp'].describe()\n",
    "fig,ax = plt.subplots(figsize=(12,18))\n",
    "descending_order = games['temp'].value_counts().sort_values(ascending=False).index\n",
    "sns.countplot(data=games,y=\"temp\",order=descending_order)\n",
    "ax.set_title('')"
   ]
  },
  {
   "cell_type": "code",
   "execution_count": null,
   "id": "89078369",
   "metadata": {},
   "outputs": [],
   "source": [
    "\n",
    "games['temp1'] = pd.cut(x=games['temp'], bins=[-10,0,10,20,30,40,50,60,70,80,90,100,110], \n",
    "                labels=['0s','10s','20s','30s','40s','50s','60s','70s','80s','90s','100s','110s'])\n",
    "\n",
    "games.temp1.head()"
   ]
  },
  {
   "cell_type": "code",
   "execution_count": null,
   "id": "b7e473fd",
   "metadata": {},
   "outputs": [],
   "source": [
    "games_temps_categories = games.groupby(['temp1','who_won']).size().unstack()\n",
    "games_temps_categories['win_perc'] = games_temps_categories['Home_team']/games_temps_categories['Away_team']\n",
    "games_temps_categories"
   ]
  },
  {
   "cell_type": "code",
   "execution_count": null,
   "id": "bad4bc33",
   "metadata": {},
   "outputs": [],
   "source": [
    "games_temps_categories.plot(y='win_perc',kind='line',stacked=False,title='Home Team Win Record (temperatures)', legend=False,ylabel='Home Team Win Record',xlabel='Temperature (F)')"
   ]
  },
  {
   "cell_type": "code",
   "execution_count": null,
   "id": "511b9f08",
   "metadata": {},
   "outputs": [],
   "source": [
    "fig = px.histogram(games, x='temp', color=\"who_won\",marginal=\"rug\",hover_data=games.columns, nbins=20)\n",
    "fig.update_layout(title={\"text\": \"Temperature Effects on Home Teams\", \"x\": 0.5})\n",
    "fig.update_layout(yaxis_title=\"# of games (Away or Home)\")\n",
    "fig.show()"
   ]
  },
  {
   "cell_type": "markdown",
   "id": "4c627f2c",
   "metadata": {},
   "source": [
    "# Projection    Pythagorean_Expectation"
   ]
  },
  {
   "cell_type": "code",
   "execution_count": null,
   "id": "46253967",
   "metadata": {},
   "outputs": [],
   "source": [
    "df = games[games.season == 2022]\n",
    "df = df[df.home_score.notnull()]\n",
    "\n",
    "teams = list(set(df.home_team.values))\n",
    "wins = []\n",
    "tot_games = []\n",
    "win_per = []\n",
    "py_wins = []\n",
    "total_points_for_list = []\n",
    "total_points_against_list = []\n",
    "\n",
    "for team in teams:\n",
    "    data_home = df[df.home_team == team]\n",
    "    data_away = df[df.away_team == team]\n",
    "\n",
    "    data_home['win'] = np.where(data_home.result > 0, 1, 0)\n",
    "    data_away['win'] = np.where(data_away.result < 0, 1, 0)\n",
    "\n",
    "    home_count = data_home.home_team.count()\n",
    "    away_count = data_away.away_team.count()\n",
    "\n",
    "    win_home = data_home.win.sum()\n",
    "    win_away = data_away.win.sum()\n",
    "\n",
    "    points_for_home = data_home.home_score.sum()\n",
    "    points_against_home = data_home.away_score.sum()\n",
    "\n",
    "    points_for_away = data_away.away_score.sum()\n",
    "    points_against_away = data_away.home_score.sum()\n",
    "\n",
    "    total_points_for = int(points_for_home + points_for_away)\n",
    "    total_points_against = int(points_against_home + points_against_away)\n",
    "\n",
    "    total_points_for_list.append(total_points_for)\n",
    "    total_points_against_list.append(total_points_against)\n",
    "     \n",
    "    total_games = home_count + away_count\n",
    "    tot_games.append(total_games)\n",
    "    total_games_left = 16 - total_games\n",
    "    total_wins = win_home + win_away\n",
    "    wins.append(total_wins)\n",
    "\n",
    "    win_per.append(total_wins/total_games)\n",
    "    exponent = 1.5 * np.log10((total_points_for + total_points_against)/total_games)\n",
    " \n",
    "    pythagorean_wins = round(Decimal(total_games_left*(total_points_for**exponent)/((total_points_for**exponent) + (total_points_against**exponent))), 2)\n",
    "    py_wins.append(pythagorean_wins)\n",
    "\n",
    "\n",
    "projected_wins = pd.DataFrame(list(zip(teams,  wins, tot_games, win_per)), columns =['Team', 'Current_Wins', 'Total_Games', 'Win_Rec'])\n",
    "projected_wins = pd.DataFrame(list(zip(teams, total_points_for_list, total_points_against_list, py_wins, wins)), columns =['Team', 'Points For', 'Points Against','Projected_Wins', 'Current_Wins'])\n",
    "projected_wins['Total_Projected_Wins'] = projected_wins.Projected_Wins + projected_wins.Current_Wins\n",
    "\n",
    "afc = ['PIT', 'KC', 'BAL', 'BUF', 'TEN', 'MIA', 'IND', 'LV', 'CLE', 'NE', 'LAC', 'CIN', 'DEN', 'HOU', 'JAX', 'NYJ']\n",
    "nfc = ['NO', 'GB', 'SEA', 'LA', 'ARI', 'TB', 'CHI', 'SF', 'MIN', 'PHI', 'DET', 'CAR', 'ATL', 'WAS', 'NYG', 'DAL']\n",
    "afc_wins = projected_wins[projected_wins.Team.isin(afc)].sort_values('Total_Projected_Wins', ascending = False).reset_index(drop = True)\n",
    "nfc_wins = projected_wins[projected_wins.Team.isin(nfc)].sort_values('Total_Projected_Wins', ascending = False).reset_index(drop = True)\n",
    "\n",
    "afc_wins = afc_wins[['Team', 'Total_Projected_Wins']]\n",
    "afc_wins.columns = ['Team', 'Wins']\n",
    " \n",
    "nfc_wins = nfc_wins[['Team', 'Total_Projected_Wins']]\n",
    "nfc_wins.columns = ['Team', 'Wins']\n",
    "\n",
    "COLORS = {'ARI':'#97233F','ATL':'#A71930','BAL':'#241773','BUF':'#00338D','CAR':'#0085CA','CHI':'#00143F',\n",
    "          'CIN':'#FB4F14','CLE':'#FB4F14','DAL':'#B0B7BC','DEN':'#002244','DET':'#046EB4','GB':'#24423C',\n",
    "          'HOU':'#C9243F','IND':'#003D79','JAX':'#136677','KC':'#CA2430','LA':'#002147','LAC':'#2072BA',\n",
    "          'MIA':'#0091A0','MIN':'#4F2E84','NE':'#0A2342','NO':'#A08A58','NYG':'#192E6C','NYJ':'#203731',\n",
    "          'LV':'#C4C9CC','PHI':'#014A53','PIT':'#FFC20E','SEA':'#7AC142','SF':'#C9243F','TB':'#D40909',\n",
    "          'TEN':'#4095D1','WAS':'#FFC20F'}\n",
    "\n"
   ]
  },
  {
   "cell_type": "code",
   "execution_count": null,
   "id": "29af0ad3",
   "metadata": {},
   "outputs": [],
   "source": [
    "def highlight_cols(s, coldict):\n",
    "    return ['background-color: {}'.format(COLORS[v]) if v else '' for v in afc_wins.Team.isin(COLORS.keys())*afc_wins.Team.values]\n",
    "\n",
    "(afc_wins.style\n",
    ".set_caption('AFC Teams Projection')\n",
    ".hide_index()\n",
    ".apply(highlight_cols, coldict=COLORS)\n",
    ".set_properties(**{'color':'white'})\n",
    ")\n"
   ]
  },
  {
   "cell_type": "code",
   "execution_count": null,
   "id": "b56e3e84",
   "metadata": {},
   "outputs": [],
   "source": [
    "def highlight_cols(s, coldict):\n",
    "    return ['background-color: {}'.format(COLORS[v]) if v else '' for v in nfc_wins.Team.isin(COLORS.keys())*nfc_wins.Team.values]\n",
    " \n",
    "(nfc_wins.style\n",
    ".set_caption('NFC Teams Projection')\n",
    ".hide_index()\n",
    ".apply(highlight_cols, coldict=COLORS)\n",
    ".set_properties(**{'color':'white'})\n",
    ")"
   ]
  }
 ],
 "metadata": {
  "colab": {
   "provenance": []
  },
  "kernelspec": {
   "display_name": "Python 3 (ipykernel)",
   "language": "python",
   "name": "python3"
  },
  "language_info": {
   "codemirror_mode": {
    "name": "ipython",
    "version": 3
   },
   "file_extension": ".py",
   "mimetype": "text/x-python",
   "name": "python",
   "nbconvert_exporter": "python",
   "pygments_lexer": "ipython3",
   "version": "3.9.12"
  },
  "vscode": {
   "interpreter": {
    "hash": "c0ada56f53182a1d0cc337d56d875dccd02cfbd7a9d08f33df86c576d3c18865"
   }
  }
 },
 "nbformat": 4,
 "nbformat_minor": 5
}
